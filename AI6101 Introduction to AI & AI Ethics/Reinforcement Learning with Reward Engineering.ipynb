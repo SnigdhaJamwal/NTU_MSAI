{
  "cells": [
    {
      "cell_type": "markdown",
      "metadata": {
        "id": "KgbFI7zZgb96"
      },
      "source": [
        "# Reinforcement Learning Assigment\n",
        "\n",
        "Name: Jamwal Snigdha <br>\n",
        "Matriculation Number: G2304207H <br>\n",
        "Email: SNIGDHA001@e.ntu.edu.sg\n"
      ]
    },
    {
      "cell_type": "markdown",
      "metadata": {
        "id": "sj0gFLH0r1I_"
      },
      "source": [
        "## ATTENTION <br>\n",
        "The given code has been modified to include reward engineering, multiple algorithms and increase code reusibility. The modified and added code is commented with \"ATTENTION\"."
      ]
    },
    {
      "cell_type": "code",
      "execution_count": null,
      "metadata": {
        "id": "ehHMJ829mzJc"
      },
      "outputs": [],
      "source": [
        "from typing import List, Tuple\n",
        "import copy\n",
        "import numpy as np\n",
        "import matplotlib.pyplot as plt\n",
        "%matplotlib inline\n",
        "import time"
      ]
    },
    {
      "cell_type": "markdown",
      "metadata": {
        "id": "UHqph9kA6wH7"
      },
      "source": [
        "The following class defines the grid world environment. The grid world looks like:\n",
        "\n",
        "```\n",
        "____________________________________________________________\n",
        "|___|_0_|_1_|_2_|_3_|_4_|_5_|_6_|_7_|_8_|_9_|_10|_11|_12|_13|\n",
        "|_0_|___|___|___|___|___|___|_x_|_x_|___|___|___|___|___|___|\n",
        "|_1_|___|___|___|___|___|___|_x_|_x_|___|___|___|___|___|___|\n",
        "|_2_|___|___|___|_x_|___|___|_x_|_x_|___|___|___|___|_x_|___|\n",
        "|_3_|___|___|___|_x_|___|___|_x_|___|___|___|___|_x_|_x_|___|\n",
        "|_4_|___|_B_|___|_x_|___|___|___|___|___|___|___|_x_|_x_|_G_|\n",
        "|_5_|_A_|___|___|_x_|___|___|___|___|___|___|___|_x_|_x_|___|\n",
        "```\n",
        "\n"
      ]
    },
    {
      "cell_type": "markdown",
      "metadata": {
        "id": "nfReuTi5wTh3"
      },
      "source": [
        "## Reward Engineering\n",
        "\n",
        "The original CliffBoxGridWorld class doesn't penalize the agent if it moved the box in a cell which is covered by cliffs on two connecting sides. Even though on doing this the game essentially ends because the agent can't move the box out of the corner without either the agent or box falling in the cliff. Therefore I have introduced a penalty of -1000 (same penalty as falling in the cliff) to ensure that the choosen model learns and reaches the optimum solution faster. The results of adding reward engineering is discussed further in Section"
      ]
    },
    {
      "cell_type": "code",
      "execution_count": null,
      "metadata": {
        "id": "-RMDF0A3oKfX"
      },
      "outputs": [],
      "source": [
        "AGENT = 'A'\n",
        "BOX = 'B'\n",
        "GOAL = 'G'\n",
        "DANGER = 'x'\n",
        "GRID = '_'\n",
        "\n",
        "\n",
        "class CliffBoxGridWorld:\n",
        "    \"\"\"\n",
        "    Cliff Box Pushing Grid World.\n",
        "    \"\"\"\n",
        "    action_space = [1, 2, 3, 4]\n",
        "    forces = {\n",
        "        1: np.array([-1, 0]),\n",
        "        2: np.array([1,  0]),\n",
        "        3: np.array([0, -1]),\n",
        "        4: np.array([0,  1]),\n",
        "    }\n",
        "    world_width = 14\n",
        "    world_height = 6\n",
        "    goal_pos = np.array([4, 13])\n",
        "    init_agent_pos = np.array([5, 0])\n",
        "    init_box_pos = np.array([4, 1])\n",
        "    danger_region = [\n",
        "        [(2, 3), (5, 3)],\n",
        "        [(0, 6), (3, 6)],\n",
        "        [(0, 7), (2, 7)],\n",
        "        [(3, 11), (5, 11)],\n",
        "        [(2, 12), (5, 12)],\n",
        "    ]\n",
        "\n",
        "    def __init__(self,\n",
        "                 episode_length=100,\n",
        "                 render=False,\n",
        "                 ):\n",
        "        \"\"\"\n",
        "        The grid world looks like:\n",
        "        ____________________________________________________________\n",
        "        |___|_0_|_1_|_2_|_3_|_4_|_5_|_6_|_7_|_8_|_9_|_10|_11|_12|_13|\n",
        "        |_0_|___|___|___|___|___|___|_x_|_x_|___|___|___|___|___|___|\n",
        "        |_1_|___|___|___|___|___|___|_x_|_x_|___|___|___|___|___|___|\n",
        "        |_2_|___|___|___|_x_|___|___|_x_|_x_|___|___|___|___|_x_|___|\n",
        "        |_3_|___|___|___|_x_|___|___|_x_|___|___|___|___|_x_|_x_|___|\n",
        "        |_4_|___|_B_|___|_x_|___|___|___|___|___|___|___|_x_|_x_|_G_|\n",
        "        |_5_|_A_|___|___|_x_|___|___|___|___|___|___|___|_x_|_x_|___|\n",
        "        \"\"\"\n",
        "        # Environment configurations.\n",
        "        self.episode_length = episode_length\n",
        "        self.render = render\n",
        "        self.agent_pos = self.init_agent_pos\n",
        "        self.box_pos = self.init_box_pos\n",
        "\n",
        "        # Visualization.\n",
        "        if self.render:\n",
        "            self.world = np.chararray((self.world_height, self.world_width))\n",
        "            self.last_agent_pos = copy.deepcopy(self.agent_pos)\n",
        "            self.last_box_pos = copy.deepcopy(self.box_pos)\n",
        "            self.world[:] = GRID\n",
        "            for region in self.danger_region:\n",
        "                A, B = region\n",
        "                assert A[1] == B[1], \"A[1] != B[1]\"\n",
        "                self.world[A[0]:B[0]+1, A[1]] = DANGER\n",
        "            self.world[self.agent_pos[0], self.agent_pos[1]] = AGENT\n",
        "            self.world[self.box_pos[0], self.box_pos[1]] = BOX\n",
        "            self.world[self.goal_pos[0], self.goal_pos[1]] = GOAL\n",
        "\n",
        "    def reset(self):\n",
        "        \"\"\"\n",
        "        Resets the environment.\n",
        "\n",
        "        Returns:\n",
        "            The initial state (agent position and box position).\n",
        "        \"\"\"\n",
        "        self.timesteps = 0\n",
        "        self.action_history = []\n",
        "        self.agent_pos = self.init_agent_pos\n",
        "        self.box_pos = self.init_box_pos\n",
        "\n",
        "        return tuple([*self.agent_pos.tolist(), *self.box_pos.tolist()])\n",
        "    ## ATTENTION: Reward engineering code added\n",
        "    def step(self, actions: int, reward_eng = False):\n",
        "        \"\"\"\n",
        "        Args: actions (a list of int).\n",
        "\n",
        "        Returns:\n",
        "            The next state, reward, done, info.\n",
        "        \"\"\"\n",
        "        self.action_history.append(actions)\n",
        "\n",
        "        # Update the state.\n",
        "        force = self.forces[actions]\n",
        "        # check if the agent is near the box\n",
        "        if np.sum(np.abs(self.agent_pos - self.box_pos)) == 1:\n",
        "            # check if box is moved\n",
        "            if all(self.agent_pos + force == self.box_pos):\n",
        "                # check out of boundary\n",
        "                self.box_pos = self._check_pos_boundary(pos=self.box_pos + force, box_hard_boundary=True)\n",
        "        # move the agent\n",
        "        new_agent_pos = self._check_pos_boundary(self.agent_pos + force)\n",
        "        if not all(new_agent_pos == self.box_pos):\n",
        "            self.agent_pos = new_agent_pos\n",
        "        state = tuple([*self.agent_pos.tolist(), *self.box_pos.tolist()])\n",
        "\n",
        "        # Calculate the rewards\n",
        "        done = self.timesteps == self.episode_length - 1\n",
        "        # the distance between agents and box\n",
        "        dist = np.sum(np.abs(self.agent_pos - self.box_pos))\n",
        "        reward = -1  # -1 for each step\n",
        "        reward -= dist\n",
        "        # if agents or box is off the cliff\n",
        "        if self._check_off_cliff(self.agent_pos) or self._check_off_cliff(self.box_pos):\n",
        "            reward += -1000\n",
        "            done = True\n",
        "\n",
        "        if all(self.box_pos == self.goal_pos):\n",
        "            reward += 1000\n",
        "            done = True\n",
        "\n",
        "        reward -= np.sum(np.abs(self.box_pos - self.goal_pos))\n",
        "\n",
        "        # gives negative reward when the box is pushed to a cell with cliffs on diagonal cells\n",
        "        if reward_eng and self._check_diag_cliff(self.box_pos):\n",
        "          reward += -1000\n",
        "\n",
        "\n",
        "        if self.render:\n",
        "            self._update_render()\n",
        "\n",
        "        self.timesteps += 1\n",
        "        info = {}\n",
        "\n",
        "        return state, reward, done, info\n",
        "\n",
        "    def print_world(self):\n",
        "        \"\"\"\n",
        "        Render the world in the command line.\n",
        "        \"\"\"\n",
        "        if len(self.action_history) > 0:\n",
        "            print(f'Action: {self.action_history[-1]}')\n",
        "        print(self.world)\n",
        "\n",
        "    def _check_pos_boundary(self, pos, box_hard_boundary: bool = False):\n",
        "        \"\"\"\n",
        "        Move the given position within the world bound.\n",
        "        \"\"\"\n",
        "        if pos[0] < 0:\n",
        "            pos[0] = 0\n",
        "        if pos[0] >= self.world_height:\n",
        "            pos[0] = self.world_height - 1\n",
        "        if pos[1] < 0:\n",
        "            pos[1] = 0\n",
        "        if pos[1] >= self.world_width:\n",
        "            pos[1] = self.world_width - 1\n",
        "\n",
        "        if box_hard_boundary:\n",
        "            if pos[0] == 0:\n",
        "                pos[0] += 1\n",
        "            elif pos[0] == self.world_height - 1:\n",
        "                pos[0] = self.world_height - 2\n",
        "            if pos[1] == 0:\n",
        "                pos[1] += 1\n",
        "\n",
        "        return pos\n",
        "\n",
        "    def _check_off_cliff(self, pos):\n",
        "        \"\"\"\n",
        "        Check if the given position is off cliff.\n",
        "        \"\"\"\n",
        "        for region in self.danger_region:\n",
        "            A, B = region\n",
        "            assert A[1] == B[1], \"A[1] != B[1]\"\n",
        "            if A[0] <= pos[0] <= B[0] and pos[1] == A[1]:\n",
        "                return True\n",
        "        return False\n",
        "\n",
        "    ## ATTENTION: Function used for the reward engineering .\n",
        "    def _check_diag_cliff(self, pos):\n",
        "      \"\"\"\n",
        "      Check if given position is surrounded by diagonal cliff.\n",
        "      \"\"\"\n",
        "      corner_list = [[1,3],\n",
        "                     [1,4],\n",
        "                     [2,3],\n",
        "                     [2,4]]\n",
        "      for corner in corner_list:\n",
        "        if self._check_off_cliff(np.array(pos) + self.forces[corner[0]]) and self._check_off_cliff(np.array(pos) + self.forces[corner[1]]):\n",
        "          return True\n",
        "\n",
        "      return False\n",
        "\n",
        "\n",
        "\n",
        "    def _update_render(self):\n",
        "        \"\"\"\n",
        "        Update the render information.\n",
        "        \"\"\"\n",
        "        if not all(self.last_agent_pos == self.agent_pos):\n",
        "                pos = self.last_agent_pos\n",
        "                if (pos[0] != self.goal_pos[0]) or (pos[1] != self.goal_pos[1]):\n",
        "                    self.world[pos[0], pos[1]] = GRID\n",
        "\n",
        "        if not all(self.last_box_pos == self.box_pos):\n",
        "            pos = self.last_box_pos\n",
        "            if self.world[pos[0], pos[1]].decode('UTF-8') not in {AGENT}:\n",
        "                self.world[pos[0], pos[1]] = GRID\n",
        "\n",
        "        if (self.agent_pos[0] != self.goal_pos[0]) or (self.agent_pos[1] != self.goal_pos[1]):\n",
        "            self.world[self.agent_pos[0], self.agent_pos[1]] = AGENT\n",
        "        self.world[self.box_pos[0], self.box_pos[1]] = BOX\n",
        "        self.last_box_pos = copy.deepcopy(self.box_pos)\n",
        "        self.last_agent_pos = copy.deepcopy(self.agent_pos)"
      ]
    },
    {
      "cell_type": "markdown",
      "metadata": {
        "id": "GKUvcFzIY4IX"
      },
      "source": [
        "Here is one example random agent class:"
      ]
    },
    {
      "cell_type": "code",
      "execution_count": null,
      "metadata": {
        "id": "MjhmwF8VpVki"
      },
      "outputs": [],
      "source": [
        "class RandomAgent:\n",
        "    def __init__(self, env, num_episodes):\n",
        "        self.action_space = [1, 2, 3, 4]\n",
        "        self.env = env\n",
        "        self.num_episodes = num_episodes\n",
        "\n",
        "    def act(self):\n",
        "        \"\"\"Returns a random choice of the available actions\"\"\"\n",
        "        return np.random.choice(self.action_space)\n",
        "\n",
        "    def learn(self):\n",
        "        rewards = []\n",
        "\n",
        "        for _ in range(self.num_episodes):\n",
        "            cumulative_reward = 0 # Initialise values of each game\n",
        "            state = self.env.reset()\n",
        "            done = False\n",
        "            while not done: # Run until game terminated\n",
        "                action = self.act()\n",
        "                next_state, reward, done, info = self.env.step(action)\n",
        "                cumulative_reward += reward\n",
        "                state = next_state\n",
        "            rewards.append(cumulative_reward)\n",
        "\n",
        "        return rewards"
      ]
    },
    {
      "cell_type": "markdown",
      "metadata": {
        "id": "QYpyzvV8Y7j6"
      },
      "source": [
        "You need to complete the learn() method of the following class to implement your RL algorithm."
      ]
    },
    {
      "cell_type": "code",
      "execution_count": null,
      "metadata": {
        "id": "vAKVvHmOptDW"
      },
      "outputs": [],
      "source": [
        "class RLAgent:\n",
        "    def __init__(self, env, num_episodes, epsilon=0.1, alpha=0.1, gamma=0.99):\n",
        "        self.action_space = env.action_space\n",
        "        self.q_table = dict() # Store all Q-values in a dictionary\n",
        "        # Loop through all possible grid spaces, create sub-dictionary for each\n",
        "        for agent_x in range(env.world_height):\n",
        "            for agent_y in range(env.world_width):\n",
        "                for box_x in range(env.world_height):\n",
        "                    for box_y in range(env.world_width):\n",
        "                        # Populate sub-dictionary with zero values for possible moves\n",
        "                        self.q_table[(agent_x, agent_y, box_x, box_y)] = {k: 0 for k in self.action_space}\n",
        "\n",
        "        self.env = env\n",
        "        self.num_episodes = num_episodes\n",
        "        self.epsilon = epsilon\n",
        "        self.alpha = alpha\n",
        "        self.gamma = gamma\n",
        "\n",
        "    def act(self, state):\n",
        "        \"\"\"Returns the (epsilon-greedy) optimal action from Q-Value table.\"\"\"\n",
        "        if np.random.uniform(0,1) < self.epsilon:\n",
        "            action = self.action_space[np.random.randint(0, len(self.action_space))]\n",
        "        else:\n",
        "            q_values_of_state = self.q_table[state]\n",
        "            maxValue = max(q_values_of_state.values())\n",
        "            action = np.random.choice([k for k, v in q_values_of_state.items() if v == maxValue])\n",
        "\n",
        "        return action\n",
        "\n",
        "# ATTENTION: Adding a parameter method to choose between Q-learning and SARSA\n",
        "# By default will take Q-Learning algorithm\n",
        "    def learn(self, method = \"qlearning\", reward_eng = False):\n",
        "        \"\"\"Updates Q-values iteratively.\"\"\"\n",
        "        rewards = []\n",
        "\n",
        "        for _ in range(self.num_episodes):\n",
        "            cumulative_reward = 0 # Initialise values of each game\n",
        "            state = self.env.reset()\n",
        "            done = False\n",
        "            while not done: # Run until game terminated\n",
        "              action = self.act(state)\n",
        "              next_state, reward, done, info = self.env.step(action, reward_eng = reward_eng)\n",
        "              if method == \"qlearning\":\n",
        "                self.q_table[state][action]= self.q_table[state][action] + self.alpha * ( reward + self.gamma*max(self.q_table[next_state].values()) - self.q_table[state][action])\n",
        "              elif method == \"sarsa\":\n",
        "                self.q_table[state][action]= self.q_table[state][action] + self.alpha * ( reward + self.gamma*self.q_table[next_state][self.act(next_state)] - self.q_table[state][action])\n",
        "              state = next_state\n",
        "              cumulative_reward = cumulative_reward + reward\n",
        "\n",
        "            rewards.append(cumulative_reward)\n",
        "\n",
        "        return rewards"
      ]
    },
    {
      "cell_type": "markdown",
      "metadata": {
        "id": "T4Zp2jCTZEgw"
      },
      "source": [
        "Here is the game interface where you can manually move the agent."
      ]
    },
    {
      "cell_type": "code",
      "execution_count": null,
      "metadata": {
        "id": "OK-cjWJA7ymv"
      },
      "outputs": [],
      "source": [
        "env = CliffBoxGridWorld(render=True)\n",
        "env.reset()\n",
        "env.print_world()\n",
        "done = False\n",
        "rewards = []\n",
        "\n",
        "while not done:\n",
        "    action = int(input(\"Please input the actions (up: 1, down: 2, left: 3, right: 4): \"))\n",
        "    state, reward, done, info = env.step(action)\n",
        "    rewards.append(reward)\n",
        "    print(f'step: {env.timesteps}, state: {state}, actions: {action}, reward: {reward}')\n",
        "    env.print_world()\n",
        "\n",
        "print(f'rewards: {sum(rewards)}')\n",
        "print(f'action history: {env.action_history}')"
      ]
    },
    {
      "cell_type": "markdown",
      "metadata": {
        "id": "wGyOJYn0ZJf9"
      },
      "source": [
        "Example code to step random agent in the environment."
      ]
    },
    {
      "cell_type": "code",
      "execution_count": null,
      "metadata": {
        "colab": {
          "base_uri": "https://localhost:8080/",
          "height": 447
        },
        "id": "d6ko9XBZ7z_z",
        "outputId": "aa205183-821a-48d2-adfc-59bdc8037b23"
      },
      "outputs": [
        {
          "data": {
            "text/plain": [
              "[<matplotlib.lines.Line2D at 0x783270198520>]"
            ]
          },
          "execution_count": 6,
          "metadata": {},
          "output_type": "execute_result"
        },
        {
          "data": {
            "image/png": "[encoded data removed]",
            "text/plain": [
              "<Figure size 640x480 with 1 Axes>"
            ]
          },
          "metadata": {},
          "output_type": "display_data"
        }
      ],
      "source": [
        "# Initialize the environment and agent\n",
        "env = CliffBoxGridWorld()\n",
        "agent = RandomAgent(env, num_episodes=1000)\n",
        "rewards = agent.learn()\n",
        "\n",
        "# Plot the learning curve\n",
        "plt.plot(rewards)"
      ]
    },
    {
      "cell_type": "code",
      "execution_count": null,
      "metadata": {
        "id": "SmWDpVj6gakg"
      },
      "outputs": [],
      "source": [
        "## ATTENTION: The plot code has been put into a function to increase code reusability\n",
        "def smooth_plot(rewards):\n",
        "  # Smooth plot\n",
        "  weight=0.99\n",
        "  last = rewards[0]\n",
        "  smoothed = []\n",
        "  for v in rewards:\n",
        "      smoothed_val = last * weight + (1 - weight) * v\n",
        "      smoothed.append(smoothed_val)\n",
        "      last = smoothed_val\n",
        "\n",
        "  # Plot the learning curve\n",
        "  ## ATTENTION: Code for a easier to understand plot has been added\n",
        "  plt.xlabel(\"Episodes\")\n",
        "  plt.ylabel(\"Reward\")\n",
        "  plt.plot(smoothed)\n"
      ]
    },
    {
      "cell_type": "markdown",
      "metadata": {
        "id": "5dl7JgziZROA"
      },
      "source": [
        "You need to complete the following method to visualize your training results."
      ]
    },
    {
      "cell_type": "code",
      "execution_count": null,
      "metadata": {
        "id": "KiSqtBuL73Rf"
      },
      "outputs": [],
      "source": [
        "def visualize(q_table):\n",
        "    v_table = np.zeros((CliffBoxGridWorld.world_height,CliffBoxGridWorld.world_width))\n",
        "    # policy = np.zeros((CliffBoxGridWorld.world_height,CliffBoxGridWorld.world_width))\n",
        "    v_sum = [[[] for _ in range(CliffBoxGridWorld.world_width)] for _ in range(CliffBoxGridWorld.world_height)] #storing the list containing all the\n",
        "\n",
        "\n",
        "    # TODO: Visualize learned V-table and policy.\n",
        "    for key, value in q_table.items():\n",
        "      actions = list(q_table[key].keys())\n",
        "      policy = actions[np.argmax([value[i] for i in range(1, 5)])]\n",
        "      v_sum[key[0]][key[1]].append(value[policy])\n",
        "\n",
        "\n",
        "    for i in range(0,CliffBoxGridWorld.world_height):\n",
        "      for j in range(0,CliffBoxGridWorld.world_width):\n",
        "        v_table[i][j] = np.mean(v_sum[i][j])\n",
        "\n",
        "    # visualizing the learned V-table\n",
        "    print(\"V-Table:\")\n",
        "    np.set_printoptions(precision=2, linewidth = 100)\n",
        "\n",
        "    for i in range(len(v_table)):\n",
        "      print(i,v_table[i])\n",
        "\n",
        "    # visualize the Policy\n",
        "    print(\"Learned Policy\")\n",
        "    env = CliffBoxGridWorld(render=True)\n",
        "    state = env.reset()\n",
        "    env.print_world()\n",
        "    done = False\n",
        "    cumulative_reward = []\n",
        "    while not done:\n",
        "      # best_action = np.argmax([q_table[state][i] for i in range(1,5)])\n",
        "      action_list = list(q_table[state].keys())\n",
        "      action = action_list[np.argmax([q_table[state][i] for i in range(1,5)])] # taking the action with the highest reward\n",
        "\n",
        "      state, reward, done, info = env.step(action)\n",
        "      cumulative_reward.append(reward)\n",
        "      print(f'step: {env.timesteps}, state: {state}, actions: {action},␣reward: {reward}')\n",
        "      env.print_world()\n",
        "\n",
        "    print(f'rewards: {sum(cumulative_reward)}')\n",
        "    print(f'action history: {env.action_history}')\n"
      ]
    },
    {
      "cell_type": "markdown",
      "metadata": {
        "id": "1NbkDcyfZO14"
      },
      "source": [
        "Train your own agent!"
      ]
    },
    {
      "cell_type": "code",
      "execution_count": null,
      "metadata": {
        "id": "wyIUIPn4LsW5"
      },
      "outputs": [],
      "source": [
        "## ATTENTION: The hyperparameters used to train Q-Learning and SARSA. Both the algorithms' hyperparameters have been kept the same to make it easier to compare their performance\n",
        "episodes = 15000\n",
        "epsilon = 0.01\n",
        "alpha = 0.1\n",
        "gamma = 0.99"
      ]
    },
    {
      "cell_type": "markdown",
      "metadata": {
        "id": "3WXo7JG3kKD7"
      },
      "source": [
        "## Q-Learning\n",
        "\n",
        "Q-learning is a model-free Off Policy reinforcement learning algorithm to learn the value of an action in a particular state. It does not require a model of the environment (hence \"model-free\"), and it can handle problems with stochastic transitions and rewards without requiring adaptations.\n",
        "\n",
        "It's update rule is:\n",
        "\n",
        "$Q(s_t,a_t)←Q(s_t,a_t)+ \\alpha [r_{t+1}+γ\\,\\underset{a′}{max}\\,Q(s_{t+1},a′)−Q(s_t,a_t)]$"
      ]
    },
    {
      "cell_type": "markdown",
      "metadata": {
        "id": "wFXC9ftrEMA0"
      },
      "source": [
        "### Q-Learning algorithm without reinforcement learning"
      ]
    },
    {
      "cell_type": "markdown",
      "metadata": {
        "id": "HhWpvYfIDIvO"
      },
      "source": [
        "#### Training"
      ]
    },
    {
      "cell_type": "code",
      "execution_count": null,
      "metadata": {
        "colab": {
          "background_save": true
        },
        "id": "bdc2VpjA71Kw"
      },
      "outputs": [],
      "source": [
        "# increased the number of episodes to 10000 to see the trajectory of the rewards even though the rewards stabalize around 8000 episodes\n",
        "# ATTENTION: Some variable names have been modified to make it easier to differenciate between Q-Leaning and SARSA variables\n",
        "env = CliffBoxGridWorld()\n",
        "Qagent = RLAgent(env, num_episodes = episodes, epsilon = epsilon, alpha = alpha, gamma = gamma )\n",
        "Qrewards = Qagent.learn()"
      ]
    },
    {
      "cell_type": "markdown",
      "metadata": {
        "id": "6iKQKzW3DNjJ"
      },
      "source": [
        "#### Plotting the Learning Curve"
      ]
    },
    {
      "cell_type": "code",
      "execution_count": null,
      "metadata": {
        "colab": {
          "background_save": true
        },
        "id": "w1vcc3yUDZZS",
        "outputId": "201cd757-e69d-4b2e-9c02-2e2e5fd34748"
      },
      "outputs": [
        {
          "data": {
            "image/png": "[encoded data removed]",
            "text/plain": [
              "<Figure size 640x480 with 1 Axes>"
            ]
          },
          "metadata": {},
          "output_type": "display_data"
        }
      ],
      "source": [
        "smooth_plot(Qrewards)"
      ]
    },
    {
      "cell_type": "markdown",
      "metadata": {
        "id": "ASmBGZo9DdqS"
      },
      "source": [
        "#### Visualizing the V-Table and Policy"
      ]
    },
    {
      "cell_type": "code",
      "execution_count": null,
      "metadata": {
        "colab": {
          "background_save": true
        },
        "id": "cHEjrifVDcf-",
        "outputId": "e22f05d7-ef5e-4b8a-813c-598127b47b84"
      },
      "outputs": [
        {
          "name": "stdout",
          "output_type": "stream",
          "text": [
            "V-Table:\n",
            "0 [-32.41 -35.65 -33.92 -31.52 -32.59 -24.     0.     0.   -32.7  -22.48 -21.86 -11.44 -18.    -7.35]\n",
            "1 [-26.7  -22.2  -23.03 -23.96 -23.17 -22.22   0.     0.   -18.66 -12.26 -11.62 -10.07  -7.35  -7.75]\n",
            "2 [-32.64 -21.94 -20.14   0.   -15.95 -23.01   0.     0.   -23.75 -22.92 -12.91 -14.15   0.   -14.65]\n",
            "3 [-28.92 -22.59 -29.94   0.   -29.86 -22.23   0.   -28.48 -27.84  -6.57 -14.82   0.     0.   -25.25]\n",
            "4 [-31.45 -22.58 -31.39   0.   -20.29 -20.3  -19.03 -18.14 -16.88 -15.82 -16.97   0.     0.   -24.35]\n",
            "5 [-32.27 -25.52 -33.63   0.   -30.69 -30.67 -30.46 -31.69 -18.94 -25.48 -15.43   0.     0.   -23.71]\n",
            "Learned Policy\n",
            "[[b'_' b'_' b'_' b'_' b'_' b'_' b'x' b'x' b'_' b'_' b'_' b'_' b'_' b'_']\n",
            " [b'_' b'_' b'_' b'_' b'_' b'_' b'x' b'x' b'_' b'_' b'_' b'_' b'_' b'_']\n",
            " [b'_' b'_' b'_' b'x' b'_' b'_' b'x' b'x' b'_' b'_' b'_' b'_' b'x' b'_']\n",
            " [b'_' b'_' b'_' b'x' b'_' b'_' b'x' b'_' b'_' b'_' b'_' b'x' b'x' b'_']\n",
            " [b'_' b'B' b'_' b'x' b'_' b'_' b'_' b'_' b'_' b'_' b'_' b'x' b'x' b'G']\n",
            " [b'A' b'_' b'_' b'x' b'_' b'_' b'_' b'_' b'_' b'_' b'_' b'x' b'x' b'_']]\n",
            "step: 1, state: (5, 1, 4, 1), actions: 4,␣reward: -14\n",
            "Action: 4\n",
            "[[b'_' b'_' b'_' b'_' b'_' b'_' b'x' b'x' b'_' b'_' b'_' b'_' b'_' b'_']\n",
            " [b'_' b'_' b'_' b'_' b'_' b'_' b'x' b'x' b'_' b'_' b'_' b'_' b'_' b'_']\n",
            " [b'_' b'_' b'_' b'x' b'_' b'_' b'x' b'x' b'_' b'_' b'_' b'_' b'x' b'_']\n",
            " [b'_' b'_' b'_' b'x' b'_' b'_' b'x' b'_' b'_' b'_' b'_' b'x' b'x' b'_']\n",
            " [b'_' b'B' b'_' b'x' b'_' b'_' b'_' b'_' b'_' b'_' b'_' b'x' b'x' b'G']\n",
            " [b'_' b'A' b'_' b'x' b'_' b'_' b'_' b'_' b'_' b'_' b'_' b'x' b'x' b'_']]\n",
            "step: 2, state: (4, 1, 3, 1), actions: 1,␣reward: -15\n",
            "Action: 1\n",
            "[[b'_' b'_' b'_' b'_' b'_' b'_' b'x' b'x' b'_' b'_' b'_' b'_' b'_' b'_']\n",
            " [b'_' b'_' b'_' b'_' b'_' b'_' b'x' b'x' b'_' b'_' b'_' b'_' b'_' b'_']\n",
            " [b'_' b'_' b'_' b'x' b'_' b'_' b'x' b'x' b'_' b'_' b'_' b'_' b'x' b'_']\n",
            " [b'_' b'B' b'_' b'x' b'_' b'_' b'x' b'_' b'_' b'_' b'_' b'x' b'x' b'_']\n",
            " [b'_' b'A' b'_' b'x' b'_' b'_' b'_' b'_' b'_' b'_' b'_' b'x' b'x' b'G']\n",
            " [b'_' b'_' b'_' b'x' b'_' b'_' b'_' b'_' b'_' b'_' b'_' b'x' b'x' b'_']]\n",
            "step: 3, state: (3, 1, 2, 1), actions: 1,␣reward: -16\n",
            "Action: 1\n",
            "[[b'_' b'_' b'_' b'_' b'_' b'_' b'x' b'x' b'_' b'_' b'_' b'_' b'_' b'_']\n",
            " [b'_' b'_' b'_' b'_' b'_' b'_' b'x' b'x' b'_' b'_' b'_' b'_' b'_' b'_']\n",
            " [b'_' b'B' b'_' b'x' b'_' b'_' b'x' b'x' b'_' b'_' b'_' b'_' b'x' b'_']\n",
            " [b'_' b'A' b'_' b'x' b'_' b'_' b'x' b'_' b'_' b'_' b'_' b'x' b'x' b'_']\n",
            " [b'_' b'_' b'_' b'x' b'_' b'_' b'_' b'_' b'_' b'_' b'_' b'x' b'x' b'G']\n",
            " [b'_' b'_' b'_' b'x' b'_' b'_' b'_' b'_' b'_' b'_' b'_' b'x' b'x' b'_']]\n",
            "step: 4, state: (2, 1, 1, 1), actions: 1,␣reward: -17\n",
            "Action: 1\n",
            "[[b'_' b'_' b'_' b'_' b'_' b'_' b'x' b'x' b'_' b'_' b'_' b'_' b'_' b'_']\n",
            " [b'_' b'B' b'_' b'_' b'_' b'_' b'x' b'x' b'_' b'_' b'_' b'_' b'_' b'_']\n",
            " [b'_' b'A' b'_' b'x' b'_' b'_' b'x' b'x' b'_' b'_' b'_' b'_' b'x' b'_']\n",
            " [b'_' b'_' b'_' b'x' b'_' b'_' b'x' b'_' b'_' b'_' b'_' b'x' b'x' b'_']\n",
            " [b'_' b'_' b'_' b'x' b'_' b'_' b'_' b'_' b'_' b'_' b'_' b'x' b'x' b'G']\n",
            " [b'_' b'_' b'_' b'x' b'_' b'_' b'_' b'_' b'_' b'_' b'_' b'x' b'x' b'_']]\n",
            "step: 5, state: (2, 0, 1, 1), actions: 3,␣reward: -18\n",
            "Action: 3\n",
            "[[b'_' b'_' b'_' b'_' b'_' b'_' b'x' b'x' b'_' b'_' b'_' b'_' b'_' b'_']\n",
            " [b'_' b'B' b'_' b'_' b'_' b'_' b'x' b'x' b'_' b'_' b'_' b'_' b'_' b'_']\n",
            " [b'A' b'_' b'_' b'x' b'_' b'_' b'x' b'x' b'_' b'_' b'_' b'_' b'x' b'_']\n",
            " [b'_' b'_' b'_' b'x' b'_' b'_' b'x' b'_' b'_' b'_' b'_' b'x' b'x' b'_']\n",
            " [b'_' b'_' b'_' b'x' b'_' b'_' b'_' b'_' b'_' b'_' b'_' b'x' b'x' b'G']\n",
            " [b'_' b'_' b'_' b'x' b'_' b'_' b'_' b'_' b'_' b'_' b'_' b'x' b'x' b'_']]\n",
            "step: 6, state: (1, 0, 1, 1), actions: 1,␣reward: -17\n",
            "Action: 1\n",
            "[[b'_' b'_' b'_' b'_' b'_' b'_' b'x' b'x' b'_' b'_' b'_' b'_' b'_' b'_']\n",
            " [b'A' b'B' b'_' b'_' b'_' b'_' b'x' b'x' b'_' b'_' b'_' b'_' b'_' b'_']\n",
            " [b'_' b'_' b'_' b'x' b'_' b'_' b'x' b'x' b'_' b'_' b'_' b'_' b'x' b'_']\n",
            " [b'_' b'_' b'_' b'x' b'_' b'_' b'x' b'_' b'_' b'_' b'_' b'x' b'x' b'_']\n",
            " [b'_' b'_' b'_' b'x' b'_' b'_' b'_' b'_' b'_' b'_' b'_' b'x' b'x' b'G']\n",
            " [b'_' b'_' b'_' b'x' b'_' b'_' b'_' b'_' b'_' b'_' b'_' b'x' b'x' b'_']]\n",
            "step: 7, state: (1, 1, 1, 2), actions: 4,␣reward: -16\n",
            "Action: 4\n",
            "[[b'_' b'_' b'_' b'_' b'_' b'_' b'x' b'x' b'_' b'_' b'_' b'_' b'_' b'_']\n",
            " [b'_' b'A' b'B' b'_' b'_' b'_' b'x' b'x' b'_' b'_' b'_' b'_' b'_' b'_']\n",
            " [b'_' b'_' b'_' b'x' b'_' b'_' b'x' b'x' b'_' b'_' b'_' b'_' b'x' b'_']\n",
            " [b'_' b'_' b'_' b'x' b'_' b'_' b'x' b'_' b'_' b'_' b'_' b'x' b'x' b'_']\n",
            " [b'_' b'_' b'_' b'x' b'_' b'_' b'_' b'_' b'_' b'_' b'_' b'x' b'x' b'G']\n",
            " [b'_' b'_' b'_' b'x' b'_' b'_' b'_' b'_' b'_' b'_' b'_' b'x' b'x' b'_']]\n",
            "step: 8, state: (1, 2, 1, 3), actions: 4,␣reward: -15\n",
            "Action: 4\n",
            "[[b'_' b'_' b'_' b'_' b'_' b'_' b'x' b'x' b'_' b'_' b'_' b'_' b'_' b'_']\n",
            " [b'_' b'_' b'A' b'B' b'_' b'_' b'x' b'x' b'_' b'_' b'_' b'_' b'_' b'_']\n",
            " [b'_' b'_' b'_' b'x' b'_' b'_' b'x' b'x' b'_' b'_' b'_' b'_' b'x' b'_']\n",
            " [b'_' b'_' b'_' b'x' b'_' b'_' b'x' b'_' b'_' b'_' b'_' b'x' b'x' b'_']\n",
            " [b'_' b'_' b'_' b'x' b'_' b'_' b'_' b'_' b'_' b'_' b'_' b'x' b'x' b'G']\n",
            " [b'_' b'_' b'_' b'x' b'_' b'_' b'_' b'_' b'_' b'_' b'_' b'x' b'x' b'_']]\n",
            "step: 9, state: (1, 3, 1, 4), actions: 4,␣reward: -14\n",
            "Action: 4\n",
            "[[b'_' b'_' b'_' b'_' b'_' b'_' b'x' b'x' b'_' b'_' b'_' b'_' b'_' b'_']\n",
            " [b'_' b'_' b'_' b'A' b'B' b'_' b'x' b'x' b'_' b'_' b'_' b'_' b'_' b'_']\n",
            " [b'_' b'_' b'_' b'x' b'_' b'_' b'x' b'x' b'_' b'_' b'_' b'_' b'x' b'_']\n",
            " [b'_' b'_' b'_' b'x' b'_' b'_' b'x' b'_' b'_' b'_' b'_' b'x' b'x' b'_']\n",
            " [b'_' b'_' b'_' b'x' b'_' b'_' b'_' b'_' b'_' b'_' b'_' b'x' b'x' b'G']\n",
            " [b'_' b'_' b'_' b'x' b'_' b'_' b'_' b'_' b'_' b'_' b'_' b'x' b'x' b'_']]\n",
            "step: 10, state: (1, 4, 1, 5), actions: 4,␣reward: -13\n",
            "Action: 4\n",
            "[[b'_' b'_' b'_' b'_' b'_' b'_' b'x' b'x' b'_' b'_' b'_' b'_' b'_' b'_']\n",
            " [b'_' b'_' b'_' b'_' b'A' b'B' b'x' b'x' b'_' b'_' b'_' b'_' b'_' b'_']\n",
            " [b'_' b'_' b'_' b'x' b'_' b'_' b'x' b'x' b'_' b'_' b'_' b'_' b'x' b'_']\n",
            " [b'_' b'_' b'_' b'x' b'_' b'_' b'x' b'_' b'_' b'_' b'_' b'x' b'x' b'_']\n",
            " [b'_' b'_' b'_' b'x' b'_' b'_' b'_' b'_' b'_' b'_' b'_' b'x' b'x' b'G']\n",
            " [b'_' b'_' b'_' b'x' b'_' b'_' b'_' b'_' b'_' b'_' b'_' b'x' b'x' b'_']]\n",
            "step: 11, state: (0, 4, 1, 5), actions: 1,␣reward: -14\n",
            "Action: 1\n",
            "[[b'_' b'_' b'_' b'_' b'A' b'_' b'x' b'x' b'_' b'_' b'_' b'_' b'_' b'_']\n",
            " [b'_' b'_' b'_' b'_' b'_' b'B' b'x' b'x' b'_' b'_' b'_' b'_' b'_' b'_']\n",
            " [b'_' b'_' b'_' b'x' b'_' b'_' b'x' b'x' b'_' b'_' b'_' b'_' b'x' b'_']\n",
            " [b'_' b'_' b'_' b'x' b'_' b'_' b'x' b'_' b'_' b'_' b'_' b'x' b'x' b'_']\n",
            " [b'_' b'_' b'_' b'x' b'_' b'_' b'_' b'_' b'_' b'_' b'_' b'x' b'x' b'G']\n",
            " [b'_' b'_' b'_' b'x' b'_' b'_' b'_' b'_' b'_' b'_' b'_' b'x' b'x' b'_']]\n",
            "step: 12, state: (0, 5, 1, 5), actions: 4,␣reward: -13\n",
            "Action: 4\n",
            "[[b'_' b'_' b'_' b'_' b'_' b'A' b'x' b'x' b'_' b'_' b'_' b'_' b'_' b'_']\n",
            " [b'_' b'_' b'_' b'_' b'_' b'B' b'x' b'x' b'_' b'_' b'_' b'_' b'_' b'_']\n",
            " [b'_' b'_' b'_' b'x' b'_' b'_' b'x' b'x' b'_' b'_' b'_' b'_' b'x' b'_']\n",
            " [b'_' b'_' b'_' b'x' b'_' b'_' b'x' b'_' b'_' b'_' b'_' b'x' b'x' b'_']\n",
            " [b'_' b'_' b'_' b'x' b'_' b'_' b'_' b'_' b'_' b'_' b'_' b'x' b'x' b'G']\n",
            " [b'_' b'_' b'_' b'x' b'_' b'_' b'_' b'_' b'_' b'_' b'_' b'x' b'x' b'_']]\n",
            "step: 13, state: (1, 5, 2, 5), actions: 2,␣reward: -12\n",
            "Action: 2\n",
            "[[b'_' b'_' b'_' b'_' b'_' b'_' b'x' b'x' b'_' b'_' b'_' b'_' b'_' b'_']\n",
            " [b'_' b'_' b'_' b'_' b'_' b'A' b'x' b'x' b'_' b'_' b'_' b'_' b'_' b'_']\n",
            " [b'_' b'_' b'_' b'x' b'_' b'B' b'x' b'x' b'_' b'_' b'_' b'_' b'x' b'_']\n",
            " [b'_' b'_' b'_' b'x' b'_' b'_' b'x' b'_' b'_' b'_' b'_' b'x' b'x' b'_']\n",
            " [b'_' b'_' b'_' b'x' b'_' b'_' b'_' b'_' b'_' b'_' b'_' b'x' b'x' b'G']\n",
            " [b'_' b'_' b'_' b'x' b'_' b'_' b'_' b'_' b'_' b'_' b'_' b'x' b'x' b'_']]\n",
            "step: 14, state: (2, 5, 3, 5), actions: 2,␣reward: -11\n",
            "Action: 2\n",
            "[[b'_' b'_' b'_' b'_' b'_' b'_' b'x' b'x' b'_' b'_' b'_' b'_' b'_' b'_']\n",
            " [b'_' b'_' b'_' b'_' b'_' b'_' b'x' b'x' b'_' b'_' b'_' b'_' b'_' b'_']\n",
            " [b'_' b'_' b'_' b'x' b'_' b'A' b'x' b'x' b'_' b'_' b'_' b'_' b'x' b'_']\n",
            " [b'_' b'_' b'_' b'x' b'_' b'B' b'x' b'_' b'_' b'_' b'_' b'x' b'x' b'_']\n",
            " [b'_' b'_' b'_' b'x' b'_' b'_' b'_' b'_' b'_' b'_' b'_' b'x' b'x' b'G']\n",
            " [b'_' b'_' b'_' b'x' b'_' b'_' b'_' b'_' b'_' b'_' b'_' b'x' b'x' b'_']]\n",
            "step: 15, state: (3, 5, 4, 5), actions: 2,␣reward: -10\n",
            "Action: 2\n",
            "[[b'_' b'_' b'_' b'_' b'_' b'_' b'x' b'x' b'_' b'_' b'_' b'_' b'_' b'_']\n",
            " [b'_' b'_' b'_' b'_' b'_' b'_' b'x' b'x' b'_' b'_' b'_' b'_' b'_' b'_']\n",
            " [b'_' b'_' b'_' b'x' b'_' b'_' b'x' b'x' b'_' b'_' b'_' b'_' b'x' b'_']\n",
            " [b'_' b'_' b'_' b'x' b'_' b'A' b'x' b'_' b'_' b'_' b'_' b'x' b'x' b'_']\n",
            " [b'_' b'_' b'_' b'x' b'_' b'B' b'_' b'_' b'_' b'_' b'_' b'x' b'x' b'G']\n",
            " [b'_' b'_' b'_' b'x' b'_' b'_' b'_' b'_' b'_' b'_' b'_' b'x' b'x' b'_']]\n",
            "step: 16, state: (3, 4, 4, 5), actions: 3,␣reward: -11\n",
            "Action: 3\n",
            "[[b'_' b'_' b'_' b'_' b'_' b'_' b'x' b'x' b'_' b'_' b'_' b'_' b'_' b'_']\n",
            " [b'_' b'_' b'_' b'_' b'_' b'_' b'x' b'x' b'_' b'_' b'_' b'_' b'_' b'_']\n",
            " [b'_' b'_' b'_' b'x' b'_' b'_' b'x' b'x' b'_' b'_' b'_' b'_' b'x' b'_']\n",
            " [b'_' b'_' b'_' b'x' b'A' b'_' b'x' b'_' b'_' b'_' b'_' b'x' b'x' b'_']\n",
            " [b'_' b'_' b'_' b'x' b'_' b'B' b'_' b'_' b'_' b'_' b'_' b'x' b'x' b'G']\n",
            " [b'_' b'_' b'_' b'x' b'_' b'_' b'_' b'_' b'_' b'_' b'_' b'x' b'x' b'_']]\n",
            "step: 17, state: (4, 4, 4, 5), actions: 2,␣reward: -10\n",
            "Action: 2\n",
            "[[b'_' b'_' b'_' b'_' b'_' b'_' b'x' b'x' b'_' b'_' b'_' b'_' b'_' b'_']\n",
            " [b'_' b'_' b'_' b'_' b'_' b'_' b'x' b'x' b'_' b'_' b'_' b'_' b'_' b'_']\n",
            " [b'_' b'_' b'_' b'x' b'_' b'_' b'x' b'x' b'_' b'_' b'_' b'_' b'x' b'_']\n",
            " [b'_' b'_' b'_' b'x' b'_' b'_' b'x' b'_' b'_' b'_' b'_' b'x' b'x' b'_']\n",
            " [b'_' b'_' b'_' b'x' b'A' b'B' b'_' b'_' b'_' b'_' b'_' b'x' b'x' b'G']\n",
            " [b'_' b'_' b'_' b'x' b'_' b'_' b'_' b'_' b'_' b'_' b'_' b'x' b'x' b'_']]\n",
            "step: 18, state: (4, 5, 4, 6), actions: 4,␣reward: -9\n",
            "Action: 4\n",
            "[[b'_' b'_' b'_' b'_' b'_' b'_' b'x' b'x' b'_' b'_' b'_' b'_' b'_' b'_']\n",
            " [b'_' b'_' b'_' b'_' b'_' b'_' b'x' b'x' b'_' b'_' b'_' b'_' b'_' b'_']\n",
            " [b'_' b'_' b'_' b'x' b'_' b'_' b'x' b'x' b'_' b'_' b'_' b'_' b'x' b'_']\n",
            " [b'_' b'_' b'_' b'x' b'_' b'_' b'x' b'_' b'_' b'_' b'_' b'x' b'x' b'_']\n",
            " [b'_' b'_' b'_' b'x' b'_' b'A' b'B' b'_' b'_' b'_' b'_' b'x' b'x' b'G']\n",
            " [b'_' b'_' b'_' b'x' b'_' b'_' b'_' b'_' b'_' b'_' b'_' b'x' b'x' b'_']]\n",
            "step: 19, state: (4, 6, 4, 7), actions: 4,␣reward: -8\n",
            "Action: 4\n",
            "[[b'_' b'_' b'_' b'_' b'_' b'_' b'x' b'x' b'_' b'_' b'_' b'_' b'_' b'_']\n",
            " [b'_' b'_' b'_' b'_' b'_' b'_' b'x' b'x' b'_' b'_' b'_' b'_' b'_' b'_']\n",
            " [b'_' b'_' b'_' b'x' b'_' b'_' b'x' b'x' b'_' b'_' b'_' b'_' b'x' b'_']\n",
            " [b'_' b'_' b'_' b'x' b'_' b'_' b'x' b'_' b'_' b'_' b'_' b'x' b'x' b'_']\n",
            " [b'_' b'_' b'_' b'x' b'_' b'_' b'A' b'B' b'_' b'_' b'_' b'x' b'x' b'G']\n",
            " [b'_' b'_' b'_' b'x' b'_' b'_' b'_' b'_' b'_' b'_' b'_' b'x' b'x' b'_']]\n",
            "step: 20, state: (4, 7, 4, 8), actions: 4,␣reward: -7\n",
            "Action: 4\n",
            "[[b'_' b'_' b'_' b'_' b'_' b'_' b'x' b'x' b'_' b'_' b'_' b'_' b'_' b'_']\n",
            " [b'_' b'_' b'_' b'_' b'_' b'_' b'x' b'x' b'_' b'_' b'_' b'_' b'_' b'_']\n",
            " [b'_' b'_' b'_' b'x' b'_' b'_' b'x' b'x' b'_' b'_' b'_' b'_' b'x' b'_']\n",
            " [b'_' b'_' b'_' b'x' b'_' b'_' b'x' b'_' b'_' b'_' b'_' b'x' b'x' b'_']\n",
            " [b'_' b'_' b'_' b'x' b'_' b'_' b'_' b'A' b'B' b'_' b'_' b'x' b'x' b'G']\n",
            " [b'_' b'_' b'_' b'x' b'_' b'_' b'_' b'_' b'_' b'_' b'_' b'x' b'x' b'_']]\n",
            "step: 21, state: (4, 8, 4, 9), actions: 4,␣reward: -6\n",
            "Action: 4\n",
            "[[b'_' b'_' b'_' b'_' b'_' b'_' b'x' b'x' b'_' b'_' b'_' b'_' b'_' b'_']\n",
            " [b'_' b'_' b'_' b'_' b'_' b'_' b'x' b'x' b'_' b'_' b'_' b'_' b'_' b'_']\n",
            " [b'_' b'_' b'_' b'x' b'_' b'_' b'x' b'x' b'_' b'_' b'_' b'_' b'x' b'_']\n",
            " [b'_' b'_' b'_' b'x' b'_' b'_' b'x' b'_' b'_' b'_' b'_' b'x' b'x' b'_']\n",
            " [b'_' b'_' b'_' b'x' b'_' b'_' b'_' b'_' b'A' b'B' b'_' b'x' b'x' b'G']\n",
            " [b'_' b'_' b'_' b'x' b'_' b'_' b'_' b'_' b'_' b'_' b'_' b'x' b'x' b'_']]\n",
            "step: 22, state: (4, 9, 4, 10), actions: 4,␣reward: -5\n",
            "Action: 4\n",
            "[[b'_' b'_' b'_' b'_' b'_' b'_' b'x' b'x' b'_' b'_' b'_' b'_' b'_' b'_']\n",
            " [b'_' b'_' b'_' b'_' b'_' b'_' b'x' b'x' b'_' b'_' b'_' b'_' b'_' b'_']\n",
            " [b'_' b'_' b'_' b'x' b'_' b'_' b'x' b'x' b'_' b'_' b'_' b'_' b'x' b'_']\n",
            " [b'_' b'_' b'_' b'x' b'_' b'_' b'x' b'_' b'_' b'_' b'_' b'x' b'x' b'_']\n",
            " [b'_' b'_' b'_' b'x' b'_' b'_' b'_' b'_' b'_' b'A' b'B' b'x' b'x' b'G']\n",
            " [b'_' b'_' b'_' b'x' b'_' b'_' b'_' b'_' b'_' b'_' b'_' b'x' b'x' b'_']]\n",
            "step: 23, state: (5, 9, 4, 10), actions: 2,␣reward: -6\n",
            "Action: 2\n",
            "[[b'_' b'_' b'_' b'_' b'_' b'_' b'x' b'x' b'_' b'_' b'_' b'_' b'_' b'_']\n",
            " [b'_' b'_' b'_' b'_' b'_' b'_' b'x' b'x' b'_' b'_' b'_' b'_' b'_' b'_']\n",
            " [b'_' b'_' b'_' b'x' b'_' b'_' b'x' b'x' b'_' b'_' b'_' b'_' b'x' b'_']\n",
            " [b'_' b'_' b'_' b'x' b'_' b'_' b'x' b'_' b'_' b'_' b'_' b'x' b'x' b'_']\n",
            " [b'_' b'_' b'_' b'x' b'_' b'_' b'_' b'_' b'_' b'_' b'B' b'x' b'x' b'G']\n",
            " [b'_' b'_' b'_' b'x' b'_' b'_' b'_' b'_' b'_' b'A' b'_' b'x' b'x' b'_']]\n",
            "step: 24, state: (5, 10, 4, 10), actions: 4,␣reward: -5\n",
            "Action: 4\n",
            "[[b'_' b'_' b'_' b'_' b'_' b'_' b'x' b'x' b'_' b'_' b'_' b'_' b'_' b'_']\n",
            " [b'_' b'_' b'_' b'_' b'_' b'_' b'x' b'x' b'_' b'_' b'_' b'_' b'_' b'_']\n",
            " [b'_' b'_' b'_' b'x' b'_' b'_' b'x' b'x' b'_' b'_' b'_' b'_' b'x' b'_']\n",
            " [b'_' b'_' b'_' b'x' b'_' b'_' b'x' b'_' b'_' b'_' b'_' b'x' b'x' b'_']\n",
            " [b'_' b'_' b'_' b'x' b'_' b'_' b'_' b'_' b'_' b'_' b'B' b'x' b'x' b'G']\n",
            " [b'_' b'_' b'_' b'x' b'_' b'_' b'_' b'_' b'_' b'_' b'A' b'x' b'x' b'_']]\n",
            "step: 25, state: (4, 10, 3, 10), actions: 1,␣reward: -6\n",
            "Action: 1\n",
            "[[b'_' b'_' b'_' b'_' b'_' b'_' b'x' b'x' b'_' b'_' b'_' b'_' b'_' b'_']\n",
            " [b'_' b'_' b'_' b'_' b'_' b'_' b'x' b'x' b'_' b'_' b'_' b'_' b'_' b'_']\n",
            " [b'_' b'_' b'_' b'x' b'_' b'_' b'x' b'x' b'_' b'_' b'_' b'_' b'x' b'_']\n",
            " [b'_' b'_' b'_' b'x' b'_' b'_' b'x' b'_' b'_' b'_' b'B' b'x' b'x' b'_']\n",
            " [b'_' b'_' b'_' b'x' b'_' b'_' b'_' b'_' b'_' b'_' b'A' b'x' b'x' b'G']\n",
            " [b'_' b'_' b'_' b'x' b'_' b'_' b'_' b'_' b'_' b'_' b'_' b'x' b'x' b'_']]\n",
            "step: 26, state: (3, 10, 2, 10), actions: 1,␣reward: -7\n",
            "Action: 1\n",
            "[[b'_' b'_' b'_' b'_' b'_' b'_' b'x' b'x' b'_' b'_' b'_' b'_' b'_' b'_']\n",
            " [b'_' b'_' b'_' b'_' b'_' b'_' b'x' b'x' b'_' b'_' b'_' b'_' b'_' b'_']\n",
            " [b'_' b'_' b'_' b'x' b'_' b'_' b'x' b'x' b'_' b'_' b'B' b'_' b'x' b'_']\n",
            " [b'_' b'_' b'_' b'x' b'_' b'_' b'x' b'_' b'_' b'_' b'A' b'x' b'x' b'_']\n",
            " [b'_' b'_' b'_' b'x' b'_' b'_' b'_' b'_' b'_' b'_' b'_' b'x' b'x' b'G']\n",
            " [b'_' b'_' b'_' b'x' b'_' b'_' b'_' b'_' b'_' b'_' b'_' b'x' b'x' b'_']]\n",
            "step: 27, state: (2, 10, 1, 10), actions: 1,␣reward: -8\n",
            "Action: 1\n",
            "[[b'_' b'_' b'_' b'_' b'_' b'_' b'x' b'x' b'_' b'_' b'_' b'_' b'_' b'_']\n",
            " [b'_' b'_' b'_' b'_' b'_' b'_' b'x' b'x' b'_' b'_' b'B' b'_' b'_' b'_']\n",
            " [b'_' b'_' b'_' b'x' b'_' b'_' b'x' b'x' b'_' b'_' b'A' b'_' b'x' b'_']\n",
            " [b'_' b'_' b'_' b'x' b'_' b'_' b'x' b'_' b'_' b'_' b'_' b'x' b'x' b'_']\n",
            " [b'_' b'_' b'_' b'x' b'_' b'_' b'_' b'_' b'_' b'_' b'_' b'x' b'x' b'G']\n",
            " [b'_' b'_' b'_' b'x' b'_' b'_' b'_' b'_' b'_' b'_' b'_' b'x' b'x' b'_']]\n",
            "step: 28, state: (2, 9, 1, 10), actions: 3,␣reward: -9\n",
            "Action: 3\n",
            "[[b'_' b'_' b'_' b'_' b'_' b'_' b'x' b'x' b'_' b'_' b'_' b'_' b'_' b'_']\n",
            " [b'_' b'_' b'_' b'_' b'_' b'_' b'x' b'x' b'_' b'_' b'B' b'_' b'_' b'_']\n",
            " [b'_' b'_' b'_' b'x' b'_' b'_' b'x' b'x' b'_' b'A' b'_' b'_' b'x' b'_']\n",
            " [b'_' b'_' b'_' b'x' b'_' b'_' b'x' b'_' b'_' b'_' b'_' b'x' b'x' b'_']\n",
            " [b'_' b'_' b'_' b'x' b'_' b'_' b'_' b'_' b'_' b'_' b'_' b'x' b'x' b'G']\n",
            " [b'_' b'_' b'_' b'x' b'_' b'_' b'_' b'_' b'_' b'_' b'_' b'x' b'x' b'_']]\n",
            "step: 29, state: (1, 9, 1, 10), actions: 1,␣reward: -8\n",
            "Action: 1\n",
            "[[b'_' b'_' b'_' b'_' b'_' b'_' b'x' b'x' b'_' b'_' b'_' b'_' b'_' b'_']\n",
            " [b'_' b'_' b'_' b'_' b'_' b'_' b'x' b'x' b'_' b'A' b'B' b'_' b'_' b'_']\n",
            " [b'_' b'_' b'_' b'x' b'_' b'_' b'x' b'x' b'_' b'_' b'_' b'_' b'x' b'_']\n",
            " [b'_' b'_' b'_' b'x' b'_' b'_' b'x' b'_' b'_' b'_' b'_' b'x' b'x' b'_']\n",
            " [b'_' b'_' b'_' b'x' b'_' b'_' b'_' b'_' b'_' b'_' b'_' b'x' b'x' b'G']\n",
            " [b'_' b'_' b'_' b'x' b'_' b'_' b'_' b'_' b'_' b'_' b'_' b'x' b'x' b'_']]\n",
            "step: 30, state: (1, 10, 1, 11), actions: 4,␣reward: -7\n",
            "Action: 4\n",
            "[[b'_' b'_' b'_' b'_' b'_' b'_' b'x' b'x' b'_' b'_' b'_' b'_' b'_' b'_']\n",
            " [b'_' b'_' b'_' b'_' b'_' b'_' b'x' b'x' b'_' b'_' b'A' b'B' b'_' b'_']\n",
            " [b'_' b'_' b'_' b'x' b'_' b'_' b'x' b'x' b'_' b'_' b'_' b'_' b'x' b'_']\n",
            " [b'_' b'_' b'_' b'x' b'_' b'_' b'x' b'_' b'_' b'_' b'_' b'x' b'x' b'_']\n",
            " [b'_' b'_' b'_' b'x' b'_' b'_' b'_' b'_' b'_' b'_' b'_' b'x' b'x' b'G']\n",
            " [b'_' b'_' b'_' b'x' b'_' b'_' b'_' b'_' b'_' b'_' b'_' b'x' b'x' b'_']]\n",
            "step: 31, state: (1, 11, 1, 12), actions: 4,␣reward: -6\n",
            "Action: 4\n",
            "[[b'_' b'_' b'_' b'_' b'_' b'_' b'x' b'x' b'_' b'_' b'_' b'_' b'_' b'_']\n",
            " [b'_' b'_' b'_' b'_' b'_' b'_' b'x' b'x' b'_' b'_' b'_' b'A' b'B' b'_']\n",
            " [b'_' b'_' b'_' b'x' b'_' b'_' b'x' b'x' b'_' b'_' b'_' b'_' b'x' b'_']\n",
            " [b'_' b'_' b'_' b'x' b'_' b'_' b'x' b'_' b'_' b'_' b'_' b'x' b'x' b'_']\n",
            " [b'_' b'_' b'_' b'x' b'_' b'_' b'_' b'_' b'_' b'_' b'_' b'x' b'x' b'G']\n",
            " [b'_' b'_' b'_' b'x' b'_' b'_' b'_' b'_' b'_' b'_' b'_' b'x' b'x' b'_']]\n",
            "step: 32, state: (1, 12, 1, 13), actions: 4,␣reward: -5\n",
            "Action: 4\n",
            "[[b'_' b'_' b'_' b'_' b'_' b'_' b'x' b'x' b'_' b'_' b'_' b'_' b'_' b'_']\n",
            " [b'_' b'_' b'_' b'_' b'_' b'_' b'x' b'x' b'_' b'_' b'_' b'_' b'A' b'B']\n",
            " [b'_' b'_' b'_' b'x' b'_' b'_' b'x' b'x' b'_' b'_' b'_' b'_' b'x' b'_']\n",
            " [b'_' b'_' b'_' b'x' b'_' b'_' b'x' b'_' b'_' b'_' b'_' b'x' b'x' b'_']\n",
            " [b'_' b'_' b'_' b'x' b'_' b'_' b'_' b'_' b'_' b'_' b'_' b'x' b'x' b'G']\n",
            " [b'_' b'_' b'_' b'x' b'_' b'_' b'_' b'_' b'_' b'_' b'_' b'x' b'x' b'_']]\n",
            "step: 33, state: (0, 12, 1, 13), actions: 1,␣reward: -6\n",
            "Action: 1\n",
            "[[b'_' b'_' b'_' b'_' b'_' b'_' b'x' b'x' b'_' b'_' b'_' b'_' b'A' b'_']\n",
            " [b'_' b'_' b'_' b'_' b'_' b'_' b'x' b'x' b'_' b'_' b'_' b'_' b'_' b'B']\n",
            " [b'_' b'_' b'_' b'x' b'_' b'_' b'x' b'x' b'_' b'_' b'_' b'_' b'x' b'_']\n",
            " [b'_' b'_' b'_' b'x' b'_' b'_' b'x' b'_' b'_' b'_' b'_' b'x' b'x' b'_']\n",
            " [b'_' b'_' b'_' b'x' b'_' b'_' b'_' b'_' b'_' b'_' b'_' b'x' b'x' b'G']\n",
            " [b'_' b'_' b'_' b'x' b'_' b'_' b'_' b'_' b'_' b'_' b'_' b'x' b'x' b'_']]\n",
            "step: 34, state: (0, 13, 1, 13), actions: 4,␣reward: -5\n",
            "Action: 4\n",
            "[[b'_' b'_' b'_' b'_' b'_' b'_' b'x' b'x' b'_' b'_' b'_' b'_' b'_' b'A']\n",
            " [b'_' b'_' b'_' b'_' b'_' b'_' b'x' b'x' b'_' b'_' b'_' b'_' b'_' b'B']\n",
            " [b'_' b'_' b'_' b'x' b'_' b'_' b'x' b'x' b'_' b'_' b'_' b'_' b'x' b'_']\n",
            " [b'_' b'_' b'_' b'x' b'_' b'_' b'x' b'_' b'_' b'_' b'_' b'x' b'x' b'_']\n",
            " [b'_' b'_' b'_' b'x' b'_' b'_' b'_' b'_' b'_' b'_' b'_' b'x' b'x' b'G']\n",
            " [b'_' b'_' b'_' b'x' b'_' b'_' b'_' b'_' b'_' b'_' b'_' b'x' b'x' b'_']]\n",
            "step: 35, state: (1, 13, 2, 13), actions: 2,␣reward: -4\n",
            "Action: 2\n",
            "[[b'_' b'_' b'_' b'_' b'_' b'_' b'x' b'x' b'_' b'_' b'_' b'_' b'_' b'_']\n",
            " [b'_' b'_' b'_' b'_' b'_' b'_' b'x' b'x' b'_' b'_' b'_' b'_' b'_' b'A']\n",
            " [b'_' b'_' b'_' b'x' b'_' b'_' b'x' b'x' b'_' b'_' b'_' b'_' b'x' b'B']\n",
            " [b'_' b'_' b'_' b'x' b'_' b'_' b'x' b'_' b'_' b'_' b'_' b'x' b'x' b'_']\n",
            " [b'_' b'_' b'_' b'x' b'_' b'_' b'_' b'_' b'_' b'_' b'_' b'x' b'x' b'G']\n",
            " [b'_' b'_' b'_' b'x' b'_' b'_' b'_' b'_' b'_' b'_' b'_' b'x' b'x' b'_']]\n",
            "step: 36, state: (2, 13, 3, 13), actions: 2,␣reward: -3\n",
            "Action: 2\n",
            "[[b'_' b'_' b'_' b'_' b'_' b'_' b'x' b'x' b'_' b'_' b'_' b'_' b'_' b'_']\n",
            " [b'_' b'_' b'_' b'_' b'_' b'_' b'x' b'x' b'_' b'_' b'_' b'_' b'_' b'_']\n",
            " [b'_' b'_' b'_' b'x' b'_' b'_' b'x' b'x' b'_' b'_' b'_' b'_' b'x' b'A']\n",
            " [b'_' b'_' b'_' b'x' b'_' b'_' b'x' b'_' b'_' b'_' b'_' b'x' b'x' b'B']\n",
            " [b'_' b'_' b'_' b'x' b'_' b'_' b'_' b'_' b'_' b'_' b'_' b'x' b'x' b'G']\n",
            " [b'_' b'_' b'_' b'x' b'_' b'_' b'_' b'_' b'_' b'_' b'_' b'x' b'x' b'_']]\n",
            "step: 37, state: (3, 13, 4, 13), actions: 2,␣reward: 998\n",
            "Action: 2\n",
            "[[b'_' b'_' b'_' b'_' b'_' b'_' b'x' b'x' b'_' b'_' b'_' b'_' b'_' b'_']\n",
            " [b'_' b'_' b'_' b'_' b'_' b'_' b'x' b'x' b'_' b'_' b'_' b'_' b'_' b'_']\n",
            " [b'_' b'_' b'_' b'x' b'_' b'_' b'x' b'x' b'_' b'_' b'_' b'_' b'x' b'_']\n",
            " [b'_' b'_' b'_' b'x' b'_' b'_' b'x' b'_' b'_' b'_' b'_' b'x' b'x' b'A']\n",
            " [b'_' b'_' b'_' b'x' b'_' b'_' b'_' b'_' b'_' b'_' b'_' b'x' b'x' b'B']\n",
            " [b'_' b'_' b'_' b'x' b'_' b'_' b'_' b'_' b'_' b'_' b'_' b'x' b'x' b'_']]\n",
            "rewards: 642\n",
            "action history: [4, 1, 1, 1, 3, 1, 4, 4, 4, 4, 1, 4, 2, 2, 2, 3, 2, 4, 4, 4, 4, 4, 2, 4, 1, 1, 1, 3, 1, 4, 4, 4, 1, 4, 2, 2, 2]\n"
          ]
        }
      ],
      "source": [
        "visualize(Qagent.q_table)"
      ]
    },
    {
      "cell_type": "markdown",
      "metadata": {
        "id": "OU_h-zVlshN2"
      },
      "source": [
        "### Q-Learning algorithm with rewards Engineering"
      ]
    },
    {
      "cell_type": "markdown",
      "metadata": {
        "id": "QVoBrr_dDuxM"
      },
      "source": [
        "#### Training"
      ]
    },
    {
      "cell_type": "code",
      "execution_count": null,
      "metadata": {
        "colab": {
          "background_save": true
        },
        "id": "vWmks3t9eEIA"
      },
      "outputs": [],
      "source": [
        "##ATTENTION: Testing the results with reward engineering\n",
        "env = CliffBoxGridWorld()\n",
        "QagentRE = RLAgent(env, num_episodes = episodes, epsilon = epsilon, alpha = alpha, gamma = gamma )\n",
        "QrewardsRE = QagentRE.learn(reward_eng = True)"
      ]
    },
    {
      "cell_type": "markdown",
      "metadata": {
        "id": "ReIMpBBOENG_"
      },
      "source": [
        "#### Plotting the Learning Curve"
      ]
    },
    {
      "cell_type": "code",
      "execution_count": null,
      "metadata": {
        "colab": {
          "background_save": true
        },
        "id": "XHM4vKbKFPvm",
        "outputId": "5b71fed6-cd7d-4b9e-bcdd-385952be58ac"
      },
      "outputs": [
        {
          "data": {
            "image/png": "[encoded data removed]",
            "text/plain": [
              "<Figure size 640x480 with 1 Axes>"
            ]
          },
          "metadata": {},
          "output_type": "display_data"
        }
      ],
      "source": [
        "smooth_plot(QrewardsRE)"
      ]
    },
    {
      "cell_type": "markdown",
      "metadata": {
        "id": "FEttID8vFG8C"
      },
      "source": [
        "#### Visualizing the V-Table and Policy"
      ]
    },
    {
      "cell_type": "code",
      "execution_count": null,
      "metadata": {
        "colab": {
          "background_save": true
        },
        "id": "b8nFyimFFNqY",
        "outputId": "61f5e198-348e-4de1-b562-833f2480df60"
      },
      "outputs": [
        {
          "name": "stdout",
          "output_type": "stream",
          "text": [
            "V-Table:\n",
            "0 [-32.99 -34.32 -34.97 -31.16 -32.07 -24.61   0.     0.   -31.94 -21.44 -21.04 -11.19 -17.07  -5.94]\n",
            "1 [-24.07 -22.17 -22.27 -21.89 -22.19 -21.81   0.     0.   -17.59 -11.94 -10.2   -9.03  -7.38  -4.28]\n",
            "2 [-32.45 -21.87 -19.51   0.   -15.44 -24.69   0.     0.   -23.8  -22.23 -12.1  -12.1    0.   -13.7 ]\n",
            "3 [-26.11 -22.35 -31.92   0.   -29.27 -21.07   0.   -27.74 -26.69  -4.58 -15.48   0.     0.   -24.36]\n",
            "4 [-34.09 -22.3  -31.34   0.   -20.35 -19.32 -18.42 -19.61 -16.99 -14.67 -14.22   0.     0.   -23.51]\n",
            "5 [-32.91 -25.81 -35.28   0.   -30.98 -31.52 -29.58 -29.41 -25.07 -24.03 -14.28   0.     0.   -23.03]\n",
            "Learned Policy\n",
            "[[b'_' b'_' b'_' b'_' b'_' b'_' b'x' b'x' b'_' b'_' b'_' b'_' b'_' b'_']\n",
            " [b'_' b'_' b'_' b'_' b'_' b'_' b'x' b'x' b'_' b'_' b'_' b'_' b'_' b'_']\n",
            " [b'_' b'_' b'_' b'x' b'_' b'_' b'x' b'x' b'_' b'_' b'_' b'_' b'x' b'_']\n",
            " [b'_' b'_' b'_' b'x' b'_' b'_' b'x' b'_' b'_' b'_' b'_' b'x' b'x' b'_']\n",
            " [b'_' b'B' b'_' b'x' b'_' b'_' b'_' b'_' b'_' b'_' b'_' b'x' b'x' b'G']\n",
            " [b'A' b'_' b'_' b'x' b'_' b'_' b'_' b'_' b'_' b'_' b'_' b'x' b'x' b'_']]\n",
            "step: 1, state: (5, 1, 4, 1), actions: 4,␣reward: -14\n",
            "Action: 4\n",
            "[[b'_' b'_' b'_' b'_' b'_' b'_' b'x' b'x' b'_' b'_' b'_' b'_' b'_' b'_']\n",
            " [b'_' b'_' b'_' b'_' b'_' b'_' b'x' b'x' b'_' b'_' b'_' b'_' b'_' b'_']\n",
            " [b'_' b'_' b'_' b'x' b'_' b'_' b'x' b'x' b'_' b'_' b'_' b'_' b'x' b'_']\n",
            " [b'_' b'_' b'_' b'x' b'_' b'_' b'x' b'_' b'_' b'_' b'_' b'x' b'x' b'_']\n",
            " [b'_' b'B' b'_' b'x' b'_' b'_' b'_' b'_' b'_' b'_' b'_' b'x' b'x' b'G']\n",
            " [b'_' b'A' b'_' b'x' b'_' b'_' b'_' b'_' b'_' b'_' b'_' b'x' b'x' b'_']]\n",
            "step: 2, state: (4, 1, 3, 1), actions: 1,␣reward: -15\n",
            "Action: 1\n",
            "[[b'_' b'_' b'_' b'_' b'_' b'_' b'x' b'x' b'_' b'_' b'_' b'_' b'_' b'_']\n",
            " [b'_' b'_' b'_' b'_' b'_' b'_' b'x' b'x' b'_' b'_' b'_' b'_' b'_' b'_']\n",
            " [b'_' b'_' b'_' b'x' b'_' b'_' b'x' b'x' b'_' b'_' b'_' b'_' b'x' b'_']\n",
            " [b'_' b'B' b'_' b'x' b'_' b'_' b'x' b'_' b'_' b'_' b'_' b'x' b'x' b'_']\n",
            " [b'_' b'A' b'_' b'x' b'_' b'_' b'_' b'_' b'_' b'_' b'_' b'x' b'x' b'G']\n",
            " [b'_' b'_' b'_' b'x' b'_' b'_' b'_' b'_' b'_' b'_' b'_' b'x' b'x' b'_']]\n",
            "step: 3, state: (3, 1, 2, 1), actions: 1,␣reward: -16\n",
            "Action: 1\n",
            "[[b'_' b'_' b'_' b'_' b'_' b'_' b'x' b'x' b'_' b'_' b'_' b'_' b'_' b'_']\n",
            " [b'_' b'_' b'_' b'_' b'_' b'_' b'x' b'x' b'_' b'_' b'_' b'_' b'_' b'_']\n",
            " [b'_' b'B' b'_' b'x' b'_' b'_' b'x' b'x' b'_' b'_' b'_' b'_' b'x' b'_']\n",
            " [b'_' b'A' b'_' b'x' b'_' b'_' b'x' b'_' b'_' b'_' b'_' b'x' b'x' b'_']\n",
            " [b'_' b'_' b'_' b'x' b'_' b'_' b'_' b'_' b'_' b'_' b'_' b'x' b'x' b'G']\n",
            " [b'_' b'_' b'_' b'x' b'_' b'_' b'_' b'_' b'_' b'_' b'_' b'x' b'x' b'_']]\n",
            "step: 4, state: (2, 1, 1, 1), actions: 1,␣reward: -17\n",
            "Action: 1\n",
            "[[b'_' b'_' b'_' b'_' b'_' b'_' b'x' b'x' b'_' b'_' b'_' b'_' b'_' b'_']\n",
            " [b'_' b'B' b'_' b'_' b'_' b'_' b'x' b'x' b'_' b'_' b'_' b'_' b'_' b'_']\n",
            " [b'_' b'A' b'_' b'x' b'_' b'_' b'x' b'x' b'_' b'_' b'_' b'_' b'x' b'_']\n",
            " [b'_' b'_' b'_' b'x' b'_' b'_' b'x' b'_' b'_' b'_' b'_' b'x' b'x' b'_']\n",
            " [b'_' b'_' b'_' b'x' b'_' b'_' b'_' b'_' b'_' b'_' b'_' b'x' b'x' b'G']\n",
            " [b'_' b'_' b'_' b'x' b'_' b'_' b'_' b'_' b'_' b'_' b'_' b'x' b'x' b'_']]\n",
            "step: 5, state: (2, 0, 1, 1), actions: 3,␣reward: -18\n",
            "Action: 3\n",
            "[[b'_' b'_' b'_' b'_' b'_' b'_' b'x' b'x' b'_' b'_' b'_' b'_' b'_' b'_']\n",
            " [b'_' b'B' b'_' b'_' b'_' b'_' b'x' b'x' b'_' b'_' b'_' b'_' b'_' b'_']\n",
            " [b'A' b'_' b'_' b'x' b'_' b'_' b'x' b'x' b'_' b'_' b'_' b'_' b'x' b'_']\n",
            " [b'_' b'_' b'_' b'x' b'_' b'_' b'x' b'_' b'_' b'_' b'_' b'x' b'x' b'_']\n",
            " [b'_' b'_' b'_' b'x' b'_' b'_' b'_' b'_' b'_' b'_' b'_' b'x' b'x' b'G']\n",
            " [b'_' b'_' b'_' b'x' b'_' b'_' b'_' b'_' b'_' b'_' b'_' b'x' b'x' b'_']]\n",
            "step: 6, state: (1, 0, 1, 1), actions: 1,␣reward: -17\n",
            "Action: 1\n",
            "[[b'_' b'_' b'_' b'_' b'_' b'_' b'x' b'x' b'_' b'_' b'_' b'_' b'_' b'_']\n",
            " [b'A' b'B' b'_' b'_' b'_' b'_' b'x' b'x' b'_' b'_' b'_' b'_' b'_' b'_']\n",
            " [b'_' b'_' b'_' b'x' b'_' b'_' b'x' b'x' b'_' b'_' b'_' b'_' b'x' b'_']\n",
            " [b'_' b'_' b'_' b'x' b'_' b'_' b'x' b'_' b'_' b'_' b'_' b'x' b'x' b'_']\n",
            " [b'_' b'_' b'_' b'x' b'_' b'_' b'_' b'_' b'_' b'_' b'_' b'x' b'x' b'G']\n",
            " [b'_' b'_' b'_' b'x' b'_' b'_' b'_' b'_' b'_' b'_' b'_' b'x' b'x' b'_']]\n",
            "step: 7, state: (1, 1, 1, 2), actions: 4,␣reward: -16\n",
            "Action: 4\n",
            "[[b'_' b'_' b'_' b'_' b'_' b'_' b'x' b'x' b'_' b'_' b'_' b'_' b'_' b'_']\n",
            " [b'_' b'A' b'B' b'_' b'_' b'_' b'x' b'x' b'_' b'_' b'_' b'_' b'_' b'_']\n",
            " [b'_' b'_' b'_' b'x' b'_' b'_' b'x' b'x' b'_' b'_' b'_' b'_' b'x' b'_']\n",
            " [b'_' b'_' b'_' b'x' b'_' b'_' b'x' b'_' b'_' b'_' b'_' b'x' b'x' b'_']\n",
            " [b'_' b'_' b'_' b'x' b'_' b'_' b'_' b'_' b'_' b'_' b'_' b'x' b'x' b'G']\n",
            " [b'_' b'_' b'_' b'x' b'_' b'_' b'_' b'_' b'_' b'_' b'_' b'x' b'x' b'_']]\n",
            "step: 8, state: (1, 2, 1, 3), actions: 4,␣reward: -15\n",
            "Action: 4\n",
            "[[b'_' b'_' b'_' b'_' b'_' b'_' b'x' b'x' b'_' b'_' b'_' b'_' b'_' b'_']\n",
            " [b'_' b'_' b'A' b'B' b'_' b'_' b'x' b'x' b'_' b'_' b'_' b'_' b'_' b'_']\n",
            " [b'_' b'_' b'_' b'x' b'_' b'_' b'x' b'x' b'_' b'_' b'_' b'_' b'x' b'_']\n",
            " [b'_' b'_' b'_' b'x' b'_' b'_' b'x' b'_' b'_' b'_' b'_' b'x' b'x' b'_']\n",
            " [b'_' b'_' b'_' b'x' b'_' b'_' b'_' b'_' b'_' b'_' b'_' b'x' b'x' b'G']\n",
            " [b'_' b'_' b'_' b'x' b'_' b'_' b'_' b'_' b'_' b'_' b'_' b'x' b'x' b'_']]\n",
            "step: 9, state: (1, 3, 1, 4), actions: 4,␣reward: -14\n",
            "Action: 4\n",
            "[[b'_' b'_' b'_' b'_' b'_' b'_' b'x' b'x' b'_' b'_' b'_' b'_' b'_' b'_']\n",
            " [b'_' b'_' b'_' b'A' b'B' b'_' b'x' b'x' b'_' b'_' b'_' b'_' b'_' b'_']\n",
            " [b'_' b'_' b'_' b'x' b'_' b'_' b'x' b'x' b'_' b'_' b'_' b'_' b'x' b'_']\n",
            " [b'_' b'_' b'_' b'x' b'_' b'_' b'x' b'_' b'_' b'_' b'_' b'x' b'x' b'_']\n",
            " [b'_' b'_' b'_' b'x' b'_' b'_' b'_' b'_' b'_' b'_' b'_' b'x' b'x' b'G']\n",
            " [b'_' b'_' b'_' b'x' b'_' b'_' b'_' b'_' b'_' b'_' b'_' b'x' b'x' b'_']]\n",
            "step: 10, state: (1, 4, 1, 5), actions: 4,␣reward: -13\n",
            "Action: 4\n",
            "[[b'_' b'_' b'_' b'_' b'_' b'_' b'x' b'x' b'_' b'_' b'_' b'_' b'_' b'_']\n",
            " [b'_' b'_' b'_' b'_' b'A' b'B' b'x' b'x' b'_' b'_' b'_' b'_' b'_' b'_']\n",
            " [b'_' b'_' b'_' b'x' b'_' b'_' b'x' b'x' b'_' b'_' b'_' b'_' b'x' b'_']\n",
            " [b'_' b'_' b'_' b'x' b'_' b'_' b'x' b'_' b'_' b'_' b'_' b'x' b'x' b'_']\n",
            " [b'_' b'_' b'_' b'x' b'_' b'_' b'_' b'_' b'_' b'_' b'_' b'x' b'x' b'G']\n",
            " [b'_' b'_' b'_' b'x' b'_' b'_' b'_' b'_' b'_' b'_' b'_' b'x' b'x' b'_']]\n",
            "step: 11, state: (0, 4, 1, 5), actions: 1,␣reward: -14\n",
            "Action: 1\n",
            "[[b'_' b'_' b'_' b'_' b'A' b'_' b'x' b'x' b'_' b'_' b'_' b'_' b'_' b'_']\n",
            " [b'_' b'_' b'_' b'_' b'_' b'B' b'x' b'x' b'_' b'_' b'_' b'_' b'_' b'_']\n",
            " [b'_' b'_' b'_' b'x' b'_' b'_' b'x' b'x' b'_' b'_' b'_' b'_' b'x' b'_']\n",
            " [b'_' b'_' b'_' b'x' b'_' b'_' b'x' b'_' b'_' b'_' b'_' b'x' b'x' b'_']\n",
            " [b'_' b'_' b'_' b'x' b'_' b'_' b'_' b'_' b'_' b'_' b'_' b'x' b'x' b'G']\n",
            " [b'_' b'_' b'_' b'x' b'_' b'_' b'_' b'_' b'_' b'_' b'_' b'x' b'x' b'_']]\n",
            "step: 12, state: (0, 5, 1, 5), actions: 4,␣reward: -13\n",
            "Action: 4\n",
            "[[b'_' b'_' b'_' b'_' b'_' b'A' b'x' b'x' b'_' b'_' b'_' b'_' b'_' b'_']\n",
            " [b'_' b'_' b'_' b'_' b'_' b'B' b'x' b'x' b'_' b'_' b'_' b'_' b'_' b'_']\n",
            " [b'_' b'_' b'_' b'x' b'_' b'_' b'x' b'x' b'_' b'_' b'_' b'_' b'x' b'_']\n",
            " [b'_' b'_' b'_' b'x' b'_' b'_' b'x' b'_' b'_' b'_' b'_' b'x' b'x' b'_']\n",
            " [b'_' b'_' b'_' b'x' b'_' b'_' b'_' b'_' b'_' b'_' b'_' b'x' b'x' b'G']\n",
            " [b'_' b'_' b'_' b'x' b'_' b'_' b'_' b'_' b'_' b'_' b'_' b'x' b'x' b'_']]\n",
            "step: 13, state: (1, 5, 2, 5), actions: 2,␣reward: -12\n",
            "Action: 2\n",
            "[[b'_' b'_' b'_' b'_' b'_' b'_' b'x' b'x' b'_' b'_' b'_' b'_' b'_' b'_']\n",
            " [b'_' b'_' b'_' b'_' b'_' b'A' b'x' b'x' b'_' b'_' b'_' b'_' b'_' b'_']\n",
            " [b'_' b'_' b'_' b'x' b'_' b'B' b'x' b'x' b'_' b'_' b'_' b'_' b'x' b'_']\n",
            " [b'_' b'_' b'_' b'x' b'_' b'_' b'x' b'_' b'_' b'_' b'_' b'x' b'x' b'_']\n",
            " [b'_' b'_' b'_' b'x' b'_' b'_' b'_' b'_' b'_' b'_' b'_' b'x' b'x' b'G']\n",
            " [b'_' b'_' b'_' b'x' b'_' b'_' b'_' b'_' b'_' b'_' b'_' b'x' b'x' b'_']]\n",
            "step: 14, state: (2, 5, 3, 5), actions: 2,␣reward: -11\n",
            "Action: 2\n",
            "[[b'_' b'_' b'_' b'_' b'_' b'_' b'x' b'x' b'_' b'_' b'_' b'_' b'_' b'_']\n",
            " [b'_' b'_' b'_' b'_' b'_' b'_' b'x' b'x' b'_' b'_' b'_' b'_' b'_' b'_']\n",
            " [b'_' b'_' b'_' b'x' b'_' b'A' b'x' b'x' b'_' b'_' b'_' b'_' b'x' b'_']\n",
            " [b'_' b'_' b'_' b'x' b'_' b'B' b'x' b'_' b'_' b'_' b'_' b'x' b'x' b'_']\n",
            " [b'_' b'_' b'_' b'x' b'_' b'_' b'_' b'_' b'_' b'_' b'_' b'x' b'x' b'G']\n",
            " [b'_' b'_' b'_' b'x' b'_' b'_' b'_' b'_' b'_' b'_' b'_' b'x' b'x' b'_']]\n",
            "step: 15, state: (3, 5, 4, 5), actions: 2,␣reward: -10\n",
            "Action: 2\n",
            "[[b'_' b'_' b'_' b'_' b'_' b'_' b'x' b'x' b'_' b'_' b'_' b'_' b'_' b'_']\n",
            " [b'_' b'_' b'_' b'_' b'_' b'_' b'x' b'x' b'_' b'_' b'_' b'_' b'_' b'_']\n",
            " [b'_' b'_' b'_' b'x' b'_' b'_' b'x' b'x' b'_' b'_' b'_' b'_' b'x' b'_']\n",
            " [b'_' b'_' b'_' b'x' b'_' b'A' b'x' b'_' b'_' b'_' b'_' b'x' b'x' b'_']\n",
            " [b'_' b'_' b'_' b'x' b'_' b'B' b'_' b'_' b'_' b'_' b'_' b'x' b'x' b'G']\n",
            " [b'_' b'_' b'_' b'x' b'_' b'_' b'_' b'_' b'_' b'_' b'_' b'x' b'x' b'_']]\n",
            "step: 16, state: (3, 4, 4, 5), actions: 3,␣reward: -11\n",
            "Action: 3\n",
            "[[b'_' b'_' b'_' b'_' b'_' b'_' b'x' b'x' b'_' b'_' b'_' b'_' b'_' b'_']\n",
            " [b'_' b'_' b'_' b'_' b'_' b'_' b'x' b'x' b'_' b'_' b'_' b'_' b'_' b'_']\n",
            " [b'_' b'_' b'_' b'x' b'_' b'_' b'x' b'x' b'_' b'_' b'_' b'_' b'x' b'_']\n",
            " [b'_' b'_' b'_' b'x' b'A' b'_' b'x' b'_' b'_' b'_' b'_' b'x' b'x' b'_']\n",
            " [b'_' b'_' b'_' b'x' b'_' b'B' b'_' b'_' b'_' b'_' b'_' b'x' b'x' b'G']\n",
            " [b'_' b'_' b'_' b'x' b'_' b'_' b'_' b'_' b'_' b'_' b'_' b'x' b'x' b'_']]\n",
            "step: 17, state: (4, 4, 4, 5), actions: 2,␣reward: -10\n",
            "Action: 2\n",
            "[[b'_' b'_' b'_' b'_' b'_' b'_' b'x' b'x' b'_' b'_' b'_' b'_' b'_' b'_']\n",
            " [b'_' b'_' b'_' b'_' b'_' b'_' b'x' b'x' b'_' b'_' b'_' b'_' b'_' b'_']\n",
            " [b'_' b'_' b'_' b'x' b'_' b'_' b'x' b'x' b'_' b'_' b'_' b'_' b'x' b'_']\n",
            " [b'_' b'_' b'_' b'x' b'_' b'_' b'x' b'_' b'_' b'_' b'_' b'x' b'x' b'_']\n",
            " [b'_' b'_' b'_' b'x' b'A' b'B' b'_' b'_' b'_' b'_' b'_' b'x' b'x' b'G']\n",
            " [b'_' b'_' b'_' b'x' b'_' b'_' b'_' b'_' b'_' b'_' b'_' b'x' b'x' b'_']]\n",
            "step: 18, state: (4, 5, 4, 6), actions: 4,␣reward: -9\n",
            "Action: 4\n",
            "[[b'_' b'_' b'_' b'_' b'_' b'_' b'x' b'x' b'_' b'_' b'_' b'_' b'_' b'_']\n",
            " [b'_' b'_' b'_' b'_' b'_' b'_' b'x' b'x' b'_' b'_' b'_' b'_' b'_' b'_']\n",
            " [b'_' b'_' b'_' b'x' b'_' b'_' b'x' b'x' b'_' b'_' b'_' b'_' b'x' b'_']\n",
            " [b'_' b'_' b'_' b'x' b'_' b'_' b'x' b'_' b'_' b'_' b'_' b'x' b'x' b'_']\n",
            " [b'_' b'_' b'_' b'x' b'_' b'A' b'B' b'_' b'_' b'_' b'_' b'x' b'x' b'G']\n",
            " [b'_' b'_' b'_' b'x' b'_' b'_' b'_' b'_' b'_' b'_' b'_' b'x' b'x' b'_']]\n",
            "step: 19, state: (4, 6, 4, 7), actions: 4,␣reward: -8\n",
            "Action: 4\n",
            "[[b'_' b'_' b'_' b'_' b'_' b'_' b'x' b'x' b'_' b'_' b'_' b'_' b'_' b'_']\n",
            " [b'_' b'_' b'_' b'_' b'_' b'_' b'x' b'x' b'_' b'_' b'_' b'_' b'_' b'_']\n",
            " [b'_' b'_' b'_' b'x' b'_' b'_' b'x' b'x' b'_' b'_' b'_' b'_' b'x' b'_']\n",
            " [b'_' b'_' b'_' b'x' b'_' b'_' b'x' b'_' b'_' b'_' b'_' b'x' b'x' b'_']\n",
            " [b'_' b'_' b'_' b'x' b'_' b'_' b'A' b'B' b'_' b'_' b'_' b'x' b'x' b'G']\n",
            " [b'_' b'_' b'_' b'x' b'_' b'_' b'_' b'_' b'_' b'_' b'_' b'x' b'x' b'_']]\n",
            "step: 20, state: (4, 7, 4, 8), actions: 4,␣reward: -7\n",
            "Action: 4\n",
            "[[b'_' b'_' b'_' b'_' b'_' b'_' b'x' b'x' b'_' b'_' b'_' b'_' b'_' b'_']\n",
            " [b'_' b'_' b'_' b'_' b'_' b'_' b'x' b'x' b'_' b'_' b'_' b'_' b'_' b'_']\n",
            " [b'_' b'_' b'_' b'x' b'_' b'_' b'x' b'x' b'_' b'_' b'_' b'_' b'x' b'_']\n",
            " [b'_' b'_' b'_' b'x' b'_' b'_' b'x' b'_' b'_' b'_' b'_' b'x' b'x' b'_']\n",
            " [b'_' b'_' b'_' b'x' b'_' b'_' b'_' b'A' b'B' b'_' b'_' b'x' b'x' b'G']\n",
            " [b'_' b'_' b'_' b'x' b'_' b'_' b'_' b'_' b'_' b'_' b'_' b'x' b'x' b'_']]\n",
            "step: 21, state: (4, 8, 4, 9), actions: 4,␣reward: -6\n",
            "Action: 4\n",
            "[[b'_' b'_' b'_' b'_' b'_' b'_' b'x' b'x' b'_' b'_' b'_' b'_' b'_' b'_']\n",
            " [b'_' b'_' b'_' b'_' b'_' b'_' b'x' b'x' b'_' b'_' b'_' b'_' b'_' b'_']\n",
            " [b'_' b'_' b'_' b'x' b'_' b'_' b'x' b'x' b'_' b'_' b'_' b'_' b'x' b'_']\n",
            " [b'_' b'_' b'_' b'x' b'_' b'_' b'x' b'_' b'_' b'_' b'_' b'x' b'x' b'_']\n",
            " [b'_' b'_' b'_' b'x' b'_' b'_' b'_' b'_' b'A' b'B' b'_' b'x' b'x' b'G']\n",
            " [b'_' b'_' b'_' b'x' b'_' b'_' b'_' b'_' b'_' b'_' b'_' b'x' b'x' b'_']]\n",
            "step: 22, state: (4, 9, 4, 10), actions: 4,␣reward: -5\n",
            "Action: 4\n",
            "[[b'_' b'_' b'_' b'_' b'_' b'_' b'x' b'x' b'_' b'_' b'_' b'_' b'_' b'_']\n",
            " [b'_' b'_' b'_' b'_' b'_' b'_' b'x' b'x' b'_' b'_' b'_' b'_' b'_' b'_']\n",
            " [b'_' b'_' b'_' b'x' b'_' b'_' b'x' b'x' b'_' b'_' b'_' b'_' b'x' b'_']\n",
            " [b'_' b'_' b'_' b'x' b'_' b'_' b'x' b'_' b'_' b'_' b'_' b'x' b'x' b'_']\n",
            " [b'_' b'_' b'_' b'x' b'_' b'_' b'_' b'_' b'_' b'A' b'B' b'x' b'x' b'G']\n",
            " [b'_' b'_' b'_' b'x' b'_' b'_' b'_' b'_' b'_' b'_' b'_' b'x' b'x' b'_']]\n",
            "step: 23, state: (5, 9, 4, 10), actions: 2,␣reward: -6\n",
            "Action: 2\n",
            "[[b'_' b'_' b'_' b'_' b'_' b'_' b'x' b'x' b'_' b'_' b'_' b'_' b'_' b'_']\n",
            " [b'_' b'_' b'_' b'_' b'_' b'_' b'x' b'x' b'_' b'_' b'_' b'_' b'_' b'_']\n",
            " [b'_' b'_' b'_' b'x' b'_' b'_' b'x' b'x' b'_' b'_' b'_' b'_' b'x' b'_']\n",
            " [b'_' b'_' b'_' b'x' b'_' b'_' b'x' b'_' b'_' b'_' b'_' b'x' b'x' b'_']\n",
            " [b'_' b'_' b'_' b'x' b'_' b'_' b'_' b'_' b'_' b'_' b'B' b'x' b'x' b'G']\n",
            " [b'_' b'_' b'_' b'x' b'_' b'_' b'_' b'_' b'_' b'A' b'_' b'x' b'x' b'_']]\n",
            "step: 24, state: (5, 10, 4, 10), actions: 4,␣reward: -5\n",
            "Action: 4\n",
            "[[b'_' b'_' b'_' b'_' b'_' b'_' b'x' b'x' b'_' b'_' b'_' b'_' b'_' b'_']\n",
            " [b'_' b'_' b'_' b'_' b'_' b'_' b'x' b'x' b'_' b'_' b'_' b'_' b'_' b'_']\n",
            " [b'_' b'_' b'_' b'x' b'_' b'_' b'x' b'x' b'_' b'_' b'_' b'_' b'x' b'_']\n",
            " [b'_' b'_' b'_' b'x' b'_' b'_' b'x' b'_' b'_' b'_' b'_' b'x' b'x' b'_']\n",
            " [b'_' b'_' b'_' b'x' b'_' b'_' b'_' b'_' b'_' b'_' b'B' b'x' b'x' b'G']\n",
            " [b'_' b'_' b'_' b'x' b'_' b'_' b'_' b'_' b'_' b'_' b'A' b'x' b'x' b'_']]\n",
            "step: 25, state: (4, 10, 3, 10), actions: 1,␣reward: -6\n",
            "Action: 1\n",
            "[[b'_' b'_' b'_' b'_' b'_' b'_' b'x' b'x' b'_' b'_' b'_' b'_' b'_' b'_']\n",
            " [b'_' b'_' b'_' b'_' b'_' b'_' b'x' b'x' b'_' b'_' b'_' b'_' b'_' b'_']\n",
            " [b'_' b'_' b'_' b'x' b'_' b'_' b'x' b'x' b'_' b'_' b'_' b'_' b'x' b'_']\n",
            " [b'_' b'_' b'_' b'x' b'_' b'_' b'x' b'_' b'_' b'_' b'B' b'x' b'x' b'_']\n",
            " [b'_' b'_' b'_' b'x' b'_' b'_' b'_' b'_' b'_' b'_' b'A' b'x' b'x' b'G']\n",
            " [b'_' b'_' b'_' b'x' b'_' b'_' b'_' b'_' b'_' b'_' b'_' b'x' b'x' b'_']]\n",
            "step: 26, state: (3, 10, 2, 10), actions: 1,␣reward: -7\n",
            "Action: 1\n",
            "[[b'_' b'_' b'_' b'_' b'_' b'_' b'x' b'x' b'_' b'_' b'_' b'_' b'_' b'_']\n",
            " [b'_' b'_' b'_' b'_' b'_' b'_' b'x' b'x' b'_' b'_' b'_' b'_' b'_' b'_']\n",
            " [b'_' b'_' b'_' b'x' b'_' b'_' b'x' b'x' b'_' b'_' b'B' b'_' b'x' b'_']\n",
            " [b'_' b'_' b'_' b'x' b'_' b'_' b'x' b'_' b'_' b'_' b'A' b'x' b'x' b'_']\n",
            " [b'_' b'_' b'_' b'x' b'_' b'_' b'_' b'_' b'_' b'_' b'_' b'x' b'x' b'G']\n",
            " [b'_' b'_' b'_' b'x' b'_' b'_' b'_' b'_' b'_' b'_' b'_' b'x' b'x' b'_']]\n",
            "step: 27, state: (2, 10, 1, 10), actions: 1,␣reward: -8\n",
            "Action: 1\n",
            "[[b'_' b'_' b'_' b'_' b'_' b'_' b'x' b'x' b'_' b'_' b'_' b'_' b'_' b'_']\n",
            " [b'_' b'_' b'_' b'_' b'_' b'_' b'x' b'x' b'_' b'_' b'B' b'_' b'_' b'_']\n",
            " [b'_' b'_' b'_' b'x' b'_' b'_' b'x' b'x' b'_' b'_' b'A' b'_' b'x' b'_']\n",
            " [b'_' b'_' b'_' b'x' b'_' b'_' b'x' b'_' b'_' b'_' b'_' b'x' b'x' b'_']\n",
            " [b'_' b'_' b'_' b'x' b'_' b'_' b'_' b'_' b'_' b'_' b'_' b'x' b'x' b'G']\n",
            " [b'_' b'_' b'_' b'x' b'_' b'_' b'_' b'_' b'_' b'_' b'_' b'x' b'x' b'_']]\n",
            "step: 28, state: (2, 9, 1, 10), actions: 3,␣reward: -9\n",
            "Action: 3\n",
            "[[b'_' b'_' b'_' b'_' b'_' b'_' b'x' b'x' b'_' b'_' b'_' b'_' b'_' b'_']\n",
            " [b'_' b'_' b'_' b'_' b'_' b'_' b'x' b'x' b'_' b'_' b'B' b'_' b'_' b'_']\n",
            " [b'_' b'_' b'_' b'x' b'_' b'_' b'x' b'x' b'_' b'A' b'_' b'_' b'x' b'_']\n",
            " [b'_' b'_' b'_' b'x' b'_' b'_' b'x' b'_' b'_' b'_' b'_' b'x' b'x' b'_']\n",
            " [b'_' b'_' b'_' b'x' b'_' b'_' b'_' b'_' b'_' b'_' b'_' b'x' b'x' b'G']\n",
            " [b'_' b'_' b'_' b'x' b'_' b'_' b'_' b'_' b'_' b'_' b'_' b'x' b'x' b'_']]\n",
            "step: 29, state: (1, 9, 1, 10), actions: 1,␣reward: -8\n",
            "Action: 1\n",
            "[[b'_' b'_' b'_' b'_' b'_' b'_' b'x' b'x' b'_' b'_' b'_' b'_' b'_' b'_']\n",
            " [b'_' b'_' b'_' b'_' b'_' b'_' b'x' b'x' b'_' b'A' b'B' b'_' b'_' b'_']\n",
            " [b'_' b'_' b'_' b'x' b'_' b'_' b'x' b'x' b'_' b'_' b'_' b'_' b'x' b'_']\n",
            " [b'_' b'_' b'_' b'x' b'_' b'_' b'x' b'_' b'_' b'_' b'_' b'x' b'x' b'_']\n",
            " [b'_' b'_' b'_' b'x' b'_' b'_' b'_' b'_' b'_' b'_' b'_' b'x' b'x' b'G']\n",
            " [b'_' b'_' b'_' b'x' b'_' b'_' b'_' b'_' b'_' b'_' b'_' b'x' b'x' b'_']]\n",
            "step: 30, state: (1, 10, 1, 11), actions: 4,␣reward: -7\n",
            "Action: 4\n",
            "[[b'_' b'_' b'_' b'_' b'_' b'_' b'x' b'x' b'_' b'_' b'_' b'_' b'_' b'_']\n",
            " [b'_' b'_' b'_' b'_' b'_' b'_' b'x' b'x' b'_' b'_' b'A' b'B' b'_' b'_']\n",
            " [b'_' b'_' b'_' b'x' b'_' b'_' b'x' b'x' b'_' b'_' b'_' b'_' b'x' b'_']\n",
            " [b'_' b'_' b'_' b'x' b'_' b'_' b'x' b'_' b'_' b'_' b'_' b'x' b'x' b'_']\n",
            " [b'_' b'_' b'_' b'x' b'_' b'_' b'_' b'_' b'_' b'_' b'_' b'x' b'x' b'G']\n",
            " [b'_' b'_' b'_' b'x' b'_' b'_' b'_' b'_' b'_' b'_' b'_' b'x' b'x' b'_']]\n",
            "step: 31, state: (1, 11, 1, 12), actions: 4,␣reward: -6\n",
            "Action: 4\n",
            "[[b'_' b'_' b'_' b'_' b'_' b'_' b'x' b'x' b'_' b'_' b'_' b'_' b'_' b'_']\n",
            " [b'_' b'_' b'_' b'_' b'_' b'_' b'x' b'x' b'_' b'_' b'_' b'A' b'B' b'_']\n",
            " [b'_' b'_' b'_' b'x' b'_' b'_' b'x' b'x' b'_' b'_' b'_' b'_' b'x' b'_']\n",
            " [b'_' b'_' b'_' b'x' b'_' b'_' b'x' b'_' b'_' b'_' b'_' b'x' b'x' b'_']\n",
            " [b'_' b'_' b'_' b'x' b'_' b'_' b'_' b'_' b'_' b'_' b'_' b'x' b'x' b'G']\n",
            " [b'_' b'_' b'_' b'x' b'_' b'_' b'_' b'_' b'_' b'_' b'_' b'x' b'x' b'_']]\n",
            "step: 32, state: (1, 12, 1, 13), actions: 4,␣reward: -5\n",
            "Action: 4\n",
            "[[b'_' b'_' b'_' b'_' b'_' b'_' b'x' b'x' b'_' b'_' b'_' b'_' b'_' b'_']\n",
            " [b'_' b'_' b'_' b'_' b'_' b'_' b'x' b'x' b'_' b'_' b'_' b'_' b'A' b'B']\n",
            " [b'_' b'_' b'_' b'x' b'_' b'_' b'x' b'x' b'_' b'_' b'_' b'_' b'x' b'_']\n",
            " [b'_' b'_' b'_' b'x' b'_' b'_' b'x' b'_' b'_' b'_' b'_' b'x' b'x' b'_']\n",
            " [b'_' b'_' b'_' b'x' b'_' b'_' b'_' b'_' b'_' b'_' b'_' b'x' b'x' b'G']\n",
            " [b'_' b'_' b'_' b'x' b'_' b'_' b'_' b'_' b'_' b'_' b'_' b'x' b'x' b'_']]\n",
            "step: 33, state: (0, 12, 1, 13), actions: 1,␣reward: -6\n",
            "Action: 1\n",
            "[[b'_' b'_' b'_' b'_' b'_' b'_' b'x' b'x' b'_' b'_' b'_' b'_' b'A' b'_']\n",
            " [b'_' b'_' b'_' b'_' b'_' b'_' b'x' b'x' b'_' b'_' b'_' b'_' b'_' b'B']\n",
            " [b'_' b'_' b'_' b'x' b'_' b'_' b'x' b'x' b'_' b'_' b'_' b'_' b'x' b'_']\n",
            " [b'_' b'_' b'_' b'x' b'_' b'_' b'x' b'_' b'_' b'_' b'_' b'x' b'x' b'_']\n",
            " [b'_' b'_' b'_' b'x' b'_' b'_' b'_' b'_' b'_' b'_' b'_' b'x' b'x' b'G']\n",
            " [b'_' b'_' b'_' b'x' b'_' b'_' b'_' b'_' b'_' b'_' b'_' b'x' b'x' b'_']]\n",
            "step: 34, state: (0, 13, 1, 13), actions: 4,␣reward: -5\n",
            "Action: 4\n",
            "[[b'_' b'_' b'_' b'_' b'_' b'_' b'x' b'x' b'_' b'_' b'_' b'_' b'_' b'A']\n",
            " [b'_' b'_' b'_' b'_' b'_' b'_' b'x' b'x' b'_' b'_' b'_' b'_' b'_' b'B']\n",
            " [b'_' b'_' b'_' b'x' b'_' b'_' b'x' b'x' b'_' b'_' b'_' b'_' b'x' b'_']\n",
            " [b'_' b'_' b'_' b'x' b'_' b'_' b'x' b'_' b'_' b'_' b'_' b'x' b'x' b'_']\n",
            " [b'_' b'_' b'_' b'x' b'_' b'_' b'_' b'_' b'_' b'_' b'_' b'x' b'x' b'G']\n",
            " [b'_' b'_' b'_' b'x' b'_' b'_' b'_' b'_' b'_' b'_' b'_' b'x' b'x' b'_']]\n",
            "step: 35, state: (1, 13, 2, 13), actions: 2,␣reward: -4\n",
            "Action: 2\n",
            "[[b'_' b'_' b'_' b'_' b'_' b'_' b'x' b'x' b'_' b'_' b'_' b'_' b'_' b'_']\n",
            " [b'_' b'_' b'_' b'_' b'_' b'_' b'x' b'x' b'_' b'_' b'_' b'_' b'_' b'A']\n",
            " [b'_' b'_' b'_' b'x' b'_' b'_' b'x' b'x' b'_' b'_' b'_' b'_' b'x' b'B']\n",
            " [b'_' b'_' b'_' b'x' b'_' b'_' b'x' b'_' b'_' b'_' b'_' b'x' b'x' b'_']\n",
            " [b'_' b'_' b'_' b'x' b'_' b'_' b'_' b'_' b'_' b'_' b'_' b'x' b'x' b'G']\n",
            " [b'_' b'_' b'_' b'x' b'_' b'_' b'_' b'_' b'_' b'_' b'_' b'x' b'x' b'_']]\n",
            "step: 36, state: (2, 13, 3, 13), actions: 2,␣reward: -3\n",
            "Action: 2\n",
            "[[b'_' b'_' b'_' b'_' b'_' b'_' b'x' b'x' b'_' b'_' b'_' b'_' b'_' b'_']\n",
            " [b'_' b'_' b'_' b'_' b'_' b'_' b'x' b'x' b'_' b'_' b'_' b'_' b'_' b'_']\n",
            " [b'_' b'_' b'_' b'x' b'_' b'_' b'x' b'x' b'_' b'_' b'_' b'_' b'x' b'A']\n",
            " [b'_' b'_' b'_' b'x' b'_' b'_' b'x' b'_' b'_' b'_' b'_' b'x' b'x' b'B']\n",
            " [b'_' b'_' b'_' b'x' b'_' b'_' b'_' b'_' b'_' b'_' b'_' b'x' b'x' b'G']\n",
            " [b'_' b'_' b'_' b'x' b'_' b'_' b'_' b'_' b'_' b'_' b'_' b'x' b'x' b'_']]\n",
            "step: 37, state: (3, 13, 4, 13), actions: 2,␣reward: 998\n",
            "Action: 2\n",
            "[[b'_' b'_' b'_' b'_' b'_' b'_' b'x' b'x' b'_' b'_' b'_' b'_' b'_' b'_']\n",
            " [b'_' b'_' b'_' b'_' b'_' b'_' b'x' b'x' b'_' b'_' b'_' b'_' b'_' b'_']\n",
            " [b'_' b'_' b'_' b'x' b'_' b'_' b'x' b'x' b'_' b'_' b'_' b'_' b'x' b'_']\n",
            " [b'_' b'_' b'_' b'x' b'_' b'_' b'x' b'_' b'_' b'_' b'_' b'x' b'x' b'A']\n",
            " [b'_' b'_' b'_' b'x' b'_' b'_' b'_' b'_' b'_' b'_' b'_' b'x' b'x' b'B']\n",
            " [b'_' b'_' b'_' b'x' b'_' b'_' b'_' b'_' b'_' b'_' b'_' b'x' b'x' b'_']]\n",
            "rewards: 642\n",
            "action history: [4, 1, 1, 1, 3, 1, 4, 4, 4, 4, 1, 4, 2, 2, 2, 3, 2, 4, 4, 4, 4, 4, 2, 4, 1, 1, 1, 3, 1, 4, 4, 4, 1, 4, 2, 2, 2]\n"
          ]
        }
      ],
      "source": [
        "visualize(QagentRE.q_table)"
      ]
    },
    {
      "cell_type": "markdown",
      "metadata": {
        "id": "iLgxxhiKs0RZ"
      },
      "source": [
        "## State–action–reward–state–action (SARSA)\n",
        "\n",
        "SARSA is a slight variation of the Q-Learning algorithm. It is an On Policy and uses the action performed by the current policy to learn the Q-value.\n",
        "\n",
        "It's update rule is: <br>\n",
        "$$Q(s_t,a_t)←Q(s_t,a_t)+α [r_{t+1}+γ\\,\\,Q(s_{t+1},a_{t+1})−Q(s_t,a_t)]$$"
      ]
    },
    {
      "cell_type": "markdown",
      "metadata": {
        "id": "zO2Anw7QEVbi"
      },
      "source": [
        "###SARSA algorithm without rewards engineering"
      ]
    },
    {
      "cell_type": "markdown",
      "metadata": {
        "id": "8KME6AF6FSha"
      },
      "source": [
        "#### Training"
      ]
    },
    {
      "cell_type": "code",
      "execution_count": null,
      "metadata": {
        "colab": {
          "background_save": true
        },
        "id": "DzhvmjiLEw5Y"
      },
      "outputs": [],
      "source": [
        "# increased the number of episodes to 10000 to see the trajectory of the rewards even though the rewards stabalize around 8000 episodes\n",
        "# ATTENTION: Some variable names have been modified to make it easier to differenciate between Q-Leaning and SARSA variables\n",
        "env = CliffBoxGridWorld()\n",
        "Sagent = RLAgent(env, num_episodes = episodes, epsilon = epsilon, alpha = alpha, gamma = gamma )\n",
        "Srewards = Sagent.learn(method = \"sarsa\")"
      ]
    },
    {
      "cell_type": "markdown",
      "metadata": {
        "id": "KwQk9sySFbQj"
      },
      "source": [
        "####Plotting the Learning Curve"
      ]
    },
    {
      "cell_type": "code",
      "execution_count": null,
      "metadata": {
        "colab": {
          "background_save": true
        },
        "id": "_vviYBF1Fgno",
        "outputId": "1a8814f8-72df-4d5f-87f1-30c318ce95d6"
      },
      "outputs": [
        {
          "data": {
            "image/png": "[encoded data removed]",
            "text/plain": [
              "<Figure size 640x480 with 1 Axes>"
            ]
          },
          "metadata": {},
          "output_type": "display_data"
        }
      ],
      "source": [
        "smooth_plot(Srewards)"
      ]
    },
    {
      "cell_type": "markdown",
      "metadata": {
        "id": "c3vglUpgFoK8"
      },
      "source": [
        "####Visualizing the V-Table and the Policy"
      ]
    },
    {
      "cell_type": "code",
      "execution_count": null,
      "metadata": {
        "colab": {
          "background_save": true
        },
        "id": "V8aeaS_fFlkz",
        "outputId": "a6dad6e3-5d35-4138-a166-23615a9993cd"
      },
      "outputs": [
        {
          "name": "stdout",
          "output_type": "stream",
          "text": [
            "V-Table:\n",
            "0 [-66.98 -66.82 -67.48 -66.07 -62.81 -57.6    0.     0.   -63.64 -57.02 -56.04 -50.23 -49.13 -40.64]\n",
            "1 [-58.08 -53.58 -53.56 -51.63 -60.25 -55.22   0.     0.   -53.45 -46.83 -44.53 -44.2  -41.06 -39.09]\n",
            "2 [-62.78 -52.73 -56.17   0.   -53.69 -54.91   0.     0.   -61.71 -54.34 -48.09 -55.3    0.   -44.84]\n",
            "3 [-63.42 -53.13 -62.77   0.   -59.29 -55.5    0.   -60.28 -60.18 -47.38 -52.6    0.     0.   -55.56]\n",
            "4 [-60.9  -52.36 -61.53   0.   -57.28 -53.89 -58.46 -53.87 -51.08 -48.44 -49.83   0.     0.   -54.62]\n",
            "5 [-63.26 -58.88 -68.03   0.   -66.59 -62.39 -62.05 -62.25 -61.52 -57.07 -51.75   0.     0.   -54.12]\n",
            "Learned Policy\n",
            "[[b'_' b'_' b'_' b'_' b'_' b'_' b'x' b'x' b'_' b'_' b'_' b'_' b'_' b'_']\n",
            " [b'_' b'_' b'_' b'_' b'_' b'_' b'x' b'x' b'_' b'_' b'_' b'_' b'_' b'_']\n",
            " [b'_' b'_' b'_' b'x' b'_' b'_' b'x' b'x' b'_' b'_' b'_' b'_' b'x' b'_']\n",
            " [b'_' b'_' b'_' b'x' b'_' b'_' b'x' b'_' b'_' b'_' b'_' b'x' b'x' b'_']\n",
            " [b'_' b'B' b'_' b'x' b'_' b'_' b'_' b'_' b'_' b'_' b'_' b'x' b'x' b'G']\n",
            " [b'A' b'_' b'_' b'x' b'_' b'_' b'_' b'_' b'_' b'_' b'_' b'x' b'x' b'_']]\n",
            "step: 1, state: (5, 1, 4, 1), actions: 4,␣reward: -14\n",
            "Action: 4\n",
            "[[b'_' b'_' b'_' b'_' b'_' b'_' b'x' b'x' b'_' b'_' b'_' b'_' b'_' b'_']\n",
            " [b'_' b'_' b'_' b'_' b'_' b'_' b'x' b'x' b'_' b'_' b'_' b'_' b'_' b'_']\n",
            " [b'_' b'_' b'_' b'x' b'_' b'_' b'x' b'x' b'_' b'_' b'_' b'_' b'x' b'_']\n",
            " [b'_' b'_' b'_' b'x' b'_' b'_' b'x' b'_' b'_' b'_' b'_' b'x' b'x' b'_']\n",
            " [b'_' b'B' b'_' b'x' b'_' b'_' b'_' b'_' b'_' b'_' b'_' b'x' b'x' b'G']\n",
            " [b'_' b'A' b'_' b'x' b'_' b'_' b'_' b'_' b'_' b'_' b'_' b'x' b'x' b'_']]\n",
            "step: 2, state: (4, 1, 3, 1), actions: 1,␣reward: -15\n",
            "Action: 1\n",
            "[[b'_' b'_' b'_' b'_' b'_' b'_' b'x' b'x' b'_' b'_' b'_' b'_' b'_' b'_']\n",
            " [b'_' b'_' b'_' b'_' b'_' b'_' b'x' b'x' b'_' b'_' b'_' b'_' b'_' b'_']\n",
            " [b'_' b'_' b'_' b'x' b'_' b'_' b'x' b'x' b'_' b'_' b'_' b'_' b'x' b'_']\n",
            " [b'_' b'B' b'_' b'x' b'_' b'_' b'x' b'_' b'_' b'_' b'_' b'x' b'x' b'_']\n",
            " [b'_' b'A' b'_' b'x' b'_' b'_' b'_' b'_' b'_' b'_' b'_' b'x' b'x' b'G']\n",
            " [b'_' b'_' b'_' b'x' b'_' b'_' b'_' b'_' b'_' b'_' b'_' b'x' b'x' b'_']]\n",
            "step: 3, state: (3, 1, 2, 1), actions: 1,␣reward: -16\n",
            "Action: 1\n",
            "[[b'_' b'_' b'_' b'_' b'_' b'_' b'x' b'x' b'_' b'_' b'_' b'_' b'_' b'_']\n",
            " [b'_' b'_' b'_' b'_' b'_' b'_' b'x' b'x' b'_' b'_' b'_' b'_' b'_' b'_']\n",
            " [b'_' b'B' b'_' b'x' b'_' b'_' b'x' b'x' b'_' b'_' b'_' b'_' b'x' b'_']\n",
            " [b'_' b'A' b'_' b'x' b'_' b'_' b'x' b'_' b'_' b'_' b'_' b'x' b'x' b'_']\n",
            " [b'_' b'_' b'_' b'x' b'_' b'_' b'_' b'_' b'_' b'_' b'_' b'x' b'x' b'G']\n",
            " [b'_' b'_' b'_' b'x' b'_' b'_' b'_' b'_' b'_' b'_' b'_' b'x' b'x' b'_']]\n",
            "step: 4, state: (2, 1, 1, 1), actions: 1,␣reward: -17\n",
            "Action: 1\n",
            "[[b'_' b'_' b'_' b'_' b'_' b'_' b'x' b'x' b'_' b'_' b'_' b'_' b'_' b'_']\n",
            " [b'_' b'B' b'_' b'_' b'_' b'_' b'x' b'x' b'_' b'_' b'_' b'_' b'_' b'_']\n",
            " [b'_' b'A' b'_' b'x' b'_' b'_' b'x' b'x' b'_' b'_' b'_' b'_' b'x' b'_']\n",
            " [b'_' b'_' b'_' b'x' b'_' b'_' b'x' b'_' b'_' b'_' b'_' b'x' b'x' b'_']\n",
            " [b'_' b'_' b'_' b'x' b'_' b'_' b'_' b'_' b'_' b'_' b'_' b'x' b'x' b'G']\n",
            " [b'_' b'_' b'_' b'x' b'_' b'_' b'_' b'_' b'_' b'_' b'_' b'x' b'x' b'_']]\n",
            "step: 5, state: (2, 0, 1, 1), actions: 3,␣reward: -18\n",
            "Action: 3\n",
            "[[b'_' b'_' b'_' b'_' b'_' b'_' b'x' b'x' b'_' b'_' b'_' b'_' b'_' b'_']\n",
            " [b'_' b'B' b'_' b'_' b'_' b'_' b'x' b'x' b'_' b'_' b'_' b'_' b'_' b'_']\n",
            " [b'A' b'_' b'_' b'x' b'_' b'_' b'x' b'x' b'_' b'_' b'_' b'_' b'x' b'_']\n",
            " [b'_' b'_' b'_' b'x' b'_' b'_' b'x' b'_' b'_' b'_' b'_' b'x' b'x' b'_']\n",
            " [b'_' b'_' b'_' b'x' b'_' b'_' b'_' b'_' b'_' b'_' b'_' b'x' b'x' b'G']\n",
            " [b'_' b'_' b'_' b'x' b'_' b'_' b'_' b'_' b'_' b'_' b'_' b'x' b'x' b'_']]\n",
            "step: 6, state: (1, 0, 1, 1), actions: 1,␣reward: -17\n",
            "Action: 1\n",
            "[[b'_' b'_' b'_' b'_' b'_' b'_' b'x' b'x' b'_' b'_' b'_' b'_' b'_' b'_']\n",
            " [b'A' b'B' b'_' b'_' b'_' b'_' b'x' b'x' b'_' b'_' b'_' b'_' b'_' b'_']\n",
            " [b'_' b'_' b'_' b'x' b'_' b'_' b'x' b'x' b'_' b'_' b'_' b'_' b'x' b'_']\n",
            " [b'_' b'_' b'_' b'x' b'_' b'_' b'x' b'_' b'_' b'_' b'_' b'x' b'x' b'_']\n",
            " [b'_' b'_' b'_' b'x' b'_' b'_' b'_' b'_' b'_' b'_' b'_' b'x' b'x' b'G']\n",
            " [b'_' b'_' b'_' b'x' b'_' b'_' b'_' b'_' b'_' b'_' b'_' b'x' b'x' b'_']]\n",
            "step: 7, state: (1, 1, 1, 2), actions: 4,␣reward: -16\n",
            "Action: 4\n",
            "[[b'_' b'_' b'_' b'_' b'_' b'_' b'x' b'x' b'_' b'_' b'_' b'_' b'_' b'_']\n",
            " [b'_' b'A' b'B' b'_' b'_' b'_' b'x' b'x' b'_' b'_' b'_' b'_' b'_' b'_']\n",
            " [b'_' b'_' b'_' b'x' b'_' b'_' b'x' b'x' b'_' b'_' b'_' b'_' b'x' b'_']\n",
            " [b'_' b'_' b'_' b'x' b'_' b'_' b'x' b'_' b'_' b'_' b'_' b'x' b'x' b'_']\n",
            " [b'_' b'_' b'_' b'x' b'_' b'_' b'_' b'_' b'_' b'_' b'_' b'x' b'x' b'G']\n",
            " [b'_' b'_' b'_' b'x' b'_' b'_' b'_' b'_' b'_' b'_' b'_' b'x' b'x' b'_']]\n",
            "step: 8, state: (1, 2, 1, 3), actions: 4,␣reward: -15\n",
            "Action: 4\n",
            "[[b'_' b'_' b'_' b'_' b'_' b'_' b'x' b'x' b'_' b'_' b'_' b'_' b'_' b'_']\n",
            " [b'_' b'_' b'A' b'B' b'_' b'_' b'x' b'x' b'_' b'_' b'_' b'_' b'_' b'_']\n",
            " [b'_' b'_' b'_' b'x' b'_' b'_' b'x' b'x' b'_' b'_' b'_' b'_' b'x' b'_']\n",
            " [b'_' b'_' b'_' b'x' b'_' b'_' b'x' b'_' b'_' b'_' b'_' b'x' b'x' b'_']\n",
            " [b'_' b'_' b'_' b'x' b'_' b'_' b'_' b'_' b'_' b'_' b'_' b'x' b'x' b'G']\n",
            " [b'_' b'_' b'_' b'x' b'_' b'_' b'_' b'_' b'_' b'_' b'_' b'x' b'x' b'_']]\n",
            "step: 9, state: (1, 3, 1, 4), actions: 4,␣reward: -14\n",
            "Action: 4\n",
            "[[b'_' b'_' b'_' b'_' b'_' b'_' b'x' b'x' b'_' b'_' b'_' b'_' b'_' b'_']\n",
            " [b'_' b'_' b'_' b'A' b'B' b'_' b'x' b'x' b'_' b'_' b'_' b'_' b'_' b'_']\n",
            " [b'_' b'_' b'_' b'x' b'_' b'_' b'x' b'x' b'_' b'_' b'_' b'_' b'x' b'_']\n",
            " [b'_' b'_' b'_' b'x' b'_' b'_' b'x' b'_' b'_' b'_' b'_' b'x' b'x' b'_']\n",
            " [b'_' b'_' b'_' b'x' b'_' b'_' b'_' b'_' b'_' b'_' b'_' b'x' b'x' b'G']\n",
            " [b'_' b'_' b'_' b'x' b'_' b'_' b'_' b'_' b'_' b'_' b'_' b'x' b'x' b'_']]\n",
            "step: 10, state: (1, 4, 1, 5), actions: 4,␣reward: -13\n",
            "Action: 4\n",
            "[[b'_' b'_' b'_' b'_' b'_' b'_' b'x' b'x' b'_' b'_' b'_' b'_' b'_' b'_']\n",
            " [b'_' b'_' b'_' b'_' b'A' b'B' b'x' b'x' b'_' b'_' b'_' b'_' b'_' b'_']\n",
            " [b'_' b'_' b'_' b'x' b'_' b'_' b'x' b'x' b'_' b'_' b'_' b'_' b'x' b'_']\n",
            " [b'_' b'_' b'_' b'x' b'_' b'_' b'x' b'_' b'_' b'_' b'_' b'x' b'x' b'_']\n",
            " [b'_' b'_' b'_' b'x' b'_' b'_' b'_' b'_' b'_' b'_' b'_' b'x' b'x' b'G']\n",
            " [b'_' b'_' b'_' b'x' b'_' b'_' b'_' b'_' b'_' b'_' b'_' b'x' b'x' b'_']]\n",
            "step: 11, state: (0, 4, 1, 5), actions: 1,␣reward: -14\n",
            "Action: 1\n",
            "[[b'_' b'_' b'_' b'_' b'A' b'_' b'x' b'x' b'_' b'_' b'_' b'_' b'_' b'_']\n",
            " [b'_' b'_' b'_' b'_' b'_' b'B' b'x' b'x' b'_' b'_' b'_' b'_' b'_' b'_']\n",
            " [b'_' b'_' b'_' b'x' b'_' b'_' b'x' b'x' b'_' b'_' b'_' b'_' b'x' b'_']\n",
            " [b'_' b'_' b'_' b'x' b'_' b'_' b'x' b'_' b'_' b'_' b'_' b'x' b'x' b'_']\n",
            " [b'_' b'_' b'_' b'x' b'_' b'_' b'_' b'_' b'_' b'_' b'_' b'x' b'x' b'G']\n",
            " [b'_' b'_' b'_' b'x' b'_' b'_' b'_' b'_' b'_' b'_' b'_' b'x' b'x' b'_']]\n",
            "step: 12, state: (0, 5, 1, 5), actions: 4,␣reward: -13\n",
            "Action: 4\n",
            "[[b'_' b'_' b'_' b'_' b'_' b'A' b'x' b'x' b'_' b'_' b'_' b'_' b'_' b'_']\n",
            " [b'_' b'_' b'_' b'_' b'_' b'B' b'x' b'x' b'_' b'_' b'_' b'_' b'_' b'_']\n",
            " [b'_' b'_' b'_' b'x' b'_' b'_' b'x' b'x' b'_' b'_' b'_' b'_' b'x' b'_']\n",
            " [b'_' b'_' b'_' b'x' b'_' b'_' b'x' b'_' b'_' b'_' b'_' b'x' b'x' b'_']\n",
            " [b'_' b'_' b'_' b'x' b'_' b'_' b'_' b'_' b'_' b'_' b'_' b'x' b'x' b'G']\n",
            " [b'_' b'_' b'_' b'x' b'_' b'_' b'_' b'_' b'_' b'_' b'_' b'x' b'x' b'_']]\n",
            "step: 13, state: (1, 5, 2, 5), actions: 2,␣reward: -12\n",
            "Action: 2\n",
            "[[b'_' b'_' b'_' b'_' b'_' b'_' b'x' b'x' b'_' b'_' b'_' b'_' b'_' b'_']\n",
            " [b'_' b'_' b'_' b'_' b'_' b'A' b'x' b'x' b'_' b'_' b'_' b'_' b'_' b'_']\n",
            " [b'_' b'_' b'_' b'x' b'_' b'B' b'x' b'x' b'_' b'_' b'_' b'_' b'x' b'_']\n",
            " [b'_' b'_' b'_' b'x' b'_' b'_' b'x' b'_' b'_' b'_' b'_' b'x' b'x' b'_']\n",
            " [b'_' b'_' b'_' b'x' b'_' b'_' b'_' b'_' b'_' b'_' b'_' b'x' b'x' b'G']\n",
            " [b'_' b'_' b'_' b'x' b'_' b'_' b'_' b'_' b'_' b'_' b'_' b'x' b'x' b'_']]\n",
            "step: 14, state: (2, 5, 3, 5), actions: 2,␣reward: -11\n",
            "Action: 2\n",
            "[[b'_' b'_' b'_' b'_' b'_' b'_' b'x' b'x' b'_' b'_' b'_' b'_' b'_' b'_']\n",
            " [b'_' b'_' b'_' b'_' b'_' b'_' b'x' b'x' b'_' b'_' b'_' b'_' b'_' b'_']\n",
            " [b'_' b'_' b'_' b'x' b'_' b'A' b'x' b'x' b'_' b'_' b'_' b'_' b'x' b'_']\n",
            " [b'_' b'_' b'_' b'x' b'_' b'B' b'x' b'_' b'_' b'_' b'_' b'x' b'x' b'_']\n",
            " [b'_' b'_' b'_' b'x' b'_' b'_' b'_' b'_' b'_' b'_' b'_' b'x' b'x' b'G']\n",
            " [b'_' b'_' b'_' b'x' b'_' b'_' b'_' b'_' b'_' b'_' b'_' b'x' b'x' b'_']]\n",
            "step: 15, state: (3, 5, 4, 5), actions: 2,␣reward: -10\n",
            "Action: 2\n",
            "[[b'_' b'_' b'_' b'_' b'_' b'_' b'x' b'x' b'_' b'_' b'_' b'_' b'_' b'_']\n",
            " [b'_' b'_' b'_' b'_' b'_' b'_' b'x' b'x' b'_' b'_' b'_' b'_' b'_' b'_']\n",
            " [b'_' b'_' b'_' b'x' b'_' b'_' b'x' b'x' b'_' b'_' b'_' b'_' b'x' b'_']\n",
            " [b'_' b'_' b'_' b'x' b'_' b'A' b'x' b'_' b'_' b'_' b'_' b'x' b'x' b'_']\n",
            " [b'_' b'_' b'_' b'x' b'_' b'B' b'_' b'_' b'_' b'_' b'_' b'x' b'x' b'G']\n",
            " [b'_' b'_' b'_' b'x' b'_' b'_' b'_' b'_' b'_' b'_' b'_' b'x' b'x' b'_']]\n",
            "step: 16, state: (3, 4, 4, 5), actions: 3,␣reward: -11\n",
            "Action: 3\n",
            "[[b'_' b'_' b'_' b'_' b'_' b'_' b'x' b'x' b'_' b'_' b'_' b'_' b'_' b'_']\n",
            " [b'_' b'_' b'_' b'_' b'_' b'_' b'x' b'x' b'_' b'_' b'_' b'_' b'_' b'_']\n",
            " [b'_' b'_' b'_' b'x' b'_' b'_' b'x' b'x' b'_' b'_' b'_' b'_' b'x' b'_']\n",
            " [b'_' b'_' b'_' b'x' b'A' b'_' b'x' b'_' b'_' b'_' b'_' b'x' b'x' b'_']\n",
            " [b'_' b'_' b'_' b'x' b'_' b'B' b'_' b'_' b'_' b'_' b'_' b'x' b'x' b'G']\n",
            " [b'_' b'_' b'_' b'x' b'_' b'_' b'_' b'_' b'_' b'_' b'_' b'x' b'x' b'_']]\n",
            "step: 17, state: (4, 4, 4, 5), actions: 2,␣reward: -10\n",
            "Action: 2\n",
            "[[b'_' b'_' b'_' b'_' b'_' b'_' b'x' b'x' b'_' b'_' b'_' b'_' b'_' b'_']\n",
            " [b'_' b'_' b'_' b'_' b'_' b'_' b'x' b'x' b'_' b'_' b'_' b'_' b'_' b'_']\n",
            " [b'_' b'_' b'_' b'x' b'_' b'_' b'x' b'x' b'_' b'_' b'_' b'_' b'x' b'_']\n",
            " [b'_' b'_' b'_' b'x' b'_' b'_' b'x' b'_' b'_' b'_' b'_' b'x' b'x' b'_']\n",
            " [b'_' b'_' b'_' b'x' b'A' b'B' b'_' b'_' b'_' b'_' b'_' b'x' b'x' b'G']\n",
            " [b'_' b'_' b'_' b'x' b'_' b'_' b'_' b'_' b'_' b'_' b'_' b'x' b'x' b'_']]\n",
            "step: 18, state: (4, 5, 4, 6), actions: 4,␣reward: -9\n",
            "Action: 4\n",
            "[[b'_' b'_' b'_' b'_' b'_' b'_' b'x' b'x' b'_' b'_' b'_' b'_' b'_' b'_']\n",
            " [b'_' b'_' b'_' b'_' b'_' b'_' b'x' b'x' b'_' b'_' b'_' b'_' b'_' b'_']\n",
            " [b'_' b'_' b'_' b'x' b'_' b'_' b'x' b'x' b'_' b'_' b'_' b'_' b'x' b'_']\n",
            " [b'_' b'_' b'_' b'x' b'_' b'_' b'x' b'_' b'_' b'_' b'_' b'x' b'x' b'_']\n",
            " [b'_' b'_' b'_' b'x' b'_' b'A' b'B' b'_' b'_' b'_' b'_' b'x' b'x' b'G']\n",
            " [b'_' b'_' b'_' b'x' b'_' b'_' b'_' b'_' b'_' b'_' b'_' b'x' b'x' b'_']]\n",
            "step: 19, state: (4, 6, 4, 7), actions: 4,␣reward: -8\n",
            "Action: 4\n",
            "[[b'_' b'_' b'_' b'_' b'_' b'_' b'x' b'x' b'_' b'_' b'_' b'_' b'_' b'_']\n",
            " [b'_' b'_' b'_' b'_' b'_' b'_' b'x' b'x' b'_' b'_' b'_' b'_' b'_' b'_']\n",
            " [b'_' b'_' b'_' b'x' b'_' b'_' b'x' b'x' b'_' b'_' b'_' b'_' b'x' b'_']\n",
            " [b'_' b'_' b'_' b'x' b'_' b'_' b'x' b'_' b'_' b'_' b'_' b'x' b'x' b'_']\n",
            " [b'_' b'_' b'_' b'x' b'_' b'_' b'A' b'B' b'_' b'_' b'_' b'x' b'x' b'G']\n",
            " [b'_' b'_' b'_' b'x' b'_' b'_' b'_' b'_' b'_' b'_' b'_' b'x' b'x' b'_']]\n",
            "step: 20, state: (4, 7, 4, 8), actions: 4,␣reward: -7\n",
            "Action: 4\n",
            "[[b'_' b'_' b'_' b'_' b'_' b'_' b'x' b'x' b'_' b'_' b'_' b'_' b'_' b'_']\n",
            " [b'_' b'_' b'_' b'_' b'_' b'_' b'x' b'x' b'_' b'_' b'_' b'_' b'_' b'_']\n",
            " [b'_' b'_' b'_' b'x' b'_' b'_' b'x' b'x' b'_' b'_' b'_' b'_' b'x' b'_']\n",
            " [b'_' b'_' b'_' b'x' b'_' b'_' b'x' b'_' b'_' b'_' b'_' b'x' b'x' b'_']\n",
            " [b'_' b'_' b'_' b'x' b'_' b'_' b'_' b'A' b'B' b'_' b'_' b'x' b'x' b'G']\n",
            " [b'_' b'_' b'_' b'x' b'_' b'_' b'_' b'_' b'_' b'_' b'_' b'x' b'x' b'_']]\n",
            "step: 21, state: (4, 8, 4, 9), actions: 4,␣reward: -6\n",
            "Action: 4\n",
            "[[b'_' b'_' b'_' b'_' b'_' b'_' b'x' b'x' b'_' b'_' b'_' b'_' b'_' b'_']\n",
            " [b'_' b'_' b'_' b'_' b'_' b'_' b'x' b'x' b'_' b'_' b'_' b'_' b'_' b'_']\n",
            " [b'_' b'_' b'_' b'x' b'_' b'_' b'x' b'x' b'_' b'_' b'_' b'_' b'x' b'_']\n",
            " [b'_' b'_' b'_' b'x' b'_' b'_' b'x' b'_' b'_' b'_' b'_' b'x' b'x' b'_']\n",
            " [b'_' b'_' b'_' b'x' b'_' b'_' b'_' b'_' b'A' b'B' b'_' b'x' b'x' b'G']\n",
            " [b'_' b'_' b'_' b'x' b'_' b'_' b'_' b'_' b'_' b'_' b'_' b'x' b'x' b'_']]\n",
            "step: 22, state: (4, 9, 4, 10), actions: 4,␣reward: -5\n",
            "Action: 4\n",
            "[[b'_' b'_' b'_' b'_' b'_' b'_' b'x' b'x' b'_' b'_' b'_' b'_' b'_' b'_']\n",
            " [b'_' b'_' b'_' b'_' b'_' b'_' b'x' b'x' b'_' b'_' b'_' b'_' b'_' b'_']\n",
            " [b'_' b'_' b'_' b'x' b'_' b'_' b'x' b'x' b'_' b'_' b'_' b'_' b'x' b'_']\n",
            " [b'_' b'_' b'_' b'x' b'_' b'_' b'x' b'_' b'_' b'_' b'_' b'x' b'x' b'_']\n",
            " [b'_' b'_' b'_' b'x' b'_' b'_' b'_' b'_' b'_' b'A' b'B' b'x' b'x' b'G']\n",
            " [b'_' b'_' b'_' b'x' b'_' b'_' b'_' b'_' b'_' b'_' b'_' b'x' b'x' b'_']]\n",
            "step: 23, state: (5, 9, 4, 10), actions: 2,␣reward: -6\n",
            "Action: 2\n",
            "[[b'_' b'_' b'_' b'_' b'_' b'_' b'x' b'x' b'_' b'_' b'_' b'_' b'_' b'_']\n",
            " [b'_' b'_' b'_' b'_' b'_' b'_' b'x' b'x' b'_' b'_' b'_' b'_' b'_' b'_']\n",
            " [b'_' b'_' b'_' b'x' b'_' b'_' b'x' b'x' b'_' b'_' b'_' b'_' b'x' b'_']\n",
            " [b'_' b'_' b'_' b'x' b'_' b'_' b'x' b'_' b'_' b'_' b'_' b'x' b'x' b'_']\n",
            " [b'_' b'_' b'_' b'x' b'_' b'_' b'_' b'_' b'_' b'_' b'B' b'x' b'x' b'G']\n",
            " [b'_' b'_' b'_' b'x' b'_' b'_' b'_' b'_' b'_' b'A' b'_' b'x' b'x' b'_']]\n",
            "step: 24, state: (5, 10, 4, 10), actions: 4,␣reward: -5\n",
            "Action: 4\n",
            "[[b'_' b'_' b'_' b'_' b'_' b'_' b'x' b'x' b'_' b'_' b'_' b'_' b'_' b'_']\n",
            " [b'_' b'_' b'_' b'_' b'_' b'_' b'x' b'x' b'_' b'_' b'_' b'_' b'_' b'_']\n",
            " [b'_' b'_' b'_' b'x' b'_' b'_' b'x' b'x' b'_' b'_' b'_' b'_' b'x' b'_']\n",
            " [b'_' b'_' b'_' b'x' b'_' b'_' b'x' b'_' b'_' b'_' b'_' b'x' b'x' b'_']\n",
            " [b'_' b'_' b'_' b'x' b'_' b'_' b'_' b'_' b'_' b'_' b'B' b'x' b'x' b'G']\n",
            " [b'_' b'_' b'_' b'x' b'_' b'_' b'_' b'_' b'_' b'_' b'A' b'x' b'x' b'_']]\n",
            "step: 25, state: (4, 10, 3, 10), actions: 1,␣reward: -6\n",
            "Action: 1\n",
            "[[b'_' b'_' b'_' b'_' b'_' b'_' b'x' b'x' b'_' b'_' b'_' b'_' b'_' b'_']\n",
            " [b'_' b'_' b'_' b'_' b'_' b'_' b'x' b'x' b'_' b'_' b'_' b'_' b'_' b'_']\n",
            " [b'_' b'_' b'_' b'x' b'_' b'_' b'x' b'x' b'_' b'_' b'_' b'_' b'x' b'_']\n",
            " [b'_' b'_' b'_' b'x' b'_' b'_' b'x' b'_' b'_' b'_' b'B' b'x' b'x' b'_']\n",
            " [b'_' b'_' b'_' b'x' b'_' b'_' b'_' b'_' b'_' b'_' b'A' b'x' b'x' b'G']\n",
            " [b'_' b'_' b'_' b'x' b'_' b'_' b'_' b'_' b'_' b'_' b'_' b'x' b'x' b'_']]\n",
            "step: 26, state: (3, 10, 2, 10), actions: 1,␣reward: -7\n",
            "Action: 1\n",
            "[[b'_' b'_' b'_' b'_' b'_' b'_' b'x' b'x' b'_' b'_' b'_' b'_' b'_' b'_']\n",
            " [b'_' b'_' b'_' b'_' b'_' b'_' b'x' b'x' b'_' b'_' b'_' b'_' b'_' b'_']\n",
            " [b'_' b'_' b'_' b'x' b'_' b'_' b'x' b'x' b'_' b'_' b'B' b'_' b'x' b'_']\n",
            " [b'_' b'_' b'_' b'x' b'_' b'_' b'x' b'_' b'_' b'_' b'A' b'x' b'x' b'_']\n",
            " [b'_' b'_' b'_' b'x' b'_' b'_' b'_' b'_' b'_' b'_' b'_' b'x' b'x' b'G']\n",
            " [b'_' b'_' b'_' b'x' b'_' b'_' b'_' b'_' b'_' b'_' b'_' b'x' b'x' b'_']]\n",
            "step: 27, state: (2, 10, 1, 10), actions: 1,␣reward: -8\n",
            "Action: 1\n",
            "[[b'_' b'_' b'_' b'_' b'_' b'_' b'x' b'x' b'_' b'_' b'_' b'_' b'_' b'_']\n",
            " [b'_' b'_' b'_' b'_' b'_' b'_' b'x' b'x' b'_' b'_' b'B' b'_' b'_' b'_']\n",
            " [b'_' b'_' b'_' b'x' b'_' b'_' b'x' b'x' b'_' b'_' b'A' b'_' b'x' b'_']\n",
            " [b'_' b'_' b'_' b'x' b'_' b'_' b'x' b'_' b'_' b'_' b'_' b'x' b'x' b'_']\n",
            " [b'_' b'_' b'_' b'x' b'_' b'_' b'_' b'_' b'_' b'_' b'_' b'x' b'x' b'G']\n",
            " [b'_' b'_' b'_' b'x' b'_' b'_' b'_' b'_' b'_' b'_' b'_' b'x' b'x' b'_']]\n",
            "step: 28, state: (2, 9, 1, 10), actions: 3,␣reward: -9\n",
            "Action: 3\n",
            "[[b'_' b'_' b'_' b'_' b'_' b'_' b'x' b'x' b'_' b'_' b'_' b'_' b'_' b'_']\n",
            " [b'_' b'_' b'_' b'_' b'_' b'_' b'x' b'x' b'_' b'_' b'B' b'_' b'_' b'_']\n",
            " [b'_' b'_' b'_' b'x' b'_' b'_' b'x' b'x' b'_' b'A' b'_' b'_' b'x' b'_']\n",
            " [b'_' b'_' b'_' b'x' b'_' b'_' b'x' b'_' b'_' b'_' b'_' b'x' b'x' b'_']\n",
            " [b'_' b'_' b'_' b'x' b'_' b'_' b'_' b'_' b'_' b'_' b'_' b'x' b'x' b'G']\n",
            " [b'_' b'_' b'_' b'x' b'_' b'_' b'_' b'_' b'_' b'_' b'_' b'x' b'x' b'_']]\n",
            "step: 29, state: (1, 9, 1, 10), actions: 1,␣reward: -8\n",
            "Action: 1\n",
            "[[b'_' b'_' b'_' b'_' b'_' b'_' b'x' b'x' b'_' b'_' b'_' b'_' b'_' b'_']\n",
            " [b'_' b'_' b'_' b'_' b'_' b'_' b'x' b'x' b'_' b'A' b'B' b'_' b'_' b'_']\n",
            " [b'_' b'_' b'_' b'x' b'_' b'_' b'x' b'x' b'_' b'_' b'_' b'_' b'x' b'_']\n",
            " [b'_' b'_' b'_' b'x' b'_' b'_' b'x' b'_' b'_' b'_' b'_' b'x' b'x' b'_']\n",
            " [b'_' b'_' b'_' b'x' b'_' b'_' b'_' b'_' b'_' b'_' b'_' b'x' b'x' b'G']\n",
            " [b'_' b'_' b'_' b'x' b'_' b'_' b'_' b'_' b'_' b'_' b'_' b'x' b'x' b'_']]\n",
            "step: 30, state: (1, 10, 1, 11), actions: 4,␣reward: -7\n",
            "Action: 4\n",
            "[[b'_' b'_' b'_' b'_' b'_' b'_' b'x' b'x' b'_' b'_' b'_' b'_' b'_' b'_']\n",
            " [b'_' b'_' b'_' b'_' b'_' b'_' b'x' b'x' b'_' b'_' b'A' b'B' b'_' b'_']\n",
            " [b'_' b'_' b'_' b'x' b'_' b'_' b'x' b'x' b'_' b'_' b'_' b'_' b'x' b'_']\n",
            " [b'_' b'_' b'_' b'x' b'_' b'_' b'x' b'_' b'_' b'_' b'_' b'x' b'x' b'_']\n",
            " [b'_' b'_' b'_' b'x' b'_' b'_' b'_' b'_' b'_' b'_' b'_' b'x' b'x' b'G']\n",
            " [b'_' b'_' b'_' b'x' b'_' b'_' b'_' b'_' b'_' b'_' b'_' b'x' b'x' b'_']]\n",
            "step: 31, state: (1, 11, 1, 12), actions: 4,␣reward: -6\n",
            "Action: 4\n",
            "[[b'_' b'_' b'_' b'_' b'_' b'_' b'x' b'x' b'_' b'_' b'_' b'_' b'_' b'_']\n",
            " [b'_' b'_' b'_' b'_' b'_' b'_' b'x' b'x' b'_' b'_' b'_' b'A' b'B' b'_']\n",
            " [b'_' b'_' b'_' b'x' b'_' b'_' b'x' b'x' b'_' b'_' b'_' b'_' b'x' b'_']\n",
            " [b'_' b'_' b'_' b'x' b'_' b'_' b'x' b'_' b'_' b'_' b'_' b'x' b'x' b'_']\n",
            " [b'_' b'_' b'_' b'x' b'_' b'_' b'_' b'_' b'_' b'_' b'_' b'x' b'x' b'G']\n",
            " [b'_' b'_' b'_' b'x' b'_' b'_' b'_' b'_' b'_' b'_' b'_' b'x' b'x' b'_']]\n",
            "step: 32, state: (1, 12, 1, 13), actions: 4,␣reward: -5\n",
            "Action: 4\n",
            "[[b'_' b'_' b'_' b'_' b'_' b'_' b'x' b'x' b'_' b'_' b'_' b'_' b'_' b'_']\n",
            " [b'_' b'_' b'_' b'_' b'_' b'_' b'x' b'x' b'_' b'_' b'_' b'_' b'A' b'B']\n",
            " [b'_' b'_' b'_' b'x' b'_' b'_' b'x' b'x' b'_' b'_' b'_' b'_' b'x' b'_']\n",
            " [b'_' b'_' b'_' b'x' b'_' b'_' b'x' b'_' b'_' b'_' b'_' b'x' b'x' b'_']\n",
            " [b'_' b'_' b'_' b'x' b'_' b'_' b'_' b'_' b'_' b'_' b'_' b'x' b'x' b'G']\n",
            " [b'_' b'_' b'_' b'x' b'_' b'_' b'_' b'_' b'_' b'_' b'_' b'x' b'x' b'_']]\n",
            "step: 33, state: (0, 12, 1, 13), actions: 1,␣reward: -6\n",
            "Action: 1\n",
            "[[b'_' b'_' b'_' b'_' b'_' b'_' b'x' b'x' b'_' b'_' b'_' b'_' b'A' b'_']\n",
            " [b'_' b'_' b'_' b'_' b'_' b'_' b'x' b'x' b'_' b'_' b'_' b'_' b'_' b'B']\n",
            " [b'_' b'_' b'_' b'x' b'_' b'_' b'x' b'x' b'_' b'_' b'_' b'_' b'x' b'_']\n",
            " [b'_' b'_' b'_' b'x' b'_' b'_' b'x' b'_' b'_' b'_' b'_' b'x' b'x' b'_']\n",
            " [b'_' b'_' b'_' b'x' b'_' b'_' b'_' b'_' b'_' b'_' b'_' b'x' b'x' b'G']\n",
            " [b'_' b'_' b'_' b'x' b'_' b'_' b'_' b'_' b'_' b'_' b'_' b'x' b'x' b'_']]\n",
            "step: 34, state: (0, 13, 1, 13), actions: 4,␣reward: -5\n",
            "Action: 4\n",
            "[[b'_' b'_' b'_' b'_' b'_' b'_' b'x' b'x' b'_' b'_' b'_' b'_' b'_' b'A']\n",
            " [b'_' b'_' b'_' b'_' b'_' b'_' b'x' b'x' b'_' b'_' b'_' b'_' b'_' b'B']\n",
            " [b'_' b'_' b'_' b'x' b'_' b'_' b'x' b'x' b'_' b'_' b'_' b'_' b'x' b'_']\n",
            " [b'_' b'_' b'_' b'x' b'_' b'_' b'x' b'_' b'_' b'_' b'_' b'x' b'x' b'_']\n",
            " [b'_' b'_' b'_' b'x' b'_' b'_' b'_' b'_' b'_' b'_' b'_' b'x' b'x' b'G']\n",
            " [b'_' b'_' b'_' b'x' b'_' b'_' b'_' b'_' b'_' b'_' b'_' b'x' b'x' b'_']]\n",
            "step: 35, state: (1, 13, 2, 13), actions: 2,␣reward: -4\n",
            "Action: 2\n",
            "[[b'_' b'_' b'_' b'_' b'_' b'_' b'x' b'x' b'_' b'_' b'_' b'_' b'_' b'_']\n",
            " [b'_' b'_' b'_' b'_' b'_' b'_' b'x' b'x' b'_' b'_' b'_' b'_' b'_' b'A']\n",
            " [b'_' b'_' b'_' b'x' b'_' b'_' b'x' b'x' b'_' b'_' b'_' b'_' b'x' b'B']\n",
            " [b'_' b'_' b'_' b'x' b'_' b'_' b'x' b'_' b'_' b'_' b'_' b'x' b'x' b'_']\n",
            " [b'_' b'_' b'_' b'x' b'_' b'_' b'_' b'_' b'_' b'_' b'_' b'x' b'x' b'G']\n",
            " [b'_' b'_' b'_' b'x' b'_' b'_' b'_' b'_' b'_' b'_' b'_' b'x' b'x' b'_']]\n",
            "step: 36, state: (2, 13, 3, 13), actions: 2,␣reward: -3\n",
            "Action: 2\n",
            "[[b'_' b'_' b'_' b'_' b'_' b'_' b'x' b'x' b'_' b'_' b'_' b'_' b'_' b'_']\n",
            " [b'_' b'_' b'_' b'_' b'_' b'_' b'x' b'x' b'_' b'_' b'_' b'_' b'_' b'_']\n",
            " [b'_' b'_' b'_' b'x' b'_' b'_' b'x' b'x' b'_' b'_' b'_' b'_' b'x' b'A']\n",
            " [b'_' b'_' b'_' b'x' b'_' b'_' b'x' b'_' b'_' b'_' b'_' b'x' b'x' b'B']\n",
            " [b'_' b'_' b'_' b'x' b'_' b'_' b'_' b'_' b'_' b'_' b'_' b'x' b'x' b'G']\n",
            " [b'_' b'_' b'_' b'x' b'_' b'_' b'_' b'_' b'_' b'_' b'_' b'x' b'x' b'_']]\n",
            "step: 37, state: (3, 13, 4, 13), actions: 2,␣reward: 998\n",
            "Action: 2\n",
            "[[b'_' b'_' b'_' b'_' b'_' b'_' b'x' b'x' b'_' b'_' b'_' b'_' b'_' b'_']\n",
            " [b'_' b'_' b'_' b'_' b'_' b'_' b'x' b'x' b'_' b'_' b'_' b'_' b'_' b'_']\n",
            " [b'_' b'_' b'_' b'x' b'_' b'_' b'x' b'x' b'_' b'_' b'_' b'_' b'x' b'_']\n",
            " [b'_' b'_' b'_' b'x' b'_' b'_' b'x' b'_' b'_' b'_' b'_' b'x' b'x' b'A']\n",
            " [b'_' b'_' b'_' b'x' b'_' b'_' b'_' b'_' b'_' b'_' b'_' b'x' b'x' b'B']\n",
            " [b'_' b'_' b'_' b'x' b'_' b'_' b'_' b'_' b'_' b'_' b'_' b'x' b'x' b'_']]\n",
            "rewards: 642\n",
            "action history: [4, 1, 1, 1, 3, 1, 4, 4, 4, 4, 1, 4, 2, 2, 2, 3, 2, 4, 4, 4, 4, 4, 2, 4, 1, 1, 1, 3, 1, 4, 4, 4, 1, 4, 2, 2, 2]\n"
          ]
        }
      ],
      "source": [
        "visualize(Sagent.q_table)"
      ]
    },
    {
      "cell_type": "markdown",
      "metadata": {
        "id": "ocrJkAKms9qh"
      },
      "source": [
        "###SARSA algorithm with reward engineering"
      ]
    },
    {
      "cell_type": "markdown",
      "metadata": {
        "id": "6uWfHfs6GBFO"
      },
      "source": [
        "#### Training"
      ]
    },
    {
      "cell_type": "code",
      "execution_count": null,
      "metadata": {
        "colab": {
          "background_save": true
        },
        "id": "1eJDQSpnia_k"
      },
      "outputs": [],
      "source": [
        "##ATTENTION: Testing the results with reward engineering\n",
        "env = CliffBoxGridWorld()\n",
        "SagentRE = RLAgent(env, num_episodes = episodes, epsilon = epsilon, alpha = alpha, gamma = gamma )\n",
        "SrewardsRE = SagentRE.learn(reward_eng = True ,method = \"sarsa\")"
      ]
    },
    {
      "cell_type": "markdown",
      "metadata": {
        "id": "7IAQv-ACGHZ1"
      },
      "source": [
        "####Plotting the Learning Curve"
      ]
    },
    {
      "cell_type": "code",
      "execution_count": null,
      "metadata": {
        "colab": {
          "background_save": true
        },
        "id": "AcbKZkG0GthC",
        "outputId": "83b5e192-9df6-4239-cac8-3274b6068eca"
      },
      "outputs": [
        {
          "data": {
            "image/png": "[encoded data removed]",
            "text/plain": [
              "<Figure size 640x480 with 1 Axes>"
            ]
          },
          "metadata": {},
          "output_type": "display_data"
        }
      ],
      "source": [
        "smooth_plot(SrewardsRE)"
      ]
    },
    {
      "cell_type": "markdown",
      "metadata": {
        "id": "dHuvRLxsGGyu"
      },
      "source": [
        "####Visualizing the V-Table and the Policy"
      ]
    },
    {
      "cell_type": "code",
      "execution_count": null,
      "metadata": {
        "colab": {
          "background_save": true
        },
        "id": "628QV0MeGvt8",
        "outputId": "655863aa-fc74-44bc-a087-307a59a89f6e"
      },
      "outputs": [
        {
          "name": "stdout",
          "output_type": "stream",
          "text": [
            "V-Table:\n",
            "0 [-54.52 -53.91 -56.17 -52.3  -53.25 -46.37   0.     0.   -44.09 -45.37 -42.48 -33.76 -37.52 -28.19]\n",
            "1 [-45.73 -42.14 -43.51 -46.26 -45.85 -43.91   0.     0.   -34.74 -34.68 -34.39 -31.69 -30.45 -25.48]\n",
            "2 [-52.01 -42.71 -45.69   0.   -42.59 -44.1    0.     0.   -42.82 -32.86 -34.86 -43.81   0.   -34.11]\n",
            "3 [-49.1  -42.07 -51.64   0.   -48.71 -43.45   0.   -48.43 -32.06 -35.53 -43.41   0.     0.   -45.  ]\n",
            "4 [-51.73 -41.61 -50.86   0.   -41.69 -42.07 -40.82 -43.05 -37.74 -37.   -45.48   0.     0.   -44.22]\n",
            "5 [-52.84 -46.87 -55.48   0.   -51.6  -54.48 -51.63 -49.15 -46.53 -37.69 -45.85   0.     0.   -43.8 ]\n",
            "Learned Policy\n",
            "[[b'_' b'_' b'_' b'_' b'_' b'_' b'x' b'x' b'_' b'_' b'_' b'_' b'_' b'_']\n",
            " [b'_' b'_' b'_' b'_' b'_' b'_' b'x' b'x' b'_' b'_' b'_' b'_' b'_' b'_']\n",
            " [b'_' b'_' b'_' b'x' b'_' b'_' b'x' b'x' b'_' b'_' b'_' b'_' b'x' b'_']\n",
            " [b'_' b'_' b'_' b'x' b'_' b'_' b'x' b'_' b'_' b'_' b'_' b'x' b'x' b'_']\n",
            " [b'_' b'B' b'_' b'x' b'_' b'_' b'_' b'_' b'_' b'_' b'_' b'x' b'x' b'G']\n",
            " [b'A' b'_' b'_' b'x' b'_' b'_' b'_' b'_' b'_' b'_' b'_' b'x' b'x' b'_']]\n",
            "step: 1, state: (5, 1, 4, 1), actions: 4,␣reward: -14\n",
            "Action: 4\n",
            "[[b'_' b'_' b'_' b'_' b'_' b'_' b'x' b'x' b'_' b'_' b'_' b'_' b'_' b'_']\n",
            " [b'_' b'_' b'_' b'_' b'_' b'_' b'x' b'x' b'_' b'_' b'_' b'_' b'_' b'_']\n",
            " [b'_' b'_' b'_' b'x' b'_' b'_' b'x' b'x' b'_' b'_' b'_' b'_' b'x' b'_']\n",
            " [b'_' b'_' b'_' b'x' b'_' b'_' b'x' b'_' b'_' b'_' b'_' b'x' b'x' b'_']\n",
            " [b'_' b'B' b'_' b'x' b'_' b'_' b'_' b'_' b'_' b'_' b'_' b'x' b'x' b'G']\n",
            " [b'_' b'A' b'_' b'x' b'_' b'_' b'_' b'_' b'_' b'_' b'_' b'x' b'x' b'_']]\n",
            "step: 2, state: (4, 1, 3, 1), actions: 1,␣reward: -15\n",
            "Action: 1\n",
            "[[b'_' b'_' b'_' b'_' b'_' b'_' b'x' b'x' b'_' b'_' b'_' b'_' b'_' b'_']\n",
            " [b'_' b'_' b'_' b'_' b'_' b'_' b'x' b'x' b'_' b'_' b'_' b'_' b'_' b'_']\n",
            " [b'_' b'_' b'_' b'x' b'_' b'_' b'x' b'x' b'_' b'_' b'_' b'_' b'x' b'_']\n",
            " [b'_' b'B' b'_' b'x' b'_' b'_' b'x' b'_' b'_' b'_' b'_' b'x' b'x' b'_']\n",
            " [b'_' b'A' b'_' b'x' b'_' b'_' b'_' b'_' b'_' b'_' b'_' b'x' b'x' b'G']\n",
            " [b'_' b'_' b'_' b'x' b'_' b'_' b'_' b'_' b'_' b'_' b'_' b'x' b'x' b'_']]\n",
            "step: 3, state: (3, 1, 2, 1), actions: 1,␣reward: -16\n",
            "Action: 1\n",
            "[[b'_' b'_' b'_' b'_' b'_' b'_' b'x' b'x' b'_' b'_' b'_' b'_' b'_' b'_']\n",
            " [b'_' b'_' b'_' b'_' b'_' b'_' b'x' b'x' b'_' b'_' b'_' b'_' b'_' b'_']\n",
            " [b'_' b'B' b'_' b'x' b'_' b'_' b'x' b'x' b'_' b'_' b'_' b'_' b'x' b'_']\n",
            " [b'_' b'A' b'_' b'x' b'_' b'_' b'x' b'_' b'_' b'_' b'_' b'x' b'x' b'_']\n",
            " [b'_' b'_' b'_' b'x' b'_' b'_' b'_' b'_' b'_' b'_' b'_' b'x' b'x' b'G']\n",
            " [b'_' b'_' b'_' b'x' b'_' b'_' b'_' b'_' b'_' b'_' b'_' b'x' b'x' b'_']]\n",
            "step: 4, state: (2, 1, 1, 1), actions: 1,␣reward: -17\n",
            "Action: 1\n",
            "[[b'_' b'_' b'_' b'_' b'_' b'_' b'x' b'x' b'_' b'_' b'_' b'_' b'_' b'_']\n",
            " [b'_' b'B' b'_' b'_' b'_' b'_' b'x' b'x' b'_' b'_' b'_' b'_' b'_' b'_']\n",
            " [b'_' b'A' b'_' b'x' b'_' b'_' b'x' b'x' b'_' b'_' b'_' b'_' b'x' b'_']\n",
            " [b'_' b'_' b'_' b'x' b'_' b'_' b'x' b'_' b'_' b'_' b'_' b'x' b'x' b'_']\n",
            " [b'_' b'_' b'_' b'x' b'_' b'_' b'_' b'_' b'_' b'_' b'_' b'x' b'x' b'G']\n",
            " [b'_' b'_' b'_' b'x' b'_' b'_' b'_' b'_' b'_' b'_' b'_' b'x' b'x' b'_']]\n",
            "step: 5, state: (2, 0, 1, 1), actions: 3,␣reward: -18\n",
            "Action: 3\n",
            "[[b'_' b'_' b'_' b'_' b'_' b'_' b'x' b'x' b'_' b'_' b'_' b'_' b'_' b'_']\n",
            " [b'_' b'B' b'_' b'_' b'_' b'_' b'x' b'x' b'_' b'_' b'_' b'_' b'_' b'_']\n",
            " [b'A' b'_' b'_' b'x' b'_' b'_' b'x' b'x' b'_' b'_' b'_' b'_' b'x' b'_']\n",
            " [b'_' b'_' b'_' b'x' b'_' b'_' b'x' b'_' b'_' b'_' b'_' b'x' b'x' b'_']\n",
            " [b'_' b'_' b'_' b'x' b'_' b'_' b'_' b'_' b'_' b'_' b'_' b'x' b'x' b'G']\n",
            " [b'_' b'_' b'_' b'x' b'_' b'_' b'_' b'_' b'_' b'_' b'_' b'x' b'x' b'_']]\n",
            "step: 6, state: (1, 0, 1, 1), actions: 1,␣reward: -17\n",
            "Action: 1\n",
            "[[b'_' b'_' b'_' b'_' b'_' b'_' b'x' b'x' b'_' b'_' b'_' b'_' b'_' b'_']\n",
            " [b'A' b'B' b'_' b'_' b'_' b'_' b'x' b'x' b'_' b'_' b'_' b'_' b'_' b'_']\n",
            " [b'_' b'_' b'_' b'x' b'_' b'_' b'x' b'x' b'_' b'_' b'_' b'_' b'x' b'_']\n",
            " [b'_' b'_' b'_' b'x' b'_' b'_' b'x' b'_' b'_' b'_' b'_' b'x' b'x' b'_']\n",
            " [b'_' b'_' b'_' b'x' b'_' b'_' b'_' b'_' b'_' b'_' b'_' b'x' b'x' b'G']\n",
            " [b'_' b'_' b'_' b'x' b'_' b'_' b'_' b'_' b'_' b'_' b'_' b'x' b'x' b'_']]\n",
            "step: 7, state: (1, 1, 1, 2), actions: 4,␣reward: -16\n",
            "Action: 4\n",
            "[[b'_' b'_' b'_' b'_' b'_' b'_' b'x' b'x' b'_' b'_' b'_' b'_' b'_' b'_']\n",
            " [b'_' b'A' b'B' b'_' b'_' b'_' b'x' b'x' b'_' b'_' b'_' b'_' b'_' b'_']\n",
            " [b'_' b'_' b'_' b'x' b'_' b'_' b'x' b'x' b'_' b'_' b'_' b'_' b'x' b'_']\n",
            " [b'_' b'_' b'_' b'x' b'_' b'_' b'x' b'_' b'_' b'_' b'_' b'x' b'x' b'_']\n",
            " [b'_' b'_' b'_' b'x' b'_' b'_' b'_' b'_' b'_' b'_' b'_' b'x' b'x' b'G']\n",
            " [b'_' b'_' b'_' b'x' b'_' b'_' b'_' b'_' b'_' b'_' b'_' b'x' b'x' b'_']]\n",
            "step: 8, state: (1, 2, 1, 3), actions: 4,␣reward: -15\n",
            "Action: 4\n",
            "[[b'_' b'_' b'_' b'_' b'_' b'_' b'x' b'x' b'_' b'_' b'_' b'_' b'_' b'_']\n",
            " [b'_' b'_' b'A' b'B' b'_' b'_' b'x' b'x' b'_' b'_' b'_' b'_' b'_' b'_']\n",
            " [b'_' b'_' b'_' b'x' b'_' b'_' b'x' b'x' b'_' b'_' b'_' b'_' b'x' b'_']\n",
            " [b'_' b'_' b'_' b'x' b'_' b'_' b'x' b'_' b'_' b'_' b'_' b'x' b'x' b'_']\n",
            " [b'_' b'_' b'_' b'x' b'_' b'_' b'_' b'_' b'_' b'_' b'_' b'x' b'x' b'G']\n",
            " [b'_' b'_' b'_' b'x' b'_' b'_' b'_' b'_' b'_' b'_' b'_' b'x' b'x' b'_']]\n",
            "step: 9, state: (1, 3, 1, 4), actions: 4,␣reward: -14\n",
            "Action: 4\n",
            "[[b'_' b'_' b'_' b'_' b'_' b'_' b'x' b'x' b'_' b'_' b'_' b'_' b'_' b'_']\n",
            " [b'_' b'_' b'_' b'A' b'B' b'_' b'x' b'x' b'_' b'_' b'_' b'_' b'_' b'_']\n",
            " [b'_' b'_' b'_' b'x' b'_' b'_' b'x' b'x' b'_' b'_' b'_' b'_' b'x' b'_']\n",
            " [b'_' b'_' b'_' b'x' b'_' b'_' b'x' b'_' b'_' b'_' b'_' b'x' b'x' b'_']\n",
            " [b'_' b'_' b'_' b'x' b'_' b'_' b'_' b'_' b'_' b'_' b'_' b'x' b'x' b'G']\n",
            " [b'_' b'_' b'_' b'x' b'_' b'_' b'_' b'_' b'_' b'_' b'_' b'x' b'x' b'_']]\n",
            "step: 10, state: (1, 4, 1, 5), actions: 4,␣reward: -13\n",
            "Action: 4\n",
            "[[b'_' b'_' b'_' b'_' b'_' b'_' b'x' b'x' b'_' b'_' b'_' b'_' b'_' b'_']\n",
            " [b'_' b'_' b'_' b'_' b'A' b'B' b'x' b'x' b'_' b'_' b'_' b'_' b'_' b'_']\n",
            " [b'_' b'_' b'_' b'x' b'_' b'_' b'x' b'x' b'_' b'_' b'_' b'_' b'x' b'_']\n",
            " [b'_' b'_' b'_' b'x' b'_' b'_' b'x' b'_' b'_' b'_' b'_' b'x' b'x' b'_']\n",
            " [b'_' b'_' b'_' b'x' b'_' b'_' b'_' b'_' b'_' b'_' b'_' b'x' b'x' b'G']\n",
            " [b'_' b'_' b'_' b'x' b'_' b'_' b'_' b'_' b'_' b'_' b'_' b'x' b'x' b'_']]\n",
            "step: 11, state: (0, 4, 1, 5), actions: 1,␣reward: -14\n",
            "Action: 1\n",
            "[[b'_' b'_' b'_' b'_' b'A' b'_' b'x' b'x' b'_' b'_' b'_' b'_' b'_' b'_']\n",
            " [b'_' b'_' b'_' b'_' b'_' b'B' b'x' b'x' b'_' b'_' b'_' b'_' b'_' b'_']\n",
            " [b'_' b'_' b'_' b'x' b'_' b'_' b'x' b'x' b'_' b'_' b'_' b'_' b'x' b'_']\n",
            " [b'_' b'_' b'_' b'x' b'_' b'_' b'x' b'_' b'_' b'_' b'_' b'x' b'x' b'_']\n",
            " [b'_' b'_' b'_' b'x' b'_' b'_' b'_' b'_' b'_' b'_' b'_' b'x' b'x' b'G']\n",
            " [b'_' b'_' b'_' b'x' b'_' b'_' b'_' b'_' b'_' b'_' b'_' b'x' b'x' b'_']]\n",
            "step: 12, state: (0, 5, 1, 5), actions: 4,␣reward: -13\n",
            "Action: 4\n",
            "[[b'_' b'_' b'_' b'_' b'_' b'A' b'x' b'x' b'_' b'_' b'_' b'_' b'_' b'_']\n",
            " [b'_' b'_' b'_' b'_' b'_' b'B' b'x' b'x' b'_' b'_' b'_' b'_' b'_' b'_']\n",
            " [b'_' b'_' b'_' b'x' b'_' b'_' b'x' b'x' b'_' b'_' b'_' b'_' b'x' b'_']\n",
            " [b'_' b'_' b'_' b'x' b'_' b'_' b'x' b'_' b'_' b'_' b'_' b'x' b'x' b'_']\n",
            " [b'_' b'_' b'_' b'x' b'_' b'_' b'_' b'_' b'_' b'_' b'_' b'x' b'x' b'G']\n",
            " [b'_' b'_' b'_' b'x' b'_' b'_' b'_' b'_' b'_' b'_' b'_' b'x' b'x' b'_']]\n",
            "step: 13, state: (1, 5, 2, 5), actions: 2,␣reward: -12\n",
            "Action: 2\n",
            "[[b'_' b'_' b'_' b'_' b'_' b'_' b'x' b'x' b'_' b'_' b'_' b'_' b'_' b'_']\n",
            " [b'_' b'_' b'_' b'_' b'_' b'A' b'x' b'x' b'_' b'_' b'_' b'_' b'_' b'_']\n",
            " [b'_' b'_' b'_' b'x' b'_' b'B' b'x' b'x' b'_' b'_' b'_' b'_' b'x' b'_']\n",
            " [b'_' b'_' b'_' b'x' b'_' b'_' b'x' b'_' b'_' b'_' b'_' b'x' b'x' b'_']\n",
            " [b'_' b'_' b'_' b'x' b'_' b'_' b'_' b'_' b'_' b'_' b'_' b'x' b'x' b'G']\n",
            " [b'_' b'_' b'_' b'x' b'_' b'_' b'_' b'_' b'_' b'_' b'_' b'x' b'x' b'_']]\n",
            "step: 14, state: (2, 5, 3, 5), actions: 2,␣reward: -11\n",
            "Action: 2\n",
            "[[b'_' b'_' b'_' b'_' b'_' b'_' b'x' b'x' b'_' b'_' b'_' b'_' b'_' b'_']\n",
            " [b'_' b'_' b'_' b'_' b'_' b'_' b'x' b'x' b'_' b'_' b'_' b'_' b'_' b'_']\n",
            " [b'_' b'_' b'_' b'x' b'_' b'A' b'x' b'x' b'_' b'_' b'_' b'_' b'x' b'_']\n",
            " [b'_' b'_' b'_' b'x' b'_' b'B' b'x' b'_' b'_' b'_' b'_' b'x' b'x' b'_']\n",
            " [b'_' b'_' b'_' b'x' b'_' b'_' b'_' b'_' b'_' b'_' b'_' b'x' b'x' b'G']\n",
            " [b'_' b'_' b'_' b'x' b'_' b'_' b'_' b'_' b'_' b'_' b'_' b'x' b'x' b'_']]\n",
            "step: 15, state: (3, 5, 4, 5), actions: 2,␣reward: -10\n",
            "Action: 2\n",
            "[[b'_' b'_' b'_' b'_' b'_' b'_' b'x' b'x' b'_' b'_' b'_' b'_' b'_' b'_']\n",
            " [b'_' b'_' b'_' b'_' b'_' b'_' b'x' b'x' b'_' b'_' b'_' b'_' b'_' b'_']\n",
            " [b'_' b'_' b'_' b'x' b'_' b'_' b'x' b'x' b'_' b'_' b'_' b'_' b'x' b'_']\n",
            " [b'_' b'_' b'_' b'x' b'_' b'A' b'x' b'_' b'_' b'_' b'_' b'x' b'x' b'_']\n",
            " [b'_' b'_' b'_' b'x' b'_' b'B' b'_' b'_' b'_' b'_' b'_' b'x' b'x' b'G']\n",
            " [b'_' b'_' b'_' b'x' b'_' b'_' b'_' b'_' b'_' b'_' b'_' b'x' b'x' b'_']]\n",
            "step: 16, state: (3, 4, 4, 5), actions: 3,␣reward: -11\n",
            "Action: 3\n",
            "[[b'_' b'_' b'_' b'_' b'_' b'_' b'x' b'x' b'_' b'_' b'_' b'_' b'_' b'_']\n",
            " [b'_' b'_' b'_' b'_' b'_' b'_' b'x' b'x' b'_' b'_' b'_' b'_' b'_' b'_']\n",
            " [b'_' b'_' b'_' b'x' b'_' b'_' b'x' b'x' b'_' b'_' b'_' b'_' b'x' b'_']\n",
            " [b'_' b'_' b'_' b'x' b'A' b'_' b'x' b'_' b'_' b'_' b'_' b'x' b'x' b'_']\n",
            " [b'_' b'_' b'_' b'x' b'_' b'B' b'_' b'_' b'_' b'_' b'_' b'x' b'x' b'G']\n",
            " [b'_' b'_' b'_' b'x' b'_' b'_' b'_' b'_' b'_' b'_' b'_' b'x' b'x' b'_']]\n",
            "step: 17, state: (4, 4, 4, 5), actions: 2,␣reward: -10\n",
            "Action: 2\n",
            "[[b'_' b'_' b'_' b'_' b'_' b'_' b'x' b'x' b'_' b'_' b'_' b'_' b'_' b'_']\n",
            " [b'_' b'_' b'_' b'_' b'_' b'_' b'x' b'x' b'_' b'_' b'_' b'_' b'_' b'_']\n",
            " [b'_' b'_' b'_' b'x' b'_' b'_' b'x' b'x' b'_' b'_' b'_' b'_' b'x' b'_']\n",
            " [b'_' b'_' b'_' b'x' b'_' b'_' b'x' b'_' b'_' b'_' b'_' b'x' b'x' b'_']\n",
            " [b'_' b'_' b'_' b'x' b'A' b'B' b'_' b'_' b'_' b'_' b'_' b'x' b'x' b'G']\n",
            " [b'_' b'_' b'_' b'x' b'_' b'_' b'_' b'_' b'_' b'_' b'_' b'x' b'x' b'_']]\n",
            "step: 18, state: (4, 5, 4, 6), actions: 4,␣reward: -9\n",
            "Action: 4\n",
            "[[b'_' b'_' b'_' b'_' b'_' b'_' b'x' b'x' b'_' b'_' b'_' b'_' b'_' b'_']\n",
            " [b'_' b'_' b'_' b'_' b'_' b'_' b'x' b'x' b'_' b'_' b'_' b'_' b'_' b'_']\n",
            " [b'_' b'_' b'_' b'x' b'_' b'_' b'x' b'x' b'_' b'_' b'_' b'_' b'x' b'_']\n",
            " [b'_' b'_' b'_' b'x' b'_' b'_' b'x' b'_' b'_' b'_' b'_' b'x' b'x' b'_']\n",
            " [b'_' b'_' b'_' b'x' b'_' b'A' b'B' b'_' b'_' b'_' b'_' b'x' b'x' b'G']\n",
            " [b'_' b'_' b'_' b'x' b'_' b'_' b'_' b'_' b'_' b'_' b'_' b'x' b'x' b'_']]\n",
            "step: 19, state: (4, 6, 4, 7), actions: 4,␣reward: -8\n",
            "Action: 4\n",
            "[[b'_' b'_' b'_' b'_' b'_' b'_' b'x' b'x' b'_' b'_' b'_' b'_' b'_' b'_']\n",
            " [b'_' b'_' b'_' b'_' b'_' b'_' b'x' b'x' b'_' b'_' b'_' b'_' b'_' b'_']\n",
            " [b'_' b'_' b'_' b'x' b'_' b'_' b'x' b'x' b'_' b'_' b'_' b'_' b'x' b'_']\n",
            " [b'_' b'_' b'_' b'x' b'_' b'_' b'x' b'_' b'_' b'_' b'_' b'x' b'x' b'_']\n",
            " [b'_' b'_' b'_' b'x' b'_' b'_' b'A' b'B' b'_' b'_' b'_' b'x' b'x' b'G']\n",
            " [b'_' b'_' b'_' b'x' b'_' b'_' b'_' b'_' b'_' b'_' b'_' b'x' b'x' b'_']]\n",
            "step: 20, state: (4, 7, 4, 8), actions: 4,␣reward: -7\n",
            "Action: 4\n",
            "[[b'_' b'_' b'_' b'_' b'_' b'_' b'x' b'x' b'_' b'_' b'_' b'_' b'_' b'_']\n",
            " [b'_' b'_' b'_' b'_' b'_' b'_' b'x' b'x' b'_' b'_' b'_' b'_' b'_' b'_']\n",
            " [b'_' b'_' b'_' b'x' b'_' b'_' b'x' b'x' b'_' b'_' b'_' b'_' b'x' b'_']\n",
            " [b'_' b'_' b'_' b'x' b'_' b'_' b'x' b'_' b'_' b'_' b'_' b'x' b'x' b'_']\n",
            " [b'_' b'_' b'_' b'x' b'_' b'_' b'_' b'A' b'B' b'_' b'_' b'x' b'x' b'G']\n",
            " [b'_' b'_' b'_' b'x' b'_' b'_' b'_' b'_' b'_' b'_' b'_' b'x' b'x' b'_']]\n",
            "step: 21, state: (4, 8, 4, 9), actions: 4,␣reward: -6\n",
            "Action: 4\n",
            "[[b'_' b'_' b'_' b'_' b'_' b'_' b'x' b'x' b'_' b'_' b'_' b'_' b'_' b'_']\n",
            " [b'_' b'_' b'_' b'_' b'_' b'_' b'x' b'x' b'_' b'_' b'_' b'_' b'_' b'_']\n",
            " [b'_' b'_' b'_' b'x' b'_' b'_' b'x' b'x' b'_' b'_' b'_' b'_' b'x' b'_']\n",
            " [b'_' b'_' b'_' b'x' b'_' b'_' b'x' b'_' b'_' b'_' b'_' b'x' b'x' b'_']\n",
            " [b'_' b'_' b'_' b'x' b'_' b'_' b'_' b'_' b'A' b'B' b'_' b'x' b'x' b'G']\n",
            " [b'_' b'_' b'_' b'x' b'_' b'_' b'_' b'_' b'_' b'_' b'_' b'x' b'x' b'_']]\n",
            "step: 22, state: (5, 8, 4, 9), actions: 2,␣reward: -7\n",
            "Action: 2\n",
            "[[b'_' b'_' b'_' b'_' b'_' b'_' b'x' b'x' b'_' b'_' b'_' b'_' b'_' b'_']\n",
            " [b'_' b'_' b'_' b'_' b'_' b'_' b'x' b'x' b'_' b'_' b'_' b'_' b'_' b'_']\n",
            " [b'_' b'_' b'_' b'x' b'_' b'_' b'x' b'x' b'_' b'_' b'_' b'_' b'x' b'_']\n",
            " [b'_' b'_' b'_' b'x' b'_' b'_' b'x' b'_' b'_' b'_' b'_' b'x' b'x' b'_']\n",
            " [b'_' b'_' b'_' b'x' b'_' b'_' b'_' b'_' b'_' b'B' b'_' b'x' b'x' b'G']\n",
            " [b'_' b'_' b'_' b'x' b'_' b'_' b'_' b'_' b'A' b'_' b'_' b'x' b'x' b'_']]\n",
            "step: 23, state: (5, 9, 4, 9), actions: 4,␣reward: -6\n",
            "Action: 4\n",
            "[[b'_' b'_' b'_' b'_' b'_' b'_' b'x' b'x' b'_' b'_' b'_' b'_' b'_' b'_']\n",
            " [b'_' b'_' b'_' b'_' b'_' b'_' b'x' b'x' b'_' b'_' b'_' b'_' b'_' b'_']\n",
            " [b'_' b'_' b'_' b'x' b'_' b'_' b'x' b'x' b'_' b'_' b'_' b'_' b'x' b'_']\n",
            " [b'_' b'_' b'_' b'x' b'_' b'_' b'x' b'_' b'_' b'_' b'_' b'x' b'x' b'_']\n",
            " [b'_' b'_' b'_' b'x' b'_' b'_' b'_' b'_' b'_' b'B' b'_' b'x' b'x' b'G']\n",
            " [b'_' b'_' b'_' b'x' b'_' b'_' b'_' b'_' b'_' b'A' b'_' b'x' b'x' b'_']]\n",
            "step: 24, state: (4, 9, 3, 9), actions: 1,␣reward: -7\n",
            "Action: 1\n",
            "[[b'_' b'_' b'_' b'_' b'_' b'_' b'x' b'x' b'_' b'_' b'_' b'_' b'_' b'_']\n",
            " [b'_' b'_' b'_' b'_' b'_' b'_' b'x' b'x' b'_' b'_' b'_' b'_' b'_' b'_']\n",
            " [b'_' b'_' b'_' b'x' b'_' b'_' b'x' b'x' b'_' b'_' b'_' b'_' b'x' b'_']\n",
            " [b'_' b'_' b'_' b'x' b'_' b'_' b'x' b'_' b'_' b'B' b'_' b'x' b'x' b'_']\n",
            " [b'_' b'_' b'_' b'x' b'_' b'_' b'_' b'_' b'_' b'A' b'_' b'x' b'x' b'G']\n",
            " [b'_' b'_' b'_' b'x' b'_' b'_' b'_' b'_' b'_' b'_' b'_' b'x' b'x' b'_']]\n",
            "step: 25, state: (3, 9, 2, 9), actions: 1,␣reward: -8\n",
            "Action: 1\n",
            "[[b'_' b'_' b'_' b'_' b'_' b'_' b'x' b'x' b'_' b'_' b'_' b'_' b'_' b'_']\n",
            " [b'_' b'_' b'_' b'_' b'_' b'_' b'x' b'x' b'_' b'_' b'_' b'_' b'_' b'_']\n",
            " [b'_' b'_' b'_' b'x' b'_' b'_' b'x' b'x' b'_' b'B' b'_' b'_' b'x' b'_']\n",
            " [b'_' b'_' b'_' b'x' b'_' b'_' b'x' b'_' b'_' b'A' b'_' b'x' b'x' b'_']\n",
            " [b'_' b'_' b'_' b'x' b'_' b'_' b'_' b'_' b'_' b'_' b'_' b'x' b'x' b'G']\n",
            " [b'_' b'_' b'_' b'x' b'_' b'_' b'_' b'_' b'_' b'_' b'_' b'x' b'x' b'_']]\n",
            "step: 26, state: (2, 9, 1, 9), actions: 1,␣reward: -9\n",
            "Action: 1\n",
            "[[b'_' b'_' b'_' b'_' b'_' b'_' b'x' b'x' b'_' b'_' b'_' b'_' b'_' b'_']\n",
            " [b'_' b'_' b'_' b'_' b'_' b'_' b'x' b'x' b'_' b'B' b'_' b'_' b'_' b'_']\n",
            " [b'_' b'_' b'_' b'x' b'_' b'_' b'x' b'x' b'_' b'A' b'_' b'_' b'x' b'_']\n",
            " [b'_' b'_' b'_' b'x' b'_' b'_' b'x' b'_' b'_' b'_' b'_' b'x' b'x' b'_']\n",
            " [b'_' b'_' b'_' b'x' b'_' b'_' b'_' b'_' b'_' b'_' b'_' b'x' b'x' b'G']\n",
            " [b'_' b'_' b'_' b'x' b'_' b'_' b'_' b'_' b'_' b'_' b'_' b'x' b'x' b'_']]\n",
            "step: 27, state: (2, 8, 1, 9), actions: 3,␣reward: -10\n",
            "Action: 3\n",
            "[[b'_' b'_' b'_' b'_' b'_' b'_' b'x' b'x' b'_' b'_' b'_' b'_' b'_' b'_']\n",
            " [b'_' b'_' b'_' b'_' b'_' b'_' b'x' b'x' b'_' b'B' b'_' b'_' b'_' b'_']\n",
            " [b'_' b'_' b'_' b'x' b'_' b'_' b'x' b'x' b'A' b'_' b'_' b'_' b'x' b'_']\n",
            " [b'_' b'_' b'_' b'x' b'_' b'_' b'x' b'_' b'_' b'_' b'_' b'x' b'x' b'_']\n",
            " [b'_' b'_' b'_' b'x' b'_' b'_' b'_' b'_' b'_' b'_' b'_' b'x' b'x' b'G']\n",
            " [b'_' b'_' b'_' b'x' b'_' b'_' b'_' b'_' b'_' b'_' b'_' b'x' b'x' b'_']]\n",
            "step: 28, state: (1, 8, 1, 9), actions: 1,␣reward: -9\n",
            "Action: 1\n",
            "[[b'_' b'_' b'_' b'_' b'_' b'_' b'x' b'x' b'_' b'_' b'_' b'_' b'_' b'_']\n",
            " [b'_' b'_' b'_' b'_' b'_' b'_' b'x' b'x' b'A' b'B' b'_' b'_' b'_' b'_']\n",
            " [b'_' b'_' b'_' b'x' b'_' b'_' b'x' b'x' b'_' b'_' b'_' b'_' b'x' b'_']\n",
            " [b'_' b'_' b'_' b'x' b'_' b'_' b'x' b'_' b'_' b'_' b'_' b'x' b'x' b'_']\n",
            " [b'_' b'_' b'_' b'x' b'_' b'_' b'_' b'_' b'_' b'_' b'_' b'x' b'x' b'G']\n",
            " [b'_' b'_' b'_' b'x' b'_' b'_' b'_' b'_' b'_' b'_' b'_' b'x' b'x' b'_']]\n",
            "step: 29, state: (1, 9, 1, 10), actions: 4,␣reward: -8\n",
            "Action: 4\n",
            "[[b'_' b'_' b'_' b'_' b'_' b'_' b'x' b'x' b'_' b'_' b'_' b'_' b'_' b'_']\n",
            " [b'_' b'_' b'_' b'_' b'_' b'_' b'x' b'x' b'_' b'A' b'B' b'_' b'_' b'_']\n",
            " [b'_' b'_' b'_' b'x' b'_' b'_' b'x' b'x' b'_' b'_' b'_' b'_' b'x' b'_']\n",
            " [b'_' b'_' b'_' b'x' b'_' b'_' b'x' b'_' b'_' b'_' b'_' b'x' b'x' b'_']\n",
            " [b'_' b'_' b'_' b'x' b'_' b'_' b'_' b'_' b'_' b'_' b'_' b'x' b'x' b'G']\n",
            " [b'_' b'_' b'_' b'x' b'_' b'_' b'_' b'_' b'_' b'_' b'_' b'x' b'x' b'_']]\n",
            "step: 30, state: (1, 10, 1, 11), actions: 4,␣reward: -7\n",
            "Action: 4\n",
            "[[b'_' b'_' b'_' b'_' b'_' b'_' b'x' b'x' b'_' b'_' b'_' b'_' b'_' b'_']\n",
            " [b'_' b'_' b'_' b'_' b'_' b'_' b'x' b'x' b'_' b'_' b'A' b'B' b'_' b'_']\n",
            " [b'_' b'_' b'_' b'x' b'_' b'_' b'x' b'x' b'_' b'_' b'_' b'_' b'x' b'_']\n",
            " [b'_' b'_' b'_' b'x' b'_' b'_' b'x' b'_' b'_' b'_' b'_' b'x' b'x' b'_']\n",
            " [b'_' b'_' b'_' b'x' b'_' b'_' b'_' b'_' b'_' b'_' b'_' b'x' b'x' b'G']\n",
            " [b'_' b'_' b'_' b'x' b'_' b'_' b'_' b'_' b'_' b'_' b'_' b'x' b'x' b'_']]\n",
            "step: 31, state: (1, 11, 1, 12), actions: 4,␣reward: -6\n",
            "Action: 4\n",
            "[[b'_' b'_' b'_' b'_' b'_' b'_' b'x' b'x' b'_' b'_' b'_' b'_' b'_' b'_']\n",
            " [b'_' b'_' b'_' b'_' b'_' b'_' b'x' b'x' b'_' b'_' b'_' b'A' b'B' b'_']\n",
            " [b'_' b'_' b'_' b'x' b'_' b'_' b'x' b'x' b'_' b'_' b'_' b'_' b'x' b'_']\n",
            " [b'_' b'_' b'_' b'x' b'_' b'_' b'x' b'_' b'_' b'_' b'_' b'x' b'x' b'_']\n",
            " [b'_' b'_' b'_' b'x' b'_' b'_' b'_' b'_' b'_' b'_' b'_' b'x' b'x' b'G']\n",
            " [b'_' b'_' b'_' b'x' b'_' b'_' b'_' b'_' b'_' b'_' b'_' b'x' b'x' b'_']]\n",
            "step: 32, state: (1, 12, 1, 13), actions: 4,␣reward: -5\n",
            "Action: 4\n",
            "[[b'_' b'_' b'_' b'_' b'_' b'_' b'x' b'x' b'_' b'_' b'_' b'_' b'_' b'_']\n",
            " [b'_' b'_' b'_' b'_' b'_' b'_' b'x' b'x' b'_' b'_' b'_' b'_' b'A' b'B']\n",
            " [b'_' b'_' b'_' b'x' b'_' b'_' b'x' b'x' b'_' b'_' b'_' b'_' b'x' b'_']\n",
            " [b'_' b'_' b'_' b'x' b'_' b'_' b'x' b'_' b'_' b'_' b'_' b'x' b'x' b'_']\n",
            " [b'_' b'_' b'_' b'x' b'_' b'_' b'_' b'_' b'_' b'_' b'_' b'x' b'x' b'G']\n",
            " [b'_' b'_' b'_' b'x' b'_' b'_' b'_' b'_' b'_' b'_' b'_' b'x' b'x' b'_']]\n",
            "step: 33, state: (0, 12, 1, 13), actions: 1,␣reward: -6\n",
            "Action: 1\n",
            "[[b'_' b'_' b'_' b'_' b'_' b'_' b'x' b'x' b'_' b'_' b'_' b'_' b'A' b'_']\n",
            " [b'_' b'_' b'_' b'_' b'_' b'_' b'x' b'x' b'_' b'_' b'_' b'_' b'_' b'B']\n",
            " [b'_' b'_' b'_' b'x' b'_' b'_' b'x' b'x' b'_' b'_' b'_' b'_' b'x' b'_']\n",
            " [b'_' b'_' b'_' b'x' b'_' b'_' b'x' b'_' b'_' b'_' b'_' b'x' b'x' b'_']\n",
            " [b'_' b'_' b'_' b'x' b'_' b'_' b'_' b'_' b'_' b'_' b'_' b'x' b'x' b'G']\n",
            " [b'_' b'_' b'_' b'x' b'_' b'_' b'_' b'_' b'_' b'_' b'_' b'x' b'x' b'_']]\n",
            "step: 34, state: (0, 13, 1, 13), actions: 4,␣reward: -5\n",
            "Action: 4\n",
            "[[b'_' b'_' b'_' b'_' b'_' b'_' b'x' b'x' b'_' b'_' b'_' b'_' b'_' b'A']\n",
            " [b'_' b'_' b'_' b'_' b'_' b'_' b'x' b'x' b'_' b'_' b'_' b'_' b'_' b'B']\n",
            " [b'_' b'_' b'_' b'x' b'_' b'_' b'x' b'x' b'_' b'_' b'_' b'_' b'x' b'_']\n",
            " [b'_' b'_' b'_' b'x' b'_' b'_' b'x' b'_' b'_' b'_' b'_' b'x' b'x' b'_']\n",
            " [b'_' b'_' b'_' b'x' b'_' b'_' b'_' b'_' b'_' b'_' b'_' b'x' b'x' b'G']\n",
            " [b'_' b'_' b'_' b'x' b'_' b'_' b'_' b'_' b'_' b'_' b'_' b'x' b'x' b'_']]\n",
            "step: 35, state: (1, 13, 2, 13), actions: 2,␣reward: -4\n",
            "Action: 2\n",
            "[[b'_' b'_' b'_' b'_' b'_' b'_' b'x' b'x' b'_' b'_' b'_' b'_' b'_' b'_']\n",
            " [b'_' b'_' b'_' b'_' b'_' b'_' b'x' b'x' b'_' b'_' b'_' b'_' b'_' b'A']\n",
            " [b'_' b'_' b'_' b'x' b'_' b'_' b'x' b'x' b'_' b'_' b'_' b'_' b'x' b'B']\n",
            " [b'_' b'_' b'_' b'x' b'_' b'_' b'x' b'_' b'_' b'_' b'_' b'x' b'x' b'_']\n",
            " [b'_' b'_' b'_' b'x' b'_' b'_' b'_' b'_' b'_' b'_' b'_' b'x' b'x' b'G']\n",
            " [b'_' b'_' b'_' b'x' b'_' b'_' b'_' b'_' b'_' b'_' b'_' b'x' b'x' b'_']]\n",
            "step: 36, state: (2, 13, 3, 13), actions: 2,␣reward: -3\n",
            "Action: 2\n",
            "[[b'_' b'_' b'_' b'_' b'_' b'_' b'x' b'x' b'_' b'_' b'_' b'_' b'_' b'_']\n",
            " [b'_' b'_' b'_' b'_' b'_' b'_' b'x' b'x' b'_' b'_' b'_' b'_' b'_' b'_']\n",
            " [b'_' b'_' b'_' b'x' b'_' b'_' b'x' b'x' b'_' b'_' b'_' b'_' b'x' b'A']\n",
            " [b'_' b'_' b'_' b'x' b'_' b'_' b'x' b'_' b'_' b'_' b'_' b'x' b'x' b'B']\n",
            " [b'_' b'_' b'_' b'x' b'_' b'_' b'_' b'_' b'_' b'_' b'_' b'x' b'x' b'G']\n",
            " [b'_' b'_' b'_' b'x' b'_' b'_' b'_' b'_' b'_' b'_' b'_' b'x' b'x' b'_']]\n",
            "step: 37, state: (3, 13, 4, 13), actions: 2,␣reward: 998\n",
            "Action: 2\n",
            "[[b'_' b'_' b'_' b'_' b'_' b'_' b'x' b'x' b'_' b'_' b'_' b'_' b'_' b'_']\n",
            " [b'_' b'_' b'_' b'_' b'_' b'_' b'x' b'x' b'_' b'_' b'_' b'_' b'_' b'_']\n",
            " [b'_' b'_' b'_' b'x' b'_' b'_' b'x' b'x' b'_' b'_' b'_' b'_' b'x' b'_']\n",
            " [b'_' b'_' b'_' b'x' b'_' b'_' b'x' b'_' b'_' b'_' b'_' b'x' b'x' b'A']\n",
            " [b'_' b'_' b'_' b'x' b'_' b'_' b'_' b'_' b'_' b'_' b'_' b'x' b'x' b'B']\n",
            " [b'_' b'_' b'_' b'x' b'_' b'_' b'_' b'_' b'_' b'_' b'_' b'x' b'x' b'_']]\n",
            "rewards: 632\n",
            "action history: [4, 1, 1, 1, 3, 1, 4, 4, 4, 4, 1, 4, 2, 2, 2, 3, 2, 4, 4, 4, 4, 2, 4, 1, 1, 1, 3, 1, 4, 4, 4, 4, 1, 4, 2, 2, 2]\n"
          ]
        }
      ],
      "source": [
        "visualize(SagentRE.q_table)"
      ]
    },
    {
      "cell_type": "markdown",
      "metadata": {
        "id": "q17ESGhLog7M"
      },
      "source": [
        "##Comparison\n",
        " To compare the performance of Q-Learning and SARSA algorithms and see the effect of reinforcement learning I have reduced the learning rate $α$ to 0.02 and increased the number of episodes to $50,000$. The rest of the parameters are still the same."
      ]
    },
    {
      "cell_type": "code",
      "execution_count": null,
      "metadata": {
        "id": "ToF-YT76olLc"
      },
      "outputs": [],
      "source": [
        "episodes = 50000\n",
        "alpha = 0.02\n",
        "env = CliffBoxGridWorld()"
      ]
    },
    {
      "cell_type": "code",
      "execution_count": null,
      "metadata": {
        "colab": {
          "background_save": true
        },
        "id": "D8MH08xS-BxM",
        "outputId": "66868e0b-bc57-4ce6-c7c0-0d5e1cc12333"
      },
      "outputs": [
        {
          "name": "stdout",
          "output_type": "stream",
          "text": [
            "Time Taken for Q-Learning:  336.9257197380066\n",
            "Time Taken for Q-Learning with reward engineering:  304.46713495254517\n",
            "Time Taken for SARSA:  381.45063948631287\n",
            "Time Taken for SARSA with reward engineering:  415.4330704212189\n"
          ]
        }
      ],
      "source": [
        "start = time.time()\n",
        "Qagent = RLAgent(env, num_episodes = episodes, epsilon = epsilon, alpha = alpha, gamma = gamma )\n",
        "Qrewards = Qagent.learn()\n",
        "print(\"Time Taken for Q-Learning: \", time.time()-start)\n",
        "start = time.time()\n",
        "QagentRL = RLAgent(env, num_episodes = episodes, epsilon = epsilon, alpha = alpha, gamma = gamma )\n",
        "QrewardsRL = QagentRL.learn(reward_eng=True)\n",
        "print(\"Time Taken for Q-Learning with reward engineering: \", time.time()-start)\n",
        "start = time.time()\n",
        "Sagent = RLAgent(env, num_episodes = episodes, epsilon = epsilon, alpha = alpha, gamma = gamma )\n",
        "Srewards = Sagent.learn(method = \"sarsa\")\n",
        "print(\"Time Taken for SARSA: \", time.time()-start)\n",
        "start = time.time()\n",
        "SagentRL = RLAgent(env, num_episodes = episodes, epsilon = epsilon, alpha = alpha, gamma = gamma )\n",
        "SrewardsRL = SagentRL.learn(method = \"sarsa\",reward_eng=True)\n",
        "print(\"Time Taken for SARSA with reward engineering: \", time.time()-start)"
      ]
    },
    {
      "cell_type": "code",
      "execution_count": null,
      "metadata": {
        "colab": {
          "background_save": true
        },
        "id": "uSM3u7s8AdXR"
      },
      "outputs": [],
      "source": [
        "def smoothed(rewards):\n",
        "  weight=0.99\n",
        "  last = rewards[0]\n",
        "  smoothed = []\n",
        "  for v in rewards:\n",
        "      smoothed_val = last * weight + (1 - weight) * v\n",
        "      smoothed.append(smoothed_val)\n",
        "      last = smoothed_val\n",
        "  return smoothed\n"
      ]
    },
    {
      "cell_type": "code",
      "execution_count": null,
      "metadata": {
        "colab": {
          "background_save": true
        },
        "id": "YFNIdlxtBHQ7",
        "outputId": "c9ad21db-0544-4c03-9bbb-3144658bfb04"
      },
      "outputs": [
        {
          "data": {
            "text/plain": [
              "<matplotlib.legend.Legend at 0x7f7ced8b3a60>"
            ]
          },
          "execution_count": 10,
          "metadata": {},
          "output_type": "execute_result"
        },
        {
          "data": {
            "image/png": "[encoded data removed]",
            "text/plain": [
              "<Figure size 640x480 with 1 Axes>"
            ]
          },
          "metadata": {},
          "output_type": "display_data"
        }
      ],
      "source": [
        "# Plot the learning curve of all the algorithms\n",
        "plt.xlabel(\"Episodes\")\n",
        "plt.ylabel(\"Reward\")\n",
        "plt.plot(smoothed(Qrewards), label = \"Q-Learning\")\n",
        "plt.plot(smoothed(QrewardsRL), label = \"Q-Learning with RE\")\n",
        "plt.plot(smoothed(Srewards), label = \"SARSA\")\n",
        "plt.plot(smoothed(SrewardsRL), label = \"SARSA with RE\")\n",
        "plt.legend()"
      ]
    },
    {
      "cell_type": "markdown",
      "source": [
        "As expected the Q-Learning with RE learns the optimal policy with the maximum reward faster than all the other methods and takes the least time to compute.\n",
        "We can see from the learning plot that both the SARSA methods were oscillating around $-1500$ reward till $30,000$ episodes. SARSA might be a better choice than Q-Learning when we have large state spaces but for the assignment it can be seen that Q-Learning is better in terms of accuracy and computational time."
      ],
      "metadata": {
        "id": "6BXsw0E-X6-e"
      }
    },
    {
      "cell_type": "markdown",
      "metadata": {
        "id": "TfZrlHrmooeG"
      },
      "source": [
        "##Conclusion"
      ]
    },
    {
      "cell_type": "markdown",
      "source": [
        "For the given Grid World there is only one optimal policy: <br>  $[4, 1, 1, 1, 3, 1, 4, 4, 4, 4, 1, 4, 2, 2, 2, 3, 2, 4, 4, 4, 4, 4, 2, 4, 1, 1, 1, 3, 1, 4, 4, 4, 1, 4, 2, 2, 2]$\n",
        "for the agent to follow with the maximum possible reward of $642$.\n",
        "From Section 2 and 3 we can see that for all methods the box reaches the goal without either the agent or box falling in the cliff or the  maximum time step being exceeded. For all the methods except SARSA with RE (which takes an action path with the reward $632$) arrive at the same optimal policy. This is because SARSA aims to find the near optimal policy unlike Q-Learning which aims to find the optimal policy. SARSA is also more conservative during learning which is why when a new penalty was introduced during reward engineering it found a near optimal policy where the box maintained the maximum possible distance from the cells with cliffs on two connecting sides to reach the goal. Through this it can be concluded that for the purpose of our assignment Q-Learning with RE is the best model. But in a real life scenerio it might be safer to use SARSA with RE for a similar scenerio.\n",
        "\n"
      ],
      "metadata": {
        "id": "WXGB2AOIQwc9"
      }
    },
    {
      "cell_type": "markdown",
      "metadata": {
        "id": "MCpGRUieiv8e"
      },
      "source": [
        "## References\n",
        "\n",
        "1. https://www.learndatasci.com/tutorials/reinforcement-q-learning-scratch-python-openai-gym/\n",
        "2. https://www.datacamp.com/tutorial/introduction-q-learning-beginner-tutorial#q-learning-python-tutorial\n",
        "3. https://www.geeksforgeeks.org/sarsa-reinforcement-learning/"
      ]
    },
    {
      "cell_type": "code",
      "source": [
        "!apt-get install texlive texlive-xetex texlive-latex-extra pandoc textcomp\n",
        "!pip install pypandoc"
      ],
      "metadata": {
        "colab": {
          "base_uri": "https://localhost:8080/"
        },
        "id": "Bfe8JMM5cwJI",
        "outputId": "8be94b35-a99c-4023-bf4f-556a4e7f261b"
      },
      "execution_count": null,
      "outputs": [
        {
          "output_type": "stream",
          "name": "stdout",
          "text": [
            "Reading package lists... Done\n",
            "Building dependency tree... Done\n",
            "Reading state information... Done\n",
            "E: Unable to locate package textcomp\n",
            "Requirement already satisfied: pypandoc in /usr/local/lib/python3.10/dist-packages (1.12)\n"
          ]
        }
      ]
    },
    {
      "cell_type": "code",
      "source": [
        "!jupyter nbconvert --to PDF ./RLAgent.ipynb"
      ],
      "metadata": {
        "colab": {
          "base_uri": "https://localhost:8080/"
        },
        "id": "TyJcLEIfeK3y",
        "outputId": "04707ce0-e8ca-4a54-e962-9d93c346b62f"
      },
      "execution_count": null,
      "outputs": [
        {
          "output_type": "stream",
          "name": "stdout",
          "text": [
            "[NbConvertApp] Converting notebook ./RLAgent.ipynb to PDF\n",
            "[NbConvertApp] Support files will be in RLAgent_files/\n",
            "[NbConvertApp] Making directory ./RLAgent_files\n",
            "[NbConvertApp] Making directory ./RLAgent_files\n",
            "[NbConvertApp] Making directory ./RLAgent_files\n",
            "[NbConvertApp] Making directory ./RLAgent_files\n",
            "[NbConvertApp] Making directory ./RLAgent_files\n",
            "[NbConvertApp] Making directory ./RLAgent_files\n",
            "[NbConvertApp] Writing 176549 bytes to notebook.tex\n",
            "[NbConvertApp] Building PDF\n",
            "[NbConvertApp] Running xelatex 3 times: ['xelatex', 'notebook.tex', '-quiet']\n",
            "[NbConvertApp] Running bibtex 1 time: ['bibtex', 'notebook']\n",
            "[NbConvertApp] WARNING | bibtex had problems, most likely because there were no citations\n",
            "[NbConvertApp] PDF successfully created\n",
            "[NbConvertApp] Writing 298666 bytes to RLAgent.pdf\n"
          ]
        }
      ]
    },
    {
      "cell_type": "code",
      "source": [],
      "metadata": {
        "id": "1M9hIgjdBJC3"
      },
      "execution_count": null,
      "outputs": []
    }
  ],
  "metadata": {
    "colab": {
      "provenance": []
    },
    "kernelspec": {
      "display_name": "marl",
      "language": "python",
      "name": "python3"
    },
    "language_info": {
      "codemirror_mode": {
        "name": "ipython",
        "version": 3
      },
      "file_extension": ".py",
      "mimetype": "text/x-python",
      "name": "python",
      "nbconvert_exporter": "python",
      "pygments_lexer": "ipython3",
      "version": "3.8.16 (default, Jan 17 2023, 16:39:35) \n[Clang 14.0.6 ]"
    },
    "vscode": {
      "interpreter": {
        "hash": "2372fb78870ca5ddfbb77edbd31465c7991d171e5767f3094f475408094f996f"
      }
    }
  },
  "nbformat": 4,
  "nbformat_minor": 0
}